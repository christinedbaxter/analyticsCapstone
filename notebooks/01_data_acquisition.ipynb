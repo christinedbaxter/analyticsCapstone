{
 "cells": [
  {
   "cell_type": "markdown",
   "metadata": {},
   "source": [
    "# Analyzing the Relationship Between Weather Conditions and Migraine Incidents"
   ]
  },
  {
   "cell_type": "markdown",
   "metadata": {},
   "source": [
    "## 1. Introduction"
   ]
  },
  {
   "cell_type": "markdown",
   "metadata": {},
   "source": [
    "In this notebook, we will focus on acquiring the raw data needed for our analysis. We aim to study the correlation between weather patterns, specifically sea-level pressure, and the frequency of migraines."
   ]
  },
  {
   "cell_type": "markdown",
   "metadata": {},
   "source": [
    "## 2. Objectives"
   ]
  },
  {
   "cell_type": "markdown",
   "metadata": {},
   "source": [
    "-   To load weather data from our S3 storage bucket.\n",
    "-   To load migraine frequency data from our S3 storage bucket.\n",
    "-   To provide initial observations about the raw data."
   ]
  },
  {
   "cell_type": "markdown",
   "metadata": {},
   "source": [
    "## 3. Setup"
   ]
  },
  {
   "cell_type": "code",
   "execution_count": 2,
   "metadata": {},
   "outputs": [],
   "source": [
    "# Import the libraries\n",
    "from dotenv import load_dotenv\n",
    "import os\n",
    "import sys\n",
    "import pandas as pd\n",
    "pd.set_option('display.max_columns', None)\n",
    "\n",
    "# Load the environment variables\n",
    "load_dotenv(\"../config/.env\")\n",
    "\n",
    "scripts_path = os.getenv(\"SCRIPTS_PATH\")\n",
    "\n",
    "# Add the path to the scripts folder and import the functions\n",
    "if scripts_path not in sys.path:\n",
    "    sys.path.append(scripts_path)"
   ]
  },
  {
   "cell_type": "code",
   "execution_count": 3,
   "metadata": {},
   "outputs": [],
   "source": [
    "# Import necessary Python packages\n",
    "from raw_data import get_raw_dataframes"
   ]
  },
  {
   "cell_type": "markdown",
   "metadata": {},
   "source": [
    "## 4. Data Acquisition Overview"
   ]
  },
  {
   "cell_type": "markdown",
   "metadata": {},
   "source": [
    "-   **Weather Data**: Contains daily weather data, including sea-level pressure, from various locations.\n",
    "-   **Migraine Data**: Contains annual summaries of migraine frequencies in specific locations."
   ]
  },
  {
   "cell_type": "markdown",
   "metadata": {},
   "source": [
    "## 5. Loading Data"
   ]
  },
  {
   "cell_type": "code",
   "execution_count": 4,
   "metadata": {},
   "outputs": [
    {
     "name": "stdout",
     "output_type": "stream",
     "text": [
      "\n",
      "City Data:\n",
      "\n",
      "  station_id   city_name      country       state iso2 iso3   latitude  \\\n",
      "0      41515    Asadabad  Afghanistan       Kunar   AF  AFG  34.866000   \n",
      "1      38954    Fayzabad  Afghanistan  Badakhshan   AF  AFG  37.129761   \n",
      "2      41560   Jalalabad  Afghanistan   Nangarhar   AF  AFG  34.441527   \n",
      "3      38947      Kunduz  Afghanistan      Kunduz   AF  AFG  36.727951   \n",
      "4      38987  Qala i Naw  Afghanistan     Badghis   AF  AFG  34.983000   \n",
      "\n",
      "   longitude  \n",
      "0  71.150005  \n",
      "1  70.579247  \n",
      "2  70.436103  \n",
      "3  68.872530  \n",
      "4  63.133300  \n",
      "\n",
      "Country Data:\n",
      "\n",
      "          country     native_name iso2 iso3  population       area    capital  \\\n",
      "0     Afghanistan       افغانستان   AF  AFG  26023100.0   652230.0      Kabul   \n",
      "1         Albania       Shqipëria   AL  ALB   2895947.0    28748.0     Tirana   \n",
      "2         Algeria         الجزائر   DZ  DZA  38700000.0  2381741.0    Algiers   \n",
      "3  American Samoa  American Samoa   AS  ASM     55519.0      199.0  Pago Pago   \n",
      "4          Angola          Angola   AO  AGO  24383301.0  1246700.0     Luanda   \n",
      "\n",
      "   capital_lat  capital_lng                     region continent  \n",
      "0    34.526011    69.177684  Southern and Central Asia      Asia  \n",
      "1    41.326873    19.818791            Southern Europe    Europe  \n",
      "2    36.775361     3.060188            Northern Africa    Africa  \n",
      "3   -14.275479  -170.704830                  Polynesia   Oceania  \n",
      "4    -8.827270    13.243951             Central Africa    Africa  \n",
      "\n",
      "Weather Data:\n",
      "\n",
      "  station_id city_name       date  season  avg_temp_c  min_temp_c  max_temp_c  \\\n",
      "0      41515  Asadabad 1957-07-01  Summer        27.0        21.1        35.6   \n",
      "1      41515  Asadabad 1957-07-02  Summer        22.8        18.9        32.2   \n",
      "2      41515  Asadabad 1957-07-03  Summer        24.3        16.7        35.6   \n",
      "3      41515  Asadabad 1957-07-04  Summer        26.6        16.1        37.8   \n",
      "4      41515  Asadabad 1957-07-05  Summer        30.8        20.0        41.7   \n",
      "\n",
      "   precipitation_mm  snow_depth_mm  avg_wind_dir_deg  avg_wind_speed_kmh  \\\n",
      "0               0.0            NaN               NaN                 NaN   \n",
      "1               0.0            NaN               NaN                 NaN   \n",
      "2               1.0            NaN               NaN                 NaN   \n",
      "3               4.1            NaN               NaN                 NaN   \n",
      "4               0.0            NaN               NaN                 NaN   \n",
      "\n",
      "   peak_wind_gust_kmh  avg_sea_level_pres_hpa  sunshine_total_min  \n",
      "0                 NaN                     NaN                 NaN  \n",
      "1                 NaN                     NaN                 NaN  \n",
      "2                 NaN                     NaN                 NaN  \n",
      "3                 NaN                     NaN                 NaN  \n",
      "4                 NaN                     NaN                 NaN  \n",
      "\n",
      "Migraine Data:\n",
      "\n",
      "                              measure                  location   sex  \\\n",
      "0  YLDs (Years Lived with Disability)  United States of America  Both   \n",
      "1  YLDs (Years Lived with Disability)  United States of America  Both   \n",
      "2  YLDs (Years Lived with Disability)  United States of America  Both   \n",
      "3  YLDs (Years Lived with Disability)  United States of America  Both   \n",
      "4  YLDs (Years Lived with Disability)  United States of America  Both   \n",
      "\n",
      "        age     cause   metric  year           val         upper  \\\n",
      "0  All ages  Migraine   Number  1990  1.671805e+06  3.778398e+06   \n",
      "1  All ages  Migraine  Percent  1990  4.717688e-02  1.006749e-01   \n",
      "2  All ages  Migraine     Rate  1990  6.592145e+02  1.489872e+03   \n",
      "3  All ages  Migraine   Number  1991  1.685792e+06  3.829800e+06   \n",
      "4  All ages  Migraine  Percent  1991  4.728241e-02  1.003127e-01   \n",
      "\n",
      "           lower  \n",
      "0  241755.675720  \n",
      "1       0.007690  \n",
      "2      95.327429  \n",
      "3  246742.189926  \n",
      "4       0.007767  \n"
     ]
    }
   ],
   "source": [
    "# Load the data using our Python script\n",
    "city_data, country_data, weather_data, migraine_data = get_raw_dataframes()\n",
    "\n",
    "# Display sample rows from each DataFrame\n",
    "print(\"\\nCity Data:\\n\")\n",
    "print(city_data.head())\n",
    "\n",
    "# Display sample rows from each DataFrame\n",
    "print(\"\\nCountry Data:\\n\")\n",
    "print(country_data.head())\n",
    "\n",
    "# Display sample rows from each DataFrame\n",
    "print(\"\\nWeather Data:\\n\")\n",
    "print(weather_data.head())\n",
    "\n",
    "print(\"\\nMigraine Data:\\n\")\n",
    "print(migraine_data.head())\n"
   ]
  },
  {
   "cell_type": "markdown",
   "metadata": {},
   "source": [
    "## 6. Initial Observations"
   ]
  },
  {
   "cell_type": "markdown",
   "metadata": {},
   "source": [
    "- The weather data contains several missing values that we may need to address during preprocessing.\n",
    "- The migraine data contains no missing values.\n",
    "- Each dataset has columns that need removed as unnecessary for our analysis.\n",
    "- The migraine data is summarized annually, so we may need to aggregate weather data to match this level.\n",
    "- The countries table will need joined with the cities table to provide more context for the weather data, joining on `country` column.\n",
    "- The weather data will need to be joined with the combined cities and countries table, joining on `station_id` column.\n",
    "- The migraine data will need to be joined with the combined cities, countries, and weather table, joining on `city_name` column from weather data and `location_name` column from migraine data."
   ]
  },
  {
   "cell_type": "markdown",
   "metadata": {},
   "source": [
    "## 7. Next Steps"
   ]
  },
  {
   "cell_type": "markdown",
   "metadata": {},
   "source": [
    "The next notebook, **[02_data_preprocessing.ipynb](./02_data_preprocessing.ipynb)**, will focus on cleaning the data, handling missing values, and merging the datasets for analysis."
   ]
  },
  {
   "cell_type": "markdown",
   "metadata": {},
   "source": [
    "## 8. Summary"
   ]
  },
  {
   "cell_type": "markdown",
   "metadata": {},
   "source": [
    "-   Successfully acquired raw weather and migraine data from S3 storage.\n",
    "-   Identified some initial challenges like missing values and data granularity that will be addressed in subsequent notebooks."
   ]
  },
  {
   "cell_type": "markdown",
   "metadata": {},
   "source": [
    "## 9. References"
   ]
  },
  {
   "cell_type": "markdown",
   "metadata": {},
   "source": [
    "- Weather data source: [The Weather Dataset](https://www.kaggle.com/datasets/guillemservera/global-daily-climate-data/)\n",
    "\n",
    "- Migraine data source: [Global Burden of Disease Collaborative Network.](https://vizhub.healthdata.org/gbd-results/)\n",
    "\n",
    "    Global Burden of Disease Study 2019 (GBD 2019) Results.\n",
    "    Seattle, United States: Institute for Health Metrics and Evaluation (IHME), 2020.\n",
    "    Available from https://vizhub.healthdata.org/gbd-results/."
   ]
  }
 ],
 "metadata": {
  "kernelspec": {
   "display_name": "Python 3",
   "language": "python",
   "name": "python3"
  },
  "language_info": {
   "codemirror_mode": {
    "name": "ipython",
    "version": 3
   },
   "file_extension": ".py",
   "mimetype": "text/x-python",
   "name": "python",
   "nbconvert_exporter": "python",
   "pygments_lexer": "ipython3",
   "version": "3.12.0"
  }
 },
 "nbformat": 4,
 "nbformat_minor": 2
}
