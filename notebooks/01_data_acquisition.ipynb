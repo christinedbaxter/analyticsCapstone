{
 "cells": [
  {
   "cell_type": "markdown",
   "metadata": {},
   "source": [
    "headachegenetics.org_sites_default_files_migraine_ihgc2021_gws_gwama_0.txt"
   ]
  },
  {
   "cell_type": "code",
   "execution_count": 1,
   "metadata": {},
   "outputs": [
    {
     "name": "stdout",
     "output_type": "stream",
     "text": [
      "File ../data/weather/cities.csv not found.\n",
      "File ../data/weather/countries.csv not found.\n",
      "File ../data/weather/daily_weather.parquet not found.\n"
     ]
    }
   ],
   "source": [
    "import sys\n",
    "sys.path.append('../scripts')\n",
    "\n",
    "from data_acquisition import load_csv_file\n",
    "\n",
    "# Use the function to load your data\n",
    "cities_file_path = \"../data/weather/cities.csv\"\n",
    "countries_file_path = \"../data/weather/countries.csv\"\n",
    "daily_file_path = \"../data/weather/daily_weather.parquet\"\n",
    "df_cities = load_csv_file(cities_file_path)\n",
    "df_countries = load_csv_file(countries_file_path)\n",
    "df_daily = load_csv_file(daily_file_path)\n",
    "\n",
    "# Now you can use df in your analysis\n",
    "if df_cities is not None:\n",
    "    print(df_cities.head())\n",
    "\n",
    "if df_countries is not None:\n",
    "    print(df_countries.head())\n",
    "\n",
    "if df_daily is not None:\n",
    "    print(df_daily.head())"
   ]
  }
 ],
 "metadata": {
  "kernelspec": {
   "display_name": "Python 3",
   "language": "python",
   "name": "python3"
  },
  "language_info": {
   "codemirror_mode": {
    "name": "ipython",
    "version": 3
   },
   "file_extension": ".py",
   "mimetype": "text/x-python",
   "name": "python",
   "nbconvert_exporter": "python",
   "pygments_lexer": "ipython3",
   "version": "3.12.0rc2"
  }
 },
 "nbformat": 4,
 "nbformat_minor": 2
}
