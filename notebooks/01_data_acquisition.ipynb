{
 "cells": [
  {
   "cell_type": "markdown",
   "metadata": {},
   "source": [
    "# Acquiring data from the web"
   ]
  },
  {
   "cell_type": "markdown",
   "metadata": {},
   "source": [
    "## S3 Storage (AWS)"
   ]
  },
  {
   "cell_type": "code",
   "execution_count": null,
   "metadata": {},
   "outputs": [],
   "source": [
    "# Import the libraries\n",
    "from dotenv import load_dotenv\n",
    "load_dotenv('../config/.env')\n",
    "import sys\n",
    "import os\n",
    "\n",
    "# Add the path to the scripts folder and import the functions\n",
    "sys.path.append(\"../scripts/\")\n",
    "from data_acquisition import load_csv_file, load_parquet_file\n",
    "\n",
    "# Define the bucket name\n",
    "bucket_name = 'migraine-pressure-6week-analysis'"
   ]
  },
  {
   "cell_type": "markdown",
   "metadata": {},
   "source": [
    "### Acquire Weather Data from S3 Bucket"
   ]
  },
  {
   "cell_type": "code",
   "execution_count": null,
   "metadata": {},
   "outputs": [],
   "source": [
    "# Define the file keys\n",
    "url_cities = 'weather/cities.csv'\n",
    "url_countries = 'weather/countries.csv'\n",
    "url_daily_weather = 'weather/daily_weather.parquet'\n",
    "\n",
    "# Load the data into dataframes\n",
    "df_cities = load_csv_file(bucket_name,url_cities)\n",
    "df_countries = load_csv_file(bucket_name,url_countries)\n",
    "df_daily_weather = load_parquet_file(bucket_name,url_daily_weather)\n",
    "\n",
    "# Display the dataframes\n",
    "if df_cities is not None:\n",
    "    print(df_cities.head())\n",
    "\n",
    "if df_countries is not None:\n",
    "    print(df_countries.head())\n",
    "\n",
    "if df_daily_weather is not None:\n",
    "    print(df_daily_weather.head())\n"
   ]
  },
  {
   "cell_type": "markdown",
   "metadata": {},
   "source": [
    "### Combine Weather Data"
   ]
  },
  {
   "cell_type": "code",
   "execution_count": null,
   "metadata": {},
   "outputs": [],
   "source": [
    "# Combine cities and daily weather dataframes into one\n",
    "df_cities_daily_weather = df_cities.merge(df_daily_weather, how='left', left_on=['station_id', 'city_name'], right_on=['station_id', 'city_name'])\n",
    "\n",
    "print(df_cities_daily_weather.info())\n",
    "print(df_cities_daily_weather.head())\n"
   ]
  },
  {
   "cell_type": "markdown",
   "metadata": {},
   "source": [
    "### Acquire Migraine Data from S3 Bucket"
   ]
  },
  {
   "cell_type": "code",
   "execution_count": null,
   "metadata": {},
   "outputs": [],
   "source": [
    "# Define the file keys\n",
    "url_migraine = 'health/IHME-GBD_2019_DATA-361f72c5-1.csv'\n",
    "\n",
    "# Load the data into dataframes\n",
    "df_migraine = load_csv_file(bucket_name,url_migraine)\n",
    "\n",
    "# Display the dataframes\n",
    "if df_migraine is not None:\n",
    "    print(df_migraine.head())"
   ]
  },
  {
   "cell_type": "markdown",
   "metadata": {},
   "source": [
    "### Acquire Population Data from S3 Bucket"
   ]
  },
  {
   "cell_type": "code",
   "execution_count": null,
   "metadata": {},
   "outputs": [],
   "source": [
    "# Import other required libraries\n",
    "import pandas as pd\n",
    "import boto3\n",
    "\n",
    "# Initialize S3 client with environment variables\n",
    "s3 = boto3.client(\n",
    "    's3', \n",
    "    aws_access_key_id=os.getenv('AWS_ACCESS_KEY_ID'), \n",
    "    aws_secret_access_key=os.getenv('AWS_SECRET_ACCESS_KEY')\n",
    ")\n",
    "\n",
    "# List files in the 'population/' directory\n",
    "prefix = 'population/'\n",
    "response = s3.list_objects(Bucket=bucket_name, Prefix=prefix)\n",
    "\n",
    "# Initialize master DataFrame\n",
    "population_combined = pd.DataFrame()\n",
    "\n",
    "# Loop through each file and append it to the master DataFrame\n",
    "for file in response['Contents']:\n",
    "    file_name = file['Key']\n",
    "    obj = s3.get_object(Bucket=bucket_name, Key=file_name)\n",
    "    temp_df = pd.read_csv(obj['Body'])\n",
    "    population_combined = pd.concat([population_combined, temp_df], ignore_index=True)\n",
    "\n",
    "# Display the combined population DataFrame\n",
    "if population_combined is not None:\n",
    "    print(population_combined.head())\n",
    "    print(population_combined.tail())\n"
   ]
  }
 ],
 "metadata": {
  "kernelspec": {
   "display_name": "Python 3",
   "language": "python",
   "name": "python3"
  },
  "language_info": {
   "codemirror_mode": {
    "name": "ipython",
    "version": 3
   },
   "file_extension": ".py",
   "mimetype": "text/x-python",
   "name": "python",
   "nbconvert_exporter": "python",
   "pygments_lexer": "ipython3",
   "version": "3.12.0rc2"
  }
 },
 "nbformat": 4,
 "nbformat_minor": 2
}
