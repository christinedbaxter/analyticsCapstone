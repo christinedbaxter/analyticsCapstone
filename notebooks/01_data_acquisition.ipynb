{
 "cells": [
  {
   "cell_type": "markdown",
   "metadata": {},
   "source": [
    "# Analyzing the Relationship Between Weather Conditions and Migraine Incidents"
   ]
  },
  {
   "cell_type": "markdown",
   "metadata": {},
   "source": [
    "## 1. Introduction"
   ]
  },
  {
   "cell_type": "markdown",
   "metadata": {},
   "source": [
    "In this notebook, we will focus on acquiring the raw data needed for our analysis. We aim to study the correlation between weather patterns, specifically sea-level pressure, and the frequency of migraines."
   ]
  },
  {
   "cell_type": "markdown",
   "metadata": {},
   "source": [
    "## 2. Objectives"
   ]
  },
  {
   "cell_type": "markdown",
   "metadata": {},
   "source": [
    "-   To load weather data from our S3 storage bucket.\n",
    "-   To load migraine frequency data from our S3 storage bucket.\n",
    "-   To provide initial observations about the raw data."
   ]
  },
  {
   "cell_type": "markdown",
   "metadata": {},
   "source": [
    "## 3. Setup"
   ]
  },
  {
   "cell_type": "code",
   "execution_count": null,
   "metadata": {},
   "outputs": [],
   "source": [
    "# Import necessary Python packages\n",
    "from get_data import get_raw_dataframes"
   ]
  },
  {
   "cell_type": "markdown",
   "metadata": {},
   "source": [
    "## 4. Data Acquisition Overview"
   ]
  },
  {
   "cell_type": "markdown",
   "metadata": {},
   "source": [
    "-   **Weather Data**: Contains daily weather data, including sea-level pressure, from various locations.\n",
    "-   **Migraine Data**: Contains annual summaries of migraine frequencies in specific locations."
   ]
  },
  {
   "cell_type": "markdown",
   "metadata": {},
   "source": [
    "## 5. Loading Data"
   ]
  },
  {
   "cell_type": "code",
   "execution_count": null,
   "metadata": {},
   "outputs": [],
   "source": [
    "# Load the data using our Python script\n",
    "weather_data, migraine_data = get_raw_dataframes()\n",
    "\n",
    "# Display sample rows from each DataFrame\n",
    "print(\"Weather Data:\")\n",
    "print(weather_data.head())\n",
    "\n",
    "print(\"\\nMigraine Data:\")\n",
    "print(migraine_data.head())\n"
   ]
  },
  {
   "cell_type": "markdown",
   "metadata": {},
   "source": [
    "## 6. Initial Observations"
   ]
  },
  {
   "cell_type": "markdown",
   "metadata": {},
   "source": [
    "-   The weather data contains several missing values that we may need to address during preprocessing.\n",
    "-   The migraine data is summarized annually, so we may need to aggregate weather data to match this level."
   ]
  },
  {
   "cell_type": "markdown",
   "metadata": {},
   "source": [
    "## 7. Next Steps"
   ]
  },
  {
   "cell_type": "markdown",
   "metadata": {},
   "source": [
    "The next notebook, **[02_data_preprocessing.ipynb](./02_data_preprocessing.ipynb)**, will focus on cleaning the data, handling missing values, and merging the datasets for analysis."
   ]
  },
  {
   "cell_type": "markdown",
   "metadata": {},
   "source": [
    "## 8. Summary"
   ]
  },
  {
   "cell_type": "markdown",
   "metadata": {},
   "source": [
    "-   Successfully acquired raw weather and migraine data from S3 storage.\n",
    "-   Identified some initial challenges like missing values and data granularity that will be addressed in subsequent notebooks."
   ]
  },
  {
   "cell_type": "markdown",
   "metadata": {},
   "source": [
    "## 9. References"
   ]
  },
  {
   "cell_type": "markdown",
   "metadata": {},
   "source": [
    "- Weather data source: [Weather API XYZ]\n",
    "- Migraine data source: [Health Organization ABC]"
   ]
  }
 ],
 "metadata": {
  "kernelspec": {
   "display_name": "Python 3",
   "language": "python",
   "name": "python3"
  },
  "language_info": {
   "codemirror_mode": {
    "name": "ipython",
    "version": 3
   },
   "file_extension": ".py",
   "mimetype": "text/x-python",
   "name": "python",
   "nbconvert_exporter": "python",
   "pygments_lexer": "ipython3",
   "version": "3.12.0rc2"
  }
 },
 "nbformat": 4,
 "nbformat_minor": 2
}
