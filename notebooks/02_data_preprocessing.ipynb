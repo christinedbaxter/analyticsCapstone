{
 "cells": [
  {
   "cell_type": "markdown",
   "metadata": {},
   "source": [
    "# Data Preprocessing"
   ]
  },
  {
   "cell_type": "markdown",
   "metadata": {},
   "source": [
    "## 1. Introduction"
   ]
  },
  {
   "cell_type": "markdown",
   "metadata": {},
   "source": [
    "In this notebook, we will preprocess the data to make it ready for the model. We will focus on data cleaning, integration, and aggregation. We will discuss methodologies investigated and chosen for handling of missing values, feature engineering, and feature selection."
   ]
  },
  {
   "cell_type": "markdown",
   "metadata": {},
   "source": [
    "## 2. Import Required Libraries"
   ]
  },
  {
   "cell_type": "code",
   "execution_count": 1,
   "metadata": {},
   "outputs": [],
   "source": [
    "import pandas as pd\n",
    "import numpy as np\n",
    "from dotenv import load_dotenv\n",
    "import os\n",
    "import sys\n",
    "import matplotlib.pyplot as plt\n",
    "import seaborn as sns\n",
    "plt.style.use('ggplot')\n",
    "pd.set_option('display.max_columns', None)\n",
    "\n",
    "# Load the environment variables\n",
    "load_dotenv(\"../config/.env\")\n",
    "\n",
    "scripts_path = os.getenv(\"SCRIPTS_PATH\")\n",
    "\n",
    "# Add the path to the scripts folder and import the functions\n",
    "if scripts_path not in sys.path:\n",
    "    sys.path.append(scripts_path)"
   ]
  },
  {
   "cell_type": "code",
   "execution_count": 2,
   "metadata": {},
   "outputs": [],
   "source": [
    "# from raw_data import get_raw_dataframes function\n",
    "from raw_data import get_raw_dataframes"
   ]
  },
  {
   "cell_type": "markdown",
   "metadata": {},
   "source": [
    "## 3. Load Data"
   ]
  },
  {
   "cell_type": "code",
   "execution_count": 3,
   "metadata": {},
   "outputs": [
    {
     "data": {
      "text/plain": [
       "((1245, 8), (214, 11), (27635763, 14), (42120, 10))"
      ]
     },
     "execution_count": 3,
     "metadata": {},
     "output_type": "execute_result"
    }
   ],
   "source": [
    "# Load data\n",
    "city_data, country_data, weather_data, migraine_data = get_raw_dataframes()\n",
    "\n",
    "# Check the shape of the dataframes\n",
    "city_data.shape, country_data.shape, weather_data.shape, migraine_data.shape"
   ]
  },
  {
   "cell_type": "markdown",
   "metadata": {},
   "source": [
    "## 4. Data Cleaning"
   ]
  },
  {
   "cell_type": "markdown",
   "metadata": {},
   "source": [
    "### 4.1 Drop Unnecessary Columns/Rows"
   ]
  },
  {
   "cell_type": "markdown",
   "metadata": {},
   "source": [
    "#### 4.1.1 DataFrame: `city_data`"
   ]
  },
  {
   "cell_type": "code",
   "execution_count": 4,
   "metadata": {},
   "outputs": [
    {
     "data": {
      "text/html": [
       "<div>\n",
       "<style scoped>\n",
       "    .dataframe tbody tr th:only-of-type {\n",
       "        vertical-align: middle;\n",
       "    }\n",
       "\n",
       "    .dataframe tbody tr th {\n",
       "        vertical-align: top;\n",
       "    }\n",
       "\n",
       "    .dataframe thead th {\n",
       "        text-align: right;\n",
       "    }\n",
       "</style>\n",
       "<table border=\"1\" class=\"dataframe\">\n",
       "  <thead>\n",
       "    <tr style=\"text-align: right;\">\n",
       "      <th></th>\n",
       "      <th>station_id</th>\n",
       "      <th>city_name</th>\n",
       "      <th>country</th>\n",
       "      <th>state</th>\n",
       "      <th>iso2</th>\n",
       "      <th>iso3</th>\n",
       "      <th>latitude</th>\n",
       "      <th>longitude</th>\n",
       "    </tr>\n",
       "  </thead>\n",
       "  <tbody>\n",
       "    <tr>\n",
       "      <th>0</th>\n",
       "      <td>41515</td>\n",
       "      <td>Asadabad</td>\n",
       "      <td>Afghanistan</td>\n",
       "      <td>Kunar</td>\n",
       "      <td>AF</td>\n",
       "      <td>AFG</td>\n",
       "      <td>34.866000</td>\n",
       "      <td>71.150005</td>\n",
       "    </tr>\n",
       "    <tr>\n",
       "      <th>1</th>\n",
       "      <td>38954</td>\n",
       "      <td>Fayzabad</td>\n",
       "      <td>Afghanistan</td>\n",
       "      <td>Badakhshan</td>\n",
       "      <td>AF</td>\n",
       "      <td>AFG</td>\n",
       "      <td>37.129761</td>\n",
       "      <td>70.579247</td>\n",
       "    </tr>\n",
       "    <tr>\n",
       "      <th>2</th>\n",
       "      <td>41560</td>\n",
       "      <td>Jalalabad</td>\n",
       "      <td>Afghanistan</td>\n",
       "      <td>Nangarhar</td>\n",
       "      <td>AF</td>\n",
       "      <td>AFG</td>\n",
       "      <td>34.441527</td>\n",
       "      <td>70.436103</td>\n",
       "    </tr>\n",
       "    <tr>\n",
       "      <th>3</th>\n",
       "      <td>38947</td>\n",
       "      <td>Kunduz</td>\n",
       "      <td>Afghanistan</td>\n",
       "      <td>Kunduz</td>\n",
       "      <td>AF</td>\n",
       "      <td>AFG</td>\n",
       "      <td>36.727951</td>\n",
       "      <td>68.872530</td>\n",
       "    </tr>\n",
       "    <tr>\n",
       "      <th>4</th>\n",
       "      <td>38987</td>\n",
       "      <td>Qala i Naw</td>\n",
       "      <td>Afghanistan</td>\n",
       "      <td>Badghis</td>\n",
       "      <td>AF</td>\n",
       "      <td>AFG</td>\n",
       "      <td>34.983000</td>\n",
       "      <td>63.133300</td>\n",
       "    </tr>\n",
       "    <tr>\n",
       "      <th>...</th>\n",
       "      <td>...</td>\n",
       "      <td>...</td>\n",
       "      <td>...</td>\n",
       "      <td>...</td>\n",
       "      <td>...</td>\n",
       "      <td>...</td>\n",
       "      <td>...</td>\n",
       "      <td>...</td>\n",
       "    </tr>\n",
       "    <tr>\n",
       "      <th>1240</th>\n",
       "      <td>67475</td>\n",
       "      <td>Kasama</td>\n",
       "      <td>Zambia</td>\n",
       "      <td>Northern</td>\n",
       "      <td>ZM</td>\n",
       "      <td>ZMB</td>\n",
       "      <td>-10.199598</td>\n",
       "      <td>31.179947</td>\n",
       "    </tr>\n",
       "    <tr>\n",
       "      <th>1241</th>\n",
       "      <td>68030</td>\n",
       "      <td>Livingstone</td>\n",
       "      <td>Zambia</td>\n",
       "      <td>Southern</td>\n",
       "      <td>ZM</td>\n",
       "      <td>ZMB</td>\n",
       "      <td>-17.860009</td>\n",
       "      <td>25.860013</td>\n",
       "    </tr>\n",
       "    <tr>\n",
       "      <th>1242</th>\n",
       "      <td>67633</td>\n",
       "      <td>Mongu</td>\n",
       "      <td>Zambia</td>\n",
       "      <td>Western</td>\n",
       "      <td>ZM</td>\n",
       "      <td>ZMB</td>\n",
       "      <td>-15.279598</td>\n",
       "      <td>23.120025</td>\n",
       "    </tr>\n",
       "    <tr>\n",
       "      <th>1243</th>\n",
       "      <td>67775</td>\n",
       "      <td>Harare</td>\n",
       "      <td>Zimbabwe</td>\n",
       "      <td>Harare</td>\n",
       "      <td>ZW</td>\n",
       "      <td>ZWE</td>\n",
       "      <td>-17.817790</td>\n",
       "      <td>31.044709</td>\n",
       "    </tr>\n",
       "    <tr>\n",
       "      <th>1244</th>\n",
       "      <td>67975</td>\n",
       "      <td>Masvingo</td>\n",
       "      <td>Zimbabwe</td>\n",
       "      <td>Masvingo</td>\n",
       "      <td>ZW</td>\n",
       "      <td>ZWE</td>\n",
       "      <td>-20.059617</td>\n",
       "      <td>30.820020</td>\n",
       "    </tr>\n",
       "  </tbody>\n",
       "</table>\n",
       "<p>1245 rows × 8 columns</p>\n",
       "</div>"
      ],
      "text/plain": [
       "     station_id    city_name      country       state iso2 iso3   latitude  \\\n",
       "0         41515     Asadabad  Afghanistan       Kunar   AF  AFG  34.866000   \n",
       "1         38954     Fayzabad  Afghanistan  Badakhshan   AF  AFG  37.129761   \n",
       "2         41560    Jalalabad  Afghanistan   Nangarhar   AF  AFG  34.441527   \n",
       "3         38947       Kunduz  Afghanistan      Kunduz   AF  AFG  36.727951   \n",
       "4         38987   Qala i Naw  Afghanistan     Badghis   AF  AFG  34.983000   \n",
       "...         ...          ...          ...         ...  ...  ...        ...   \n",
       "1240      67475       Kasama       Zambia    Northern   ZM  ZMB -10.199598   \n",
       "1241      68030  Livingstone       Zambia    Southern   ZM  ZMB -17.860009   \n",
       "1242      67633        Mongu       Zambia     Western   ZM  ZMB -15.279598   \n",
       "1243      67775       Harare     Zimbabwe      Harare   ZW  ZWE -17.817790   \n",
       "1244      67975     Masvingo     Zimbabwe    Masvingo   ZW  ZWE -20.059617   \n",
       "\n",
       "      longitude  \n",
       "0     71.150005  \n",
       "1     70.579247  \n",
       "2     70.436103  \n",
       "3     68.872530  \n",
       "4     63.133300  \n",
       "...         ...  \n",
       "1240  31.179947  \n",
       "1241  25.860013  \n",
       "1242  23.120025  \n",
       "1243  31.044709  \n",
       "1244  30.820020  \n",
       "\n",
       "[1245 rows x 8 columns]"
      ]
     },
     "execution_count": 4,
     "metadata": {},
     "output_type": "execute_result"
    }
   ],
   "source": [
    "# View the `city_data` dataframe\n",
    "city_data"
   ]
  },
  {
   "cell_type": "markdown",
   "metadata": {},
   "source": [
    "Keeping all columns for now."
   ]
  },
  {
   "cell_type": "markdown",
   "metadata": {},
   "source": [
    "#### 4.1.2 DataFrame: `country_data`"
   ]
  },
  {
   "cell_type": "code",
   "execution_count": 5,
   "metadata": {},
   "outputs": [
    {
     "data": {
      "text/html": [
       "<div>\n",
       "<style scoped>\n",
       "    .dataframe tbody tr th:only-of-type {\n",
       "        vertical-align: middle;\n",
       "    }\n",
       "\n",
       "    .dataframe tbody tr th {\n",
       "        vertical-align: top;\n",
       "    }\n",
       "\n",
       "    .dataframe thead th {\n",
       "        text-align: right;\n",
       "    }\n",
       "</style>\n",
       "<table border=\"1\" class=\"dataframe\">\n",
       "  <thead>\n",
       "    <tr style=\"text-align: right;\">\n",
       "      <th></th>\n",
       "      <th>country</th>\n",
       "      <th>native_name</th>\n",
       "      <th>iso2</th>\n",
       "      <th>iso3</th>\n",
       "      <th>population</th>\n",
       "      <th>area</th>\n",
       "      <th>capital</th>\n",
       "      <th>capital_lat</th>\n",
       "      <th>capital_lng</th>\n",
       "      <th>region</th>\n",
       "      <th>continent</th>\n",
       "    </tr>\n",
       "  </thead>\n",
       "  <tbody>\n",
       "    <tr>\n",
       "      <th>0</th>\n",
       "      <td>Afghanistan</td>\n",
       "      <td>افغانستان</td>\n",
       "      <td>AF</td>\n",
       "      <td>AFG</td>\n",
       "      <td>26023100.0</td>\n",
       "      <td>652230.0</td>\n",
       "      <td>Kabul</td>\n",
       "      <td>34.526011</td>\n",
       "      <td>69.177684</td>\n",
       "      <td>Southern and Central Asia</td>\n",
       "      <td>Asia</td>\n",
       "    </tr>\n",
       "    <tr>\n",
       "      <th>1</th>\n",
       "      <td>Albania</td>\n",
       "      <td>Shqipëria</td>\n",
       "      <td>AL</td>\n",
       "      <td>ALB</td>\n",
       "      <td>2895947.0</td>\n",
       "      <td>28748.0</td>\n",
       "      <td>Tirana</td>\n",
       "      <td>41.326873</td>\n",
       "      <td>19.818791</td>\n",
       "      <td>Southern Europe</td>\n",
       "      <td>Europe</td>\n",
       "    </tr>\n",
       "    <tr>\n",
       "      <th>2</th>\n",
       "      <td>Algeria</td>\n",
       "      <td>الجزائر</td>\n",
       "      <td>DZ</td>\n",
       "      <td>DZA</td>\n",
       "      <td>38700000.0</td>\n",
       "      <td>2381741.0</td>\n",
       "      <td>Algiers</td>\n",
       "      <td>36.775361</td>\n",
       "      <td>3.060188</td>\n",
       "      <td>Northern Africa</td>\n",
       "      <td>Africa</td>\n",
       "    </tr>\n",
       "    <tr>\n",
       "      <th>3</th>\n",
       "      <td>American Samoa</td>\n",
       "      <td>American Samoa</td>\n",
       "      <td>AS</td>\n",
       "      <td>ASM</td>\n",
       "      <td>55519.0</td>\n",
       "      <td>199.0</td>\n",
       "      <td>Pago Pago</td>\n",
       "      <td>-14.275479</td>\n",
       "      <td>-170.704830</td>\n",
       "      <td>Polynesia</td>\n",
       "      <td>Oceania</td>\n",
       "    </tr>\n",
       "    <tr>\n",
       "      <th>4</th>\n",
       "      <td>Angola</td>\n",
       "      <td>Angola</td>\n",
       "      <td>AO</td>\n",
       "      <td>AGO</td>\n",
       "      <td>24383301.0</td>\n",
       "      <td>1246700.0</td>\n",
       "      <td>Luanda</td>\n",
       "      <td>-8.827270</td>\n",
       "      <td>13.243951</td>\n",
       "      <td>Central Africa</td>\n",
       "      <td>Africa</td>\n",
       "    </tr>\n",
       "    <tr>\n",
       "      <th>...</th>\n",
       "      <td>...</td>\n",
       "      <td>...</td>\n",
       "      <td>...</td>\n",
       "      <td>...</td>\n",
       "      <td>...</td>\n",
       "      <td>...</td>\n",
       "      <td>...</td>\n",
       "      <td>...</td>\n",
       "      <td>...</td>\n",
       "      <td>...</td>\n",
       "      <td>...</td>\n",
       "    </tr>\n",
       "    <tr>\n",
       "      <th>209</th>\n",
       "      <td>Wallis and Futuna</td>\n",
       "      <td>Wallis et Futuna</td>\n",
       "      <td>WF</td>\n",
       "      <td>WLF</td>\n",
       "      <td>13135.0</td>\n",
       "      <td>142.0</td>\n",
       "      <td>Mata-Utu</td>\n",
       "      <td>-13.282042</td>\n",
       "      <td>-176.174022</td>\n",
       "      <td>Polynesia</td>\n",
       "      <td>Oceania</td>\n",
       "    </tr>\n",
       "    <tr>\n",
       "      <th>210</th>\n",
       "      <td>Western Sahara</td>\n",
       "      <td>الصحراء الغربية</td>\n",
       "      <td>EH</td>\n",
       "      <td>ESH</td>\n",
       "      <td>586000.0</td>\n",
       "      <td>266000.0</td>\n",
       "      <td>El Aaiún</td>\n",
       "      <td>27.154512</td>\n",
       "      <td>-13.195392</td>\n",
       "      <td>Northern Africa</td>\n",
       "      <td>Africa</td>\n",
       "    </tr>\n",
       "    <tr>\n",
       "      <th>211</th>\n",
       "      <td>Yemen</td>\n",
       "      <td>اليَمَن</td>\n",
       "      <td>YE</td>\n",
       "      <td>YEM</td>\n",
       "      <td>25956000.0</td>\n",
       "      <td>527968.0</td>\n",
       "      <td>Sana'a</td>\n",
       "      <td>15.353857</td>\n",
       "      <td>44.205884</td>\n",
       "      <td>Middle East</td>\n",
       "      <td>Asia</td>\n",
       "    </tr>\n",
       "    <tr>\n",
       "      <th>212</th>\n",
       "      <td>Zambia</td>\n",
       "      <td>Zambia</td>\n",
       "      <td>ZM</td>\n",
       "      <td>ZMB</td>\n",
       "      <td>15023315.0</td>\n",
       "      <td>752612.0</td>\n",
       "      <td>Lusaka</td>\n",
       "      <td>-15.416449</td>\n",
       "      <td>28.282154</td>\n",
       "      <td>Eastern Africa</td>\n",
       "      <td>Europe</td>\n",
       "    </tr>\n",
       "    <tr>\n",
       "      <th>213</th>\n",
       "      <td>Zimbabwe</td>\n",
       "      <td>Zimbabwe</td>\n",
       "      <td>ZW</td>\n",
       "      <td>ZWE</td>\n",
       "      <td>13061239.0</td>\n",
       "      <td>390757.0</td>\n",
       "      <td>Harare</td>\n",
       "      <td>-17.831773</td>\n",
       "      <td>31.045686</td>\n",
       "      <td>Eastern Africa</td>\n",
       "      <td>Africa</td>\n",
       "    </tr>\n",
       "  </tbody>\n",
       "</table>\n",
       "<p>214 rows × 11 columns</p>\n",
       "</div>"
      ],
      "text/plain": [
       "               country       native_name iso2 iso3  population       area  \\\n",
       "0          Afghanistan         افغانستان   AF  AFG  26023100.0   652230.0   \n",
       "1              Albania         Shqipëria   AL  ALB   2895947.0    28748.0   \n",
       "2              Algeria           الجزائر   DZ  DZA  38700000.0  2381741.0   \n",
       "3       American Samoa    American Samoa   AS  ASM     55519.0      199.0   \n",
       "4               Angola            Angola   AO  AGO  24383301.0  1246700.0   \n",
       "..                 ...               ...  ...  ...         ...        ...   \n",
       "209  Wallis and Futuna  Wallis et Futuna   WF  WLF     13135.0      142.0   \n",
       "210     Western Sahara   الصحراء الغربية   EH  ESH    586000.0   266000.0   \n",
       "211              Yemen           اليَمَن   YE  YEM  25956000.0   527968.0   \n",
       "212             Zambia            Zambia   ZM  ZMB  15023315.0   752612.0   \n",
       "213           Zimbabwe          Zimbabwe   ZW  ZWE  13061239.0   390757.0   \n",
       "\n",
       "       capital  capital_lat  capital_lng                     region continent  \n",
       "0        Kabul    34.526011    69.177684  Southern and Central Asia      Asia  \n",
       "1       Tirana    41.326873    19.818791            Southern Europe    Europe  \n",
       "2      Algiers    36.775361     3.060188            Northern Africa    Africa  \n",
       "3    Pago Pago   -14.275479  -170.704830                  Polynesia   Oceania  \n",
       "4       Luanda    -8.827270    13.243951             Central Africa    Africa  \n",
       "..         ...          ...          ...                        ...       ...  \n",
       "209   Mata-Utu   -13.282042  -176.174022                  Polynesia   Oceania  \n",
       "210   El Aaiún    27.154512   -13.195392            Northern Africa    Africa  \n",
       "211     Sana'a    15.353857    44.205884                Middle East      Asia  \n",
       "212     Lusaka   -15.416449    28.282154             Eastern Africa    Europe  \n",
       "213     Harare   -17.831773    31.045686             Eastern Africa    Africa  \n",
       "\n",
       "[214 rows x 11 columns]"
      ]
     },
     "execution_count": 5,
     "metadata": {},
     "output_type": "execute_result"
    }
   ],
   "source": [
    "# View the `country_data` dataframe\n",
    "country_data"
   ]
  },
  {
   "cell_type": "markdown",
   "metadata": {},
   "source": [
    "*Keeping* the following columns:\n",
    "- 'country'\n",
    "- 'iso2'\n",
    "- 'iso3'\n",
    "\n",
    "*Removing* the following columns:\n",
    "- 'native_name'\n",
    "- 'population'\n",
    "- 'area'\n",
    "- 'capital'\n",
    "- 'capital_lat'\n",
    "- 'capital_lng'\n",
    "- 'region'\n",
    "- 'continent'"
   ]
  },
  {
   "cell_type": "code",
   "execution_count": 6,
   "metadata": {},
   "outputs": [
    {
     "data": {
      "text/plain": [
       "(214, 3)"
      ]
     },
     "execution_count": 6,
     "metadata": {},
     "output_type": "execute_result"
    }
   ],
   "source": [
    "# Drop columns that are not needed for the analysis\n",
    "country_data.drop(columns=['native_name', 'population', 'area', 'capital', 'capital_lat', 'capital_lng', 'region', 'continent'], inplace=True)\n",
    "\n",
    "# Check the shape of the dataframe\n",
    "country_data.shape"
   ]
  },
  {
   "cell_type": "markdown",
   "metadata": {},
   "source": [
    "#### 4.1.3 DataFrame: `weather_data`"
   ]
  },
  {
   "cell_type": "code",
   "execution_count": 7,
   "metadata": {},
   "outputs": [
    {
     "data": {
      "text/html": [
       "<div>\n",
       "<style scoped>\n",
       "    .dataframe tbody tr th:only-of-type {\n",
       "        vertical-align: middle;\n",
       "    }\n",
       "\n",
       "    .dataframe tbody tr th {\n",
       "        vertical-align: top;\n",
       "    }\n",
       "\n",
       "    .dataframe thead th {\n",
       "        text-align: right;\n",
       "    }\n",
       "</style>\n",
       "<table border=\"1\" class=\"dataframe\">\n",
       "  <thead>\n",
       "    <tr style=\"text-align: right;\">\n",
       "      <th></th>\n",
       "      <th>station_id</th>\n",
       "      <th>city_name</th>\n",
       "      <th>date</th>\n",
       "      <th>season</th>\n",
       "      <th>avg_temp_c</th>\n",
       "      <th>min_temp_c</th>\n",
       "      <th>max_temp_c</th>\n",
       "      <th>precipitation_mm</th>\n",
       "      <th>snow_depth_mm</th>\n",
       "      <th>avg_wind_dir_deg</th>\n",
       "      <th>avg_wind_speed_kmh</th>\n",
       "      <th>peak_wind_gust_kmh</th>\n",
       "      <th>avg_sea_level_pres_hpa</th>\n",
       "      <th>sunshine_total_min</th>\n",
       "    </tr>\n",
       "  </thead>\n",
       "  <tbody>\n",
       "    <tr>\n",
       "      <th>0</th>\n",
       "      <td>41515</td>\n",
       "      <td>Asadabad</td>\n",
       "      <td>1957-07-01</td>\n",
       "      <td>Summer</td>\n",
       "      <td>27.0</td>\n",
       "      <td>21.1</td>\n",
       "      <td>35.6</td>\n",
       "      <td>0.0</td>\n",
       "      <td>NaN</td>\n",
       "      <td>NaN</td>\n",
       "      <td>NaN</td>\n",
       "      <td>NaN</td>\n",
       "      <td>NaN</td>\n",
       "      <td>NaN</td>\n",
       "    </tr>\n",
       "    <tr>\n",
       "      <th>1</th>\n",
       "      <td>41515</td>\n",
       "      <td>Asadabad</td>\n",
       "      <td>1957-07-02</td>\n",
       "      <td>Summer</td>\n",
       "      <td>22.8</td>\n",
       "      <td>18.9</td>\n",
       "      <td>32.2</td>\n",
       "      <td>0.0</td>\n",
       "      <td>NaN</td>\n",
       "      <td>NaN</td>\n",
       "      <td>NaN</td>\n",
       "      <td>NaN</td>\n",
       "      <td>NaN</td>\n",
       "      <td>NaN</td>\n",
       "    </tr>\n",
       "    <tr>\n",
       "      <th>2</th>\n",
       "      <td>41515</td>\n",
       "      <td>Asadabad</td>\n",
       "      <td>1957-07-03</td>\n",
       "      <td>Summer</td>\n",
       "      <td>24.3</td>\n",
       "      <td>16.7</td>\n",
       "      <td>35.6</td>\n",
       "      <td>1.0</td>\n",
       "      <td>NaN</td>\n",
       "      <td>NaN</td>\n",
       "      <td>NaN</td>\n",
       "      <td>NaN</td>\n",
       "      <td>NaN</td>\n",
       "      <td>NaN</td>\n",
       "    </tr>\n",
       "    <tr>\n",
       "      <th>3</th>\n",
       "      <td>41515</td>\n",
       "      <td>Asadabad</td>\n",
       "      <td>1957-07-04</td>\n",
       "      <td>Summer</td>\n",
       "      <td>26.6</td>\n",
       "      <td>16.1</td>\n",
       "      <td>37.8</td>\n",
       "      <td>4.1</td>\n",
       "      <td>NaN</td>\n",
       "      <td>NaN</td>\n",
       "      <td>NaN</td>\n",
       "      <td>NaN</td>\n",
       "      <td>NaN</td>\n",
       "      <td>NaN</td>\n",
       "    </tr>\n",
       "    <tr>\n",
       "      <th>4</th>\n",
       "      <td>41515</td>\n",
       "      <td>Asadabad</td>\n",
       "      <td>1957-07-05</td>\n",
       "      <td>Summer</td>\n",
       "      <td>30.8</td>\n",
       "      <td>20.0</td>\n",
       "      <td>41.7</td>\n",
       "      <td>0.0</td>\n",
       "      <td>NaN</td>\n",
       "      <td>NaN</td>\n",
       "      <td>NaN</td>\n",
       "      <td>NaN</td>\n",
       "      <td>NaN</td>\n",
       "      <td>NaN</td>\n",
       "    </tr>\n",
       "    <tr>\n",
       "      <th>...</th>\n",
       "      <td>...</td>\n",
       "      <td>...</td>\n",
       "      <td>...</td>\n",
       "      <td>...</td>\n",
       "      <td>...</td>\n",
       "      <td>...</td>\n",
       "      <td>...</td>\n",
       "      <td>...</td>\n",
       "      <td>...</td>\n",
       "      <td>...</td>\n",
       "      <td>...</td>\n",
       "      <td>...</td>\n",
       "      <td>...</td>\n",
       "      <td>...</td>\n",
       "    </tr>\n",
       "    <tr>\n",
       "      <th>24216</th>\n",
       "      <td>67975</td>\n",
       "      <td>Masvingo</td>\n",
       "      <td>2023-09-01</td>\n",
       "      <td>Spring</td>\n",
       "      <td>19.5</td>\n",
       "      <td>9.6</td>\n",
       "      <td>28.4</td>\n",
       "      <td>NaN</td>\n",
       "      <td>NaN</td>\n",
       "      <td>180.0</td>\n",
       "      <td>4.6</td>\n",
       "      <td>NaN</td>\n",
       "      <td>NaN</td>\n",
       "      <td>NaN</td>\n",
       "    </tr>\n",
       "    <tr>\n",
       "      <th>24217</th>\n",
       "      <td>67975</td>\n",
       "      <td>Masvingo</td>\n",
       "      <td>2023-09-02</td>\n",
       "      <td>Spring</td>\n",
       "      <td>21.3</td>\n",
       "      <td>10.5</td>\n",
       "      <td>31.4</td>\n",
       "      <td>NaN</td>\n",
       "      <td>NaN</td>\n",
       "      <td>146.0</td>\n",
       "      <td>6.3</td>\n",
       "      <td>NaN</td>\n",
       "      <td>NaN</td>\n",
       "      <td>NaN</td>\n",
       "    </tr>\n",
       "    <tr>\n",
       "      <th>24218</th>\n",
       "      <td>67975</td>\n",
       "      <td>Masvingo</td>\n",
       "      <td>2023-09-03</td>\n",
       "      <td>Spring</td>\n",
       "      <td>22.1</td>\n",
       "      <td>13.0</td>\n",
       "      <td>31.5</td>\n",
       "      <td>NaN</td>\n",
       "      <td>NaN</td>\n",
       "      <td>147.0</td>\n",
       "      <td>8.2</td>\n",
       "      <td>NaN</td>\n",
       "      <td>NaN</td>\n",
       "      <td>NaN</td>\n",
       "    </tr>\n",
       "    <tr>\n",
       "      <th>24219</th>\n",
       "      <td>67975</td>\n",
       "      <td>Masvingo</td>\n",
       "      <td>2023-09-04</td>\n",
       "      <td>Spring</td>\n",
       "      <td>21.5</td>\n",
       "      <td>13.1</td>\n",
       "      <td>29.7</td>\n",
       "      <td>NaN</td>\n",
       "      <td>NaN</td>\n",
       "      <td>155.0</td>\n",
       "      <td>10.2</td>\n",
       "      <td>NaN</td>\n",
       "      <td>NaN</td>\n",
       "      <td>NaN</td>\n",
       "    </tr>\n",
       "    <tr>\n",
       "      <th>24220</th>\n",
       "      <td>67975</td>\n",
       "      <td>Masvingo</td>\n",
       "      <td>2023-09-05</td>\n",
       "      <td>Spring</td>\n",
       "      <td>20.0</td>\n",
       "      <td>14.0</td>\n",
       "      <td>27.3</td>\n",
       "      <td>NaN</td>\n",
       "      <td>NaN</td>\n",
       "      <td>141.0</td>\n",
       "      <td>12.9</td>\n",
       "      <td>NaN</td>\n",
       "      <td>NaN</td>\n",
       "      <td>NaN</td>\n",
       "    </tr>\n",
       "  </tbody>\n",
       "</table>\n",
       "<p>27635763 rows × 14 columns</p>\n",
       "</div>"
      ],
      "text/plain": [
       "      station_id city_name       date  season  avg_temp_c  min_temp_c  \\\n",
       "0          41515  Asadabad 1957-07-01  Summer        27.0        21.1   \n",
       "1          41515  Asadabad 1957-07-02  Summer        22.8        18.9   \n",
       "2          41515  Asadabad 1957-07-03  Summer        24.3        16.7   \n",
       "3          41515  Asadabad 1957-07-04  Summer        26.6        16.1   \n",
       "4          41515  Asadabad 1957-07-05  Summer        30.8        20.0   \n",
       "...          ...       ...        ...     ...         ...         ...   \n",
       "24216      67975  Masvingo 2023-09-01  Spring        19.5         9.6   \n",
       "24217      67975  Masvingo 2023-09-02  Spring        21.3        10.5   \n",
       "24218      67975  Masvingo 2023-09-03  Spring        22.1        13.0   \n",
       "24219      67975  Masvingo 2023-09-04  Spring        21.5        13.1   \n",
       "24220      67975  Masvingo 2023-09-05  Spring        20.0        14.0   \n",
       "\n",
       "       max_temp_c  precipitation_mm  snow_depth_mm  avg_wind_dir_deg  \\\n",
       "0            35.6               0.0            NaN               NaN   \n",
       "1            32.2               0.0            NaN               NaN   \n",
       "2            35.6               1.0            NaN               NaN   \n",
       "3            37.8               4.1            NaN               NaN   \n",
       "4            41.7               0.0            NaN               NaN   \n",
       "...           ...               ...            ...               ...   \n",
       "24216        28.4               NaN            NaN             180.0   \n",
       "24217        31.4               NaN            NaN             146.0   \n",
       "24218        31.5               NaN            NaN             147.0   \n",
       "24219        29.7               NaN            NaN             155.0   \n",
       "24220        27.3               NaN            NaN             141.0   \n",
       "\n",
       "       avg_wind_speed_kmh  peak_wind_gust_kmh  avg_sea_level_pres_hpa  \\\n",
       "0                     NaN                 NaN                     NaN   \n",
       "1                     NaN                 NaN                     NaN   \n",
       "2                     NaN                 NaN                     NaN   \n",
       "3                     NaN                 NaN                     NaN   \n",
       "4                     NaN                 NaN                     NaN   \n",
       "...                   ...                 ...                     ...   \n",
       "24216                 4.6                 NaN                     NaN   \n",
       "24217                 6.3                 NaN                     NaN   \n",
       "24218                 8.2                 NaN                     NaN   \n",
       "24219                10.2                 NaN                     NaN   \n",
       "24220                12.9                 NaN                     NaN   \n",
       "\n",
       "       sunshine_total_min  \n",
       "0                     NaN  \n",
       "1                     NaN  \n",
       "2                     NaN  \n",
       "3                     NaN  \n",
       "4                     NaN  \n",
       "...                   ...  \n",
       "24216                 NaN  \n",
       "24217                 NaN  \n",
       "24218                 NaN  \n",
       "24219                 NaN  \n",
       "24220                 NaN  \n",
       "\n",
       "[27635763 rows x 14 columns]"
      ]
     },
     "execution_count": 7,
     "metadata": {},
     "output_type": "execute_result"
    }
   ],
   "source": [
    "# View the `weather_data` dataframe\n",
    "weather_data"
   ]
  },
  {
   "cell_type": "markdown",
   "metadata": {},
   "source": [
    "*Keeping* the following columns:\n",
    "- 'station_id'\n",
    "- 'city_name'\n",
    "- 'date'\n",
    "- '*_temp_c' (avg, min, max)\n",
    "- 'precipitation_mm'\n",
    "- 'snow_depth_mm'\n",
    "- 'avg_wind_dir_deg'\n",
    "- 'avg_wind_speed_kmh'\n",
    "- 'peak_wind_gust_kmh'\n",
    "- 'avg_sea_level_pres_hpa'\n",
    "- 'sunshine_total_min'\n",
    "\n",
    "*Removing* the following columns:\n",
    "- 'season'"
   ]
  },
  {
   "cell_type": "code",
   "execution_count": 8,
   "metadata": {},
   "outputs": [
    {
     "data": {
      "text/plain": [
       "(27635763, 13)"
      ]
     },
     "execution_count": 8,
     "metadata": {},
     "output_type": "execute_result"
    }
   ],
   "source": [
    "# Drop columns that are not needed for the analysis\n",
    "weather_data.drop(columns=['season'], inplace=True)\n",
    "\n",
    "# Check the shape of the dataframe\n",
    "weather_data.shape"
   ]
  },
  {
   "cell_type": "markdown",
   "metadata": {},
   "source": [
    "#### 4.1.4 DataFrame: `migraine_data`"
   ]
  },
  {
   "cell_type": "code",
   "execution_count": 9,
   "metadata": {},
   "outputs": [
    {
     "data": {
      "text/html": [
       "<div>\n",
       "<style scoped>\n",
       "    .dataframe tbody tr th:only-of-type {\n",
       "        vertical-align: middle;\n",
       "    }\n",
       "\n",
       "    .dataframe tbody tr th {\n",
       "        vertical-align: top;\n",
       "    }\n",
       "\n",
       "    .dataframe thead th {\n",
       "        text-align: right;\n",
       "    }\n",
       "</style>\n",
       "<table border=\"1\" class=\"dataframe\">\n",
       "  <thead>\n",
       "    <tr style=\"text-align: right;\">\n",
       "      <th></th>\n",
       "      <th>measure</th>\n",
       "      <th>location</th>\n",
       "      <th>sex</th>\n",
       "      <th>age</th>\n",
       "      <th>cause</th>\n",
       "      <th>metric</th>\n",
       "      <th>year</th>\n",
       "      <th>val</th>\n",
       "      <th>upper</th>\n",
       "      <th>lower</th>\n",
       "    </tr>\n",
       "  </thead>\n",
       "  <tbody>\n",
       "    <tr>\n",
       "      <th>0</th>\n",
       "      <td>YLDs (Years Lived with Disability)</td>\n",
       "      <td>United States of America</td>\n",
       "      <td>Both</td>\n",
       "      <td>All ages</td>\n",
       "      <td>Migraine</td>\n",
       "      <td>Number</td>\n",
       "      <td>1990</td>\n",
       "      <td>1.671805e+06</td>\n",
       "      <td>3.778398e+06</td>\n",
       "      <td>241755.675720</td>\n",
       "    </tr>\n",
       "    <tr>\n",
       "      <th>1</th>\n",
       "      <td>YLDs (Years Lived with Disability)</td>\n",
       "      <td>United States of America</td>\n",
       "      <td>Both</td>\n",
       "      <td>All ages</td>\n",
       "      <td>Migraine</td>\n",
       "      <td>Percent</td>\n",
       "      <td>1990</td>\n",
       "      <td>4.717688e-02</td>\n",
       "      <td>1.006749e-01</td>\n",
       "      <td>0.007690</td>\n",
       "    </tr>\n",
       "    <tr>\n",
       "      <th>2</th>\n",
       "      <td>YLDs (Years Lived with Disability)</td>\n",
       "      <td>United States of America</td>\n",
       "      <td>Both</td>\n",
       "      <td>All ages</td>\n",
       "      <td>Migraine</td>\n",
       "      <td>Rate</td>\n",
       "      <td>1990</td>\n",
       "      <td>6.592145e+02</td>\n",
       "      <td>1.489872e+03</td>\n",
       "      <td>95.327429</td>\n",
       "    </tr>\n",
       "    <tr>\n",
       "      <th>3</th>\n",
       "      <td>YLDs (Years Lived with Disability)</td>\n",
       "      <td>United States of America</td>\n",
       "      <td>Both</td>\n",
       "      <td>All ages</td>\n",
       "      <td>Migraine</td>\n",
       "      <td>Number</td>\n",
       "      <td>1991</td>\n",
       "      <td>1.685792e+06</td>\n",
       "      <td>3.829800e+06</td>\n",
       "      <td>246742.189926</td>\n",
       "    </tr>\n",
       "    <tr>\n",
       "      <th>4</th>\n",
       "      <td>YLDs (Years Lived with Disability)</td>\n",
       "      <td>United States of America</td>\n",
       "      <td>Both</td>\n",
       "      <td>All ages</td>\n",
       "      <td>Migraine</td>\n",
       "      <td>Percent</td>\n",
       "      <td>1991</td>\n",
       "      <td>4.728241e-02</td>\n",
       "      <td>1.003127e-01</td>\n",
       "      <td>0.007767</td>\n",
       "    </tr>\n",
       "    <tr>\n",
       "      <th>...</th>\n",
       "      <td>...</td>\n",
       "      <td>...</td>\n",
       "      <td>...</td>\n",
       "      <td>...</td>\n",
       "      <td>...</td>\n",
       "      <td>...</td>\n",
       "      <td>...</td>\n",
       "      <td>...</td>\n",
       "      <td>...</td>\n",
       "      <td>...</td>\n",
       "    </tr>\n",
       "    <tr>\n",
       "      <th>42115</th>\n",
       "      <td>Incidence</td>\n",
       "      <td>Texas</td>\n",
       "      <td>Both</td>\n",
       "      <td>All ages</td>\n",
       "      <td>Migraine</td>\n",
       "      <td>Percent</td>\n",
       "      <td>2018</td>\n",
       "      <td>2.316704e-03</td>\n",
       "      <td>2.633470e-03</td>\n",
       "      <td>0.002018</td>\n",
       "    </tr>\n",
       "    <tr>\n",
       "      <th>42116</th>\n",
       "      <td>Incidence</td>\n",
       "      <td>Texas</td>\n",
       "      <td>Both</td>\n",
       "      <td>All ages</td>\n",
       "      <td>Migraine</td>\n",
       "      <td>Rate</td>\n",
       "      <td>2018</td>\n",
       "      <td>1.238702e+03</td>\n",
       "      <td>1.375767e+03</td>\n",
       "      <td>1093.786554</td>\n",
       "    </tr>\n",
       "    <tr>\n",
       "      <th>42117</th>\n",
       "      <td>Incidence</td>\n",
       "      <td>Texas</td>\n",
       "      <td>Both</td>\n",
       "      <td>All ages</td>\n",
       "      <td>Migraine</td>\n",
       "      <td>Number</td>\n",
       "      <td>2019</td>\n",
       "      <td>3.513345e+05</td>\n",
       "      <td>3.901596e+05</td>\n",
       "      <td>310282.248976</td>\n",
       "    </tr>\n",
       "    <tr>\n",
       "      <th>42118</th>\n",
       "      <td>Incidence</td>\n",
       "      <td>Texas</td>\n",
       "      <td>Both</td>\n",
       "      <td>All ages</td>\n",
       "      <td>Migraine</td>\n",
       "      <td>Percent</td>\n",
       "      <td>2019</td>\n",
       "      <td>2.221614e-03</td>\n",
       "      <td>2.516136e-03</td>\n",
       "      <td>0.001929</td>\n",
       "    </tr>\n",
       "    <tr>\n",
       "      <th>42119</th>\n",
       "      <td>Incidence</td>\n",
       "      <td>Texas</td>\n",
       "      <td>Both</td>\n",
       "      <td>All ages</td>\n",
       "      <td>Migraine</td>\n",
       "      <td>Rate</td>\n",
       "      <td>2019</td>\n",
       "      <td>1.236282e+03</td>\n",
       "      <td>1.372900e+03</td>\n",
       "      <td>1091.826609</td>\n",
       "    </tr>\n",
       "  </tbody>\n",
       "</table>\n",
       "<p>42120 rows × 10 columns</p>\n",
       "</div>"
      ],
      "text/plain": [
       "                                  measure                  location   sex  \\\n",
       "0      YLDs (Years Lived with Disability)  United States of America  Both   \n",
       "1      YLDs (Years Lived with Disability)  United States of America  Both   \n",
       "2      YLDs (Years Lived with Disability)  United States of America  Both   \n",
       "3      YLDs (Years Lived with Disability)  United States of America  Both   \n",
       "4      YLDs (Years Lived with Disability)  United States of America  Both   \n",
       "...                                   ...                       ...   ...   \n",
       "42115                           Incidence                     Texas  Both   \n",
       "42116                           Incidence                     Texas  Both   \n",
       "42117                           Incidence                     Texas  Both   \n",
       "42118                           Incidence                     Texas  Both   \n",
       "42119                           Incidence                     Texas  Both   \n",
       "\n",
       "            age     cause   metric  year           val         upper  \\\n",
       "0      All ages  Migraine   Number  1990  1.671805e+06  3.778398e+06   \n",
       "1      All ages  Migraine  Percent  1990  4.717688e-02  1.006749e-01   \n",
       "2      All ages  Migraine     Rate  1990  6.592145e+02  1.489872e+03   \n",
       "3      All ages  Migraine   Number  1991  1.685792e+06  3.829800e+06   \n",
       "4      All ages  Migraine  Percent  1991  4.728241e-02  1.003127e-01   \n",
       "...         ...       ...      ...   ...           ...           ...   \n",
       "42115  All ages  Migraine  Percent  2018  2.316704e-03  2.633470e-03   \n",
       "42116  All ages  Migraine     Rate  2018  1.238702e+03  1.375767e+03   \n",
       "42117  All ages  Migraine   Number  2019  3.513345e+05  3.901596e+05   \n",
       "42118  All ages  Migraine  Percent  2019  2.221614e-03  2.516136e-03   \n",
       "42119  All ages  Migraine     Rate  2019  1.236282e+03  1.372900e+03   \n",
       "\n",
       "               lower  \n",
       "0      241755.675720  \n",
       "1           0.007690  \n",
       "2          95.327429  \n",
       "3      246742.189926  \n",
       "4           0.007767  \n",
       "...              ...  \n",
       "42115       0.002018  \n",
       "42116    1093.786554  \n",
       "42117  310282.248976  \n",
       "42118       0.001929  \n",
       "42119    1091.826609  \n",
       "\n",
       "[42120 rows x 10 columns]"
      ]
     },
     "execution_count": 9,
     "metadata": {},
     "output_type": "execute_result"
    }
   ],
   "source": [
    "# View the migraine data\n",
    "migraine_data"
   ]
  },
  {
   "cell_type": "markdown",
   "metadata": {},
   "source": [
    "*Keeping* all columns:\n",
    "- 'measure'\n",
    "- 'location'\n",
    "- 'sex'\n",
    "- 'age'\n",
    "- 'cause'\n",
    "- 'metric'\n",
    "- 'year'\n",
    "- 'val'\n",
    "- 'upper'\n",
    "- 'lower'"
   ]
  },
  {
   "cell_type": "code",
   "execution_count": 10,
   "metadata": {},
   "outputs": [
    {
     "data": {
      "text/plain": [
       "(42120, 10)"
      ]
     },
     "execution_count": 10,
     "metadata": {},
     "output_type": "execute_result"
    }
   ],
   "source": [
    "# Check the shape of the dataframe\n",
    "migraine_data.shape"
   ]
  },
  {
   "cell_type": "code",
   "execution_count": 11,
   "metadata": {},
   "outputs": [
    {
     "data": {
      "text/plain": [
       "array(['YLDs (Years Lived with Disability)', 'Prevalence', 'Incidence'],\n",
       "      dtype=object)"
      ]
     },
     "execution_count": 11,
     "metadata": {},
     "output_type": "execute_result"
    }
   ],
   "source": [
    "# Check the unique values of the measure_name column\n",
    "migraine_data['measure'].unique()"
   ]
  },
  {
   "cell_type": "code",
   "execution_count": 12,
   "metadata": {},
   "outputs": [
    {
     "data": {
      "text/plain": [
       "array(['Number', 'Percent', 'Rate'], dtype=object)"
      ]
     },
     "execution_count": 12,
     "metadata": {},
     "output_type": "execute_result"
    }
   ],
   "source": [
    "# Check the unique values of the metric_name column\n",
    "migraine_data['metric'].unique()"
   ]
  },
  {
   "cell_type": "markdown",
   "metadata": {},
   "source": [
    "For this analysis, we will only be looking at the prevalence (total # of cases in the population) of headache disorders (i.e., migraine, tension-type headache), so we will remove all other rows. In addition, we will remove all percent and rate values, as we are only interested in the total number of cases."
   ]
  },
  {
   "cell_type": "code",
   "execution_count": 13,
   "metadata": {},
   "outputs": [
    {
     "data": {
      "text/html": [
       "<div>\n",
       "<style scoped>\n",
       "    .dataframe tbody tr th:only-of-type {\n",
       "        vertical-align: middle;\n",
       "    }\n",
       "\n",
       "    .dataframe tbody tr th {\n",
       "        vertical-align: top;\n",
       "    }\n",
       "\n",
       "    .dataframe thead th {\n",
       "        text-align: right;\n",
       "    }\n",
       "</style>\n",
       "<table border=\"1\" class=\"dataframe\">\n",
       "  <thead>\n",
       "    <tr style=\"text-align: right;\">\n",
       "      <th></th>\n",
       "      <th>measure</th>\n",
       "      <th>location</th>\n",
       "      <th>sex</th>\n",
       "      <th>age</th>\n",
       "      <th>cause</th>\n",
       "      <th>metric</th>\n",
       "      <th>year</th>\n",
       "      <th>val</th>\n",
       "      <th>upper</th>\n",
       "      <th>lower</th>\n",
       "    </tr>\n",
       "  </thead>\n",
       "  <tbody>\n",
       "    <tr>\n",
       "      <th>14040</th>\n",
       "      <td>Prevalence</td>\n",
       "      <td>United States of America</td>\n",
       "      <td>Both</td>\n",
       "      <td>All ages</td>\n",
       "      <td>Tension-type headache</td>\n",
       "      <td>Number</td>\n",
       "      <td>1990</td>\n",
       "      <td>94137563.02</td>\n",
       "      <td>104944453.93</td>\n",
       "      <td>83914199.49</td>\n",
       "    </tr>\n",
       "    <tr>\n",
       "      <th>14043</th>\n",
       "      <td>Prevalence</td>\n",
       "      <td>United States of America</td>\n",
       "      <td>Both</td>\n",
       "      <td>All ages</td>\n",
       "      <td>Tension-type headache</td>\n",
       "      <td>Number</td>\n",
       "      <td>1991</td>\n",
       "      <td>95122542.49</td>\n",
       "      <td>105985784.17</td>\n",
       "      <td>84736206.21</td>\n",
       "    </tr>\n",
       "    <tr>\n",
       "      <th>14046</th>\n",
       "      <td>Prevalence</td>\n",
       "      <td>United States of America</td>\n",
       "      <td>Both</td>\n",
       "      <td>All ages</td>\n",
       "      <td>Tension-type headache</td>\n",
       "      <td>Number</td>\n",
       "      <td>1992</td>\n",
       "      <td>96064539.25</td>\n",
       "      <td>107064574.03</td>\n",
       "      <td>85565071.28</td>\n",
       "    </tr>\n",
       "    <tr>\n",
       "      <th>14049</th>\n",
       "      <td>Prevalence</td>\n",
       "      <td>United States of America</td>\n",
       "      <td>Both</td>\n",
       "      <td>All ages</td>\n",
       "      <td>Tension-type headache</td>\n",
       "      <td>Number</td>\n",
       "      <td>1993</td>\n",
       "      <td>97013060.67</td>\n",
       "      <td>108116414.83</td>\n",
       "      <td>86411956.23</td>\n",
       "    </tr>\n",
       "    <tr>\n",
       "      <th>14052</th>\n",
       "      <td>Prevalence</td>\n",
       "      <td>United States of America</td>\n",
       "      <td>Both</td>\n",
       "      <td>All ages</td>\n",
       "      <td>Tension-type headache</td>\n",
       "      <td>Number</td>\n",
       "      <td>1994</td>\n",
       "      <td>97986471.88</td>\n",
       "      <td>109149023.79</td>\n",
       "      <td>87283374.60</td>\n",
       "    </tr>\n",
       "    <tr>\n",
       "      <th>...</th>\n",
       "      <td>...</td>\n",
       "      <td>...</td>\n",
       "      <td>...</td>\n",
       "      <td>...</td>\n",
       "      <td>...</td>\n",
       "      <td>...</td>\n",
       "      <td>...</td>\n",
       "      <td>...</td>\n",
       "      <td>...</td>\n",
       "      <td>...</td>\n",
       "    </tr>\n",
       "    <tr>\n",
       "      <th>28065</th>\n",
       "      <td>Prevalence</td>\n",
       "      <td>Washington</td>\n",
       "      <td>Both</td>\n",
       "      <td>All ages</td>\n",
       "      <td>Headache disorders</td>\n",
       "      <td>Number</td>\n",
       "      <td>2015</td>\n",
       "      <td>3015306.92</td>\n",
       "      <td>3214381.32</td>\n",
       "      <td>2808762.95</td>\n",
       "    </tr>\n",
       "    <tr>\n",
       "      <th>28068</th>\n",
       "      <td>Prevalence</td>\n",
       "      <td>Washington</td>\n",
       "      <td>Both</td>\n",
       "      <td>All ages</td>\n",
       "      <td>Headache disorders</td>\n",
       "      <td>Number</td>\n",
       "      <td>2016</td>\n",
       "      <td>3041906.05</td>\n",
       "      <td>3242427.97</td>\n",
       "      <td>2828632.30</td>\n",
       "    </tr>\n",
       "    <tr>\n",
       "      <th>28071</th>\n",
       "      <td>Prevalence</td>\n",
       "      <td>Washington</td>\n",
       "      <td>Both</td>\n",
       "      <td>All ages</td>\n",
       "      <td>Headache disorders</td>\n",
       "      <td>Number</td>\n",
       "      <td>2017</td>\n",
       "      <td>3068098.60</td>\n",
       "      <td>3268882.95</td>\n",
       "      <td>2854289.62</td>\n",
       "    </tr>\n",
       "    <tr>\n",
       "      <th>28074</th>\n",
       "      <td>Prevalence</td>\n",
       "      <td>Washington</td>\n",
       "      <td>Both</td>\n",
       "      <td>All ages</td>\n",
       "      <td>Headache disorders</td>\n",
       "      <td>Number</td>\n",
       "      <td>2018</td>\n",
       "      <td>3093045.11</td>\n",
       "      <td>3300792.17</td>\n",
       "      <td>2874046.06</td>\n",
       "    </tr>\n",
       "    <tr>\n",
       "      <th>28077</th>\n",
       "      <td>Prevalence</td>\n",
       "      <td>Washington</td>\n",
       "      <td>Both</td>\n",
       "      <td>All ages</td>\n",
       "      <td>Headache disorders</td>\n",
       "      <td>Number</td>\n",
       "      <td>2019</td>\n",
       "      <td>3117275.00</td>\n",
       "      <td>3323583.87</td>\n",
       "      <td>2896909.64</td>\n",
       "    </tr>\n",
       "  </tbody>\n",
       "</table>\n",
       "<p>4680 rows × 10 columns</p>\n",
       "</div>"
      ],
      "text/plain": [
       "          measure                  location   sex       age  \\\n",
       "14040  Prevalence  United States of America  Both  All ages   \n",
       "14043  Prevalence  United States of America  Both  All ages   \n",
       "14046  Prevalence  United States of America  Both  All ages   \n",
       "14049  Prevalence  United States of America  Both  All ages   \n",
       "14052  Prevalence  United States of America  Both  All ages   \n",
       "...           ...                       ...   ...       ...   \n",
       "28065  Prevalence                Washington  Both  All ages   \n",
       "28068  Prevalence                Washington  Both  All ages   \n",
       "28071  Prevalence                Washington  Both  All ages   \n",
       "28074  Prevalence                Washington  Both  All ages   \n",
       "28077  Prevalence                Washington  Both  All ages   \n",
       "\n",
       "                       cause  metric  year         val        upper  \\\n",
       "14040  Tension-type headache  Number  1990 94137563.02 104944453.93   \n",
       "14043  Tension-type headache  Number  1991 95122542.49 105985784.17   \n",
       "14046  Tension-type headache  Number  1992 96064539.25 107064574.03   \n",
       "14049  Tension-type headache  Number  1993 97013060.67 108116414.83   \n",
       "14052  Tension-type headache  Number  1994 97986471.88 109149023.79   \n",
       "...                      ...     ...   ...         ...          ...   \n",
       "28065     Headache disorders  Number  2015  3015306.92   3214381.32   \n",
       "28068     Headache disorders  Number  2016  3041906.05   3242427.97   \n",
       "28071     Headache disorders  Number  2017  3068098.60   3268882.95   \n",
       "28074     Headache disorders  Number  2018  3093045.11   3300792.17   \n",
       "28077     Headache disorders  Number  2019  3117275.00   3323583.87   \n",
       "\n",
       "            lower  \n",
       "14040 83914199.49  \n",
       "14043 84736206.21  \n",
       "14046 85565071.28  \n",
       "14049 86411956.23  \n",
       "14052 87283374.60  \n",
       "...           ...  \n",
       "28065  2808762.95  \n",
       "28068  2828632.30  \n",
       "28071  2854289.62  \n",
       "28074  2874046.06  \n",
       "28077  2896909.64  \n",
       "\n",
       "[4680 rows x 10 columns]"
      ]
     },
     "execution_count": 13,
     "metadata": {},
     "output_type": "execute_result"
    }
   ],
   "source": [
    "# Filter the data to only include the prevalence and number of headache and migraine cases\n",
    "\n",
    "# Identify indices to drop for both 'measure' and 'metric'\n",
    "measure_indices_to_drop = migraine_data[migraine_data['measure'].isin(['YLDs (Years Lived with Disability)', 'Incidence'])].index\n",
    "metric_indices_to_drop = migraine_data[migraine_data['metric'].isin(['Percent', 'Rate'])].index\n",
    "\n",
    "# Combine the indices\n",
    "all_indices_to_drop = measure_indices_to_drop.union(metric_indices_to_drop)\n",
    "\n",
    "# Drop rows\n",
    "filtered_migraine_data = migraine_data.drop(all_indices_to_drop)\n",
    "\n",
    "# Format values in the val, upper, and lower columns to two decimal places\n",
    "pd.set_option('display.float_format', lambda x:'%.2f' % x)\n",
    "\n",
    "filtered_migraine_data"
   ]
  },
  {
   "cell_type": "code",
   "execution_count": 14,
   "metadata": {},
   "outputs": [
    {
     "data": {
      "text/html": [
       "<div>\n",
       "<style scoped>\n",
       "    .dataframe tbody tr th:only-of-type {\n",
       "        vertical-align: middle;\n",
       "    }\n",
       "\n",
       "    .dataframe tbody tr th {\n",
       "        vertical-align: top;\n",
       "    }\n",
       "\n",
       "    .dataframe thead th {\n",
       "        text-align: right;\n",
       "    }\n",
       "</style>\n",
       "<table border=\"1\" class=\"dataframe\">\n",
       "  <thead>\n",
       "    <tr style=\"text-align: right;\">\n",
       "      <th></th>\n",
       "      <th>measure</th>\n",
       "      <th>state</th>\n",
       "      <th>sex</th>\n",
       "      <th>age</th>\n",
       "      <th>cause</th>\n",
       "      <th>metric</th>\n",
       "      <th>year</th>\n",
       "      <th>val</th>\n",
       "      <th>upper</th>\n",
       "      <th>lower</th>\n",
       "    </tr>\n",
       "  </thead>\n",
       "  <tbody>\n",
       "    <tr>\n",
       "      <th>14220</th>\n",
       "      <td>Prevalence</td>\n",
       "      <td>Georgia</td>\n",
       "      <td>Both</td>\n",
       "      <td>All ages</td>\n",
       "      <td>Headache disorders</td>\n",
       "      <td>Number</td>\n",
       "      <td>1990</td>\n",
       "      <td>2875413.67</td>\n",
       "      <td>3078619.16</td>\n",
       "      <td>2665563.56</td>\n",
       "    </tr>\n",
       "    <tr>\n",
       "      <th>14223</th>\n",
       "      <td>Prevalence</td>\n",
       "      <td>Georgia</td>\n",
       "      <td>Both</td>\n",
       "      <td>All ages</td>\n",
       "      <td>Headache disorders</td>\n",
       "      <td>Number</td>\n",
       "      <td>1991</td>\n",
       "      <td>2934665.40</td>\n",
       "      <td>3144336.75</td>\n",
       "      <td>2724736.09</td>\n",
       "    </tr>\n",
       "    <tr>\n",
       "      <th>14226</th>\n",
       "      <td>Prevalence</td>\n",
       "      <td>Georgia</td>\n",
       "      <td>Both</td>\n",
       "      <td>All ages</td>\n",
       "      <td>Headache disorders</td>\n",
       "      <td>Number</td>\n",
       "      <td>1992</td>\n",
       "      <td>2994816.92</td>\n",
       "      <td>3204924.80</td>\n",
       "      <td>2780280.62</td>\n",
       "    </tr>\n",
       "    <tr>\n",
       "      <th>14229</th>\n",
       "      <td>Prevalence</td>\n",
       "      <td>Georgia</td>\n",
       "      <td>Both</td>\n",
       "      <td>All ages</td>\n",
       "      <td>Headache disorders</td>\n",
       "      <td>Number</td>\n",
       "      <td>1993</td>\n",
       "      <td>3056114.30</td>\n",
       "      <td>3273188.90</td>\n",
       "      <td>2835990.89</td>\n",
       "    </tr>\n",
       "    <tr>\n",
       "      <th>14232</th>\n",
       "      <td>Prevalence</td>\n",
       "      <td>Georgia</td>\n",
       "      <td>Both</td>\n",
       "      <td>All ages</td>\n",
       "      <td>Headache disorders</td>\n",
       "      <td>Number</td>\n",
       "      <td>1994</td>\n",
       "      <td>3119125.40</td>\n",
       "      <td>3335414.03</td>\n",
       "      <td>2894770.35</td>\n",
       "    </tr>\n",
       "    <tr>\n",
       "      <th>...</th>\n",
       "      <td>...</td>\n",
       "      <td>...</td>\n",
       "      <td>...</td>\n",
       "      <td>...</td>\n",
       "      <td>...</td>\n",
       "      <td>...</td>\n",
       "      <td>...</td>\n",
       "      <td>...</td>\n",
       "      <td>...</td>\n",
       "      <td>...</td>\n",
       "    </tr>\n",
       "    <tr>\n",
       "      <th>28065</th>\n",
       "      <td>Prevalence</td>\n",
       "      <td>Washington</td>\n",
       "      <td>Both</td>\n",
       "      <td>All ages</td>\n",
       "      <td>Headache disorders</td>\n",
       "      <td>Number</td>\n",
       "      <td>2015</td>\n",
       "      <td>3015306.92</td>\n",
       "      <td>3214381.32</td>\n",
       "      <td>2808762.95</td>\n",
       "    </tr>\n",
       "    <tr>\n",
       "      <th>28068</th>\n",
       "      <td>Prevalence</td>\n",
       "      <td>Washington</td>\n",
       "      <td>Both</td>\n",
       "      <td>All ages</td>\n",
       "      <td>Headache disorders</td>\n",
       "      <td>Number</td>\n",
       "      <td>2016</td>\n",
       "      <td>3041906.05</td>\n",
       "      <td>3242427.97</td>\n",
       "      <td>2828632.30</td>\n",
       "    </tr>\n",
       "    <tr>\n",
       "      <th>28071</th>\n",
       "      <td>Prevalence</td>\n",
       "      <td>Washington</td>\n",
       "      <td>Both</td>\n",
       "      <td>All ages</td>\n",
       "      <td>Headache disorders</td>\n",
       "      <td>Number</td>\n",
       "      <td>2017</td>\n",
       "      <td>3068098.60</td>\n",
       "      <td>3268882.95</td>\n",
       "      <td>2854289.62</td>\n",
       "    </tr>\n",
       "    <tr>\n",
       "      <th>28074</th>\n",
       "      <td>Prevalence</td>\n",
       "      <td>Washington</td>\n",
       "      <td>Both</td>\n",
       "      <td>All ages</td>\n",
       "      <td>Headache disorders</td>\n",
       "      <td>Number</td>\n",
       "      <td>2018</td>\n",
       "      <td>3093045.11</td>\n",
       "      <td>3300792.17</td>\n",
       "      <td>2874046.06</td>\n",
       "    </tr>\n",
       "    <tr>\n",
       "      <th>28077</th>\n",
       "      <td>Prevalence</td>\n",
       "      <td>Washington</td>\n",
       "      <td>Both</td>\n",
       "      <td>All ages</td>\n",
       "      <td>Headache disorders</td>\n",
       "      <td>Number</td>\n",
       "      <td>2019</td>\n",
       "      <td>3117275.00</td>\n",
       "      <td>3323583.87</td>\n",
       "      <td>2896909.64</td>\n",
       "    </tr>\n",
       "  </tbody>\n",
       "</table>\n",
       "<p>4590 rows × 10 columns</p>\n",
       "</div>"
      ],
      "text/plain": [
       "          measure       state   sex       age               cause  metric  \\\n",
       "14220  Prevalence     Georgia  Both  All ages  Headache disorders  Number   \n",
       "14223  Prevalence     Georgia  Both  All ages  Headache disorders  Number   \n",
       "14226  Prevalence     Georgia  Both  All ages  Headache disorders  Number   \n",
       "14229  Prevalence     Georgia  Both  All ages  Headache disorders  Number   \n",
       "14232  Prevalence     Georgia  Both  All ages  Headache disorders  Number   \n",
       "...           ...         ...   ...       ...                 ...     ...   \n",
       "28065  Prevalence  Washington  Both  All ages  Headache disorders  Number   \n",
       "28068  Prevalence  Washington  Both  All ages  Headache disorders  Number   \n",
       "28071  Prevalence  Washington  Both  All ages  Headache disorders  Number   \n",
       "28074  Prevalence  Washington  Both  All ages  Headache disorders  Number   \n",
       "28077  Prevalence  Washington  Both  All ages  Headache disorders  Number   \n",
       "\n",
       "       year        val      upper      lower  \n",
       "14220  1990 2875413.67 3078619.16 2665563.56  \n",
       "14223  1991 2934665.40 3144336.75 2724736.09  \n",
       "14226  1992 2994816.92 3204924.80 2780280.62  \n",
       "14229  1993 3056114.30 3273188.90 2835990.89  \n",
       "14232  1994 3119125.40 3335414.03 2894770.35  \n",
       "...     ...        ...        ...        ...  \n",
       "28065  2015 3015306.92 3214381.32 2808762.95  \n",
       "28068  2016 3041906.05 3242427.97 2828632.30  \n",
       "28071  2017 3068098.60 3268882.95 2854289.62  \n",
       "28074  2018 3093045.11 3300792.17 2874046.06  \n",
       "28077  2019 3117275.00 3323583.87 2896909.64  \n",
       "\n",
       "[4590 rows x 10 columns]"
      ]
     },
     "execution_count": 14,
     "metadata": {},
     "output_type": "execute_result"
    }
   ],
   "source": [
    "# Rename `location_name` in migraine_data to `state`\n",
    "filtered_migraine_data.rename(columns={'location': 'state'}, inplace=True)\n",
    "\n",
    "# Filter 'United States of America' out of the `state` column\n",
    "filtered_migraine_data = filtered_migraine_data[filtered_migraine_data['state'] != 'United States of America']\n",
    "\n",
    "filtered_migraine_data"
   ]
  },
  {
   "cell_type": "markdown",
   "metadata": {},
   "source": [
    "### 4.2 Review and Plan for Missing Values"
   ]
  },
  {
   "cell_type": "markdown",
   "metadata": {},
   "source": [
    "#### 4.2.1 DataFrame: `city_data`"
   ]
  },
  {
   "cell_type": "code",
   "execution_count": 15,
   "metadata": {},
   "outputs": [
    {
     "name": "stdout",
     "output_type": "stream",
     "text": [
      "\n",
      "City:\n",
      "\n",
      "station_id     0\n",
      "city_name      1\n",
      "country        0\n",
      "state         28\n",
      "iso2           6\n",
      "iso3           0\n",
      "latitude       0\n",
      "longitude      0\n",
      "dtype: int64\n"
     ]
    }
   ],
   "source": [
    "# Check for missing values\n",
    "print(\"\\nCity:\\n\")\n",
    "print(city_data.isnull().sum())"
   ]
  },
  {
   "cell_type": "markdown",
   "metadata": {},
   "source": [
    "Plan: Merge with `country_data` then merge with `weather_data` to fill in missing values."
   ]
  },
  {
   "cell_type": "markdown",
   "metadata": {},
   "source": [
    "#### 4.2.2 DataFrame: `country_data`"
   ]
  },
  {
   "cell_type": "code",
   "execution_count": 16,
   "metadata": {},
   "outputs": [
    {
     "name": "stdout",
     "output_type": "stream",
     "text": [
      "\n",
      "Country:\n",
      "\n",
      "country    0\n",
      "iso2       1\n",
      "iso3       0\n",
      "dtype: int64\n"
     ]
    }
   ],
   "source": [
    "# Check for missing values\n",
    "print(\"\\nCountry:\\n\")\n",
    "print(country_data.isnull().sum())"
   ]
  },
  {
   "cell_type": "markdown",
   "metadata": {},
   "source": [
    "Plan: Merge with `city_data` then merge with `weather_data` to fill in missing values."
   ]
  },
  {
   "cell_type": "markdown",
   "metadata": {},
   "source": [
    "#### 4.2.3 DataFrame: `weather_data`"
   ]
  },
  {
   "cell_type": "code",
   "execution_count": 17,
   "metadata": {},
   "outputs": [
    {
     "name": "stdout",
     "output_type": "stream",
     "text": [
      "\n",
      "Weather:\n",
      "\n",
      "station_id                       0\n",
      "city_name                    13993\n",
      "date                             0\n",
      "avg_temp_c                 6230907\n",
      "min_temp_c                 5718229\n",
      "max_temp_c                 5539346\n",
      "precipitation_mm           6642500\n",
      "snow_depth_mm             24208615\n",
      "avg_wind_dir_deg          24183195\n",
      "avg_wind_speed_kmh        22350295\n",
      "peak_wind_gust_kmh        26514277\n",
      "avg_sea_level_pres_hpa    23618606\n",
      "sunshine_total_min        26614302\n",
      "dtype: int64\n"
     ]
    }
   ],
   "source": [
    "# Check for missing values\n",
    "print(\"\\nWeather:\\n\")\n",
    "print(weather_data.isnull().sum())"
   ]
  },
  {
   "cell_type": "markdown",
   "metadata": {},
   "source": [
    "Plan: Merge with combined `city_data` and `country_data` then filter by country and year to fill in missing values."
   ]
  },
  {
   "cell_type": "markdown",
   "metadata": {},
   "source": [
    "#### 4.2.4 DataFrame: `filtered_migraine_data`"
   ]
  },
  {
   "cell_type": "code",
   "execution_count": 18,
   "metadata": {},
   "outputs": [
    {
     "name": "stdout",
     "output_type": "stream",
     "text": [
      "\n",
      "Filtered Migraine:\n",
      "\n",
      "measure    0\n",
      "state      0\n",
      "sex        0\n",
      "age        0\n",
      "cause      0\n",
      "metric     0\n",
      "year       0\n",
      "val        0\n",
      "upper      0\n",
      "lower      0\n",
      "dtype: int64\n"
     ]
    }
   ],
   "source": [
    "# Check for missing values\n",
    "print(\"\\nFiltered Migraine:\\n\")\n",
    "print(filtered_migraine_data.isnull().sum())"
   ]
  },
  {
   "cell_type": "markdown",
   "metadata": {},
   "source": [
    "No missing values.\n",
    "\n",
    "Plan: Merge with combined and filtered weather data."
   ]
  },
  {
   "cell_type": "markdown",
   "metadata": {},
   "source": [
    "## 5. Data Integration"
   ]
  },
  {
   "cell_type": "markdown",
   "metadata": {},
   "source": [
    "### 5.1 Overview"
   ]
  },
  {
   "cell_type": "markdown",
   "metadata": {},
   "source": [
    "Briefly introduce the goal of data integration in the context of this project. Provide a high-level view of the datasets that will be integrated."
   ]
  },
  {
   "cell_type": "markdown",
   "metadata": {},
   "source": [
    "### 5.2 Data Sources"
   ]
  },
  {
   "cell_type": "markdown",
   "metadata": {},
   "source": [
    "#### 5.2.1 Weather Data"
   ]
  },
  {
   "cell_type": "markdown",
   "metadata": {},
   "source": [
    "The weather data provides context regarding sea level pressure, sunshine, temperature, and precipitation for each city. This data is relevant because it provides information about the weather conditions that may be associated with migraine prevalence. The country data will be combined with the city data to provide additional information about each city, such as the country, region, and continent. The combined city and country data will then be combined with the weather data to provide additional information.\n",
    "\n",
    "The daily weather data source file is quite large and is provided in a .parquet format for low memory consumption and data type preservation. "
   ]
  },
  {
   "cell_type": "markdown",
   "metadata": {},
   "source": [
    "##### 5.2.1.1 Cities DataFrame"
   ]
  },
  {
   "cell_type": "markdown",
   "metadata": {},
   "source": [
    "| Attribute            | Description                                        |\n",
    "|----------------------|----------------------------------------------------|\n",
    "| **Data Source Name** | cities.csv                                         |\n",
    "| **Data Source Format** | CSV (comma-separated values)                       |\n",
    "| **Data Source Desc** | Individual cities and weather stations around the world |\n",
    "| **Data Source Size** | 84.1 KB                                             |\n",
    "|                      | 1245 rows                                           |\n",
    "|                      | 8 columns                                           |\n",
    "| **Data Source Limits** | None                                              |\n",
    "| **Data Source Usability** | 10.00                                          |\n",
    "\n",
    "**Data Source Columns**\n",
    "\n",
    "| Column Name  | Description                               |\n",
    "|--------------|-------------------------------------------|\n",
    "| `station_id` | Unique ID for the weather station.        |\n",
    "| `city_name`  | Name of the city.                         |\n",
    "| `country`    | The country where the city is located.    |\n",
    "| `state`      | The state or province within the country. |\n",
    "| `iso2`       | The two-letter country code.              |\n",
    "| `iso3`       | The three-letter country code.            |\n",
    "| `latitude`   | Latitude coordinate of the city.          |\n",
    "| `longitude`  | Longitude coordinate of the city.         |\n"
   ]
  },
  {
   "cell_type": "markdown",
   "metadata": {},
   "source": [
    "##### 5.2.1.2 Countries DataFrame"
   ]
  },
  {
   "cell_type": "markdown",
   "metadata": {},
   "source": [
    "| Attribute            | Description                                        |\n",
    "|----------------------|----------------------------------------------------|\n",
    "| **Data Source Name** | countries.csv                                         |\n",
    "| **Data Source Format** | CSV (comma-separated values)                       |\n",
    "| **Data Source Desc** | Individual country geographic and demographic characteristics |\n",
    "| **Data Source Size** | 20.6 KB                        |\n",
    "|                      | 214 rows                                    |\n",
    "|                      | 11 columns                                       |\n",
    "| **Data Source Limits** | None                                              |\n",
    "| **Data Source Usability** | 10.00                                           |\n",
    "\n",
    "**Data Source Columns**\n",
    "\n",
    "| Column Name  | Description                                               |\n",
    "|--------------|-----------------------------------------------------------|\n",
    "| `iso3`       | The three-letter code representing the country.           |\n",
    "| `country`    | The English name of the country.                          |\n",
    "| `native_name`| The native name of the country.                           |\n",
    "| `iso2`       | The two-letter code representing the country.             |\n",
    "| `population` | The population of the country.                            |\n",
    "| `area`       | The total land area of the country in square kilometers.  |\n",
    "| `capital`    | The name of the capital city.                             |\n",
    "| `capital_lat`| The latitude coordinate of the capital city.              |\n",
    "| `capital_lng`| The longitude coordinate of the capital city.             |\n",
    "| `region`     | The specific region within the continent where the country is located. |\n",
    "| `continent`  | The continent to which the country belongs.               |"
   ]
  },
  {
   "cell_type": "markdown",
   "metadata": {},
   "source": [
    "##### 5.2.1.3 Daily Weather DataFrame"
   ]
  },
  {
   "cell_type": "markdown",
   "metadata": {},
   "source": [
    "| Attribute            | Description                                        |\n",
    "|----------------------|----------------------------------------------------|\n",
    "| **Data Source Name** | daily_weather.parquet                              |\n",
    "| **Data Source Format** | .parquet (compressed, maintains original data types, efficient)|\n",
    "| **Data Source Desc** | Daily weather data                            |\n",
    "| **Data Source Size** | 233 MB                                    |\n",
    "|                      | 27635763 rows                             |\n",
    "|                      | 14 columns                                 |\n",
    "| **Data Source Limits** | None                                              |\n",
    "| **Data Source Usability** | 10.00                                           |\n",
    "\n",
    "**Data Source Columns**\n",
    "\n",
    "| Column Name            | Description                                       |\n",
    "|------------------------|---------------------------------------------------|\n",
    "| `station_id`           | Unique ID for the weather station.                |\n",
    "| `city_name`            | Name of the city where the station is located.    |\n",
    "| `date`                 | Date of the weather record.                       |\n",
    "| `season`               | Season corresponding to the date (e.g., summer, winter).|\n",
    "| `avg_temp_c`           | Average temperature in Celsius.                   |\n",
    "| `min_temp_c`           | Minimum temperature in Celsius.                   |\n",
    "| `max_temp_c`           | Maximum temperature in Celsius.                   |\n",
    "| `precipitation_mm`     | Precipitation in millimeters.                     |\n",
    "| `snow_depth_mm`        | Snow depth in millimeters.                        |\n",
    "| `avg_wind_dir_deg`     | Average wind direction in degrees.                |\n",
    "| `avg_wind_speed_kmh`   | Average wind speed in kilometers per hour.        |\n",
    "| `peak_wind_gust_kmh`   | Peak wind gust in kilometers per hour.            |\n",
    "| `avg_sea_level_pres_hpa`| Average sea-level pressure in hectopascals.      |\n",
    "| `sunshine_total_min`   | Total sunshine duration in minutes.               |"
   ]
  },
  {
   "cell_type": "markdown",
   "metadata": {},
   "source": [
    "#### 5.2.2 Migraine Data"
   ]
  },
  {
   "cell_type": "markdown",
   "metadata": {},
   "source": [
    "The migraine data provides information about the prevalence of migraine in different countries and, more specifically, within the United States. This data is relevant because it provides information about the prevalence of migraine by gender, age, year, and location. This data will be combined with the weather data to determine if there is a relationship between weather and migraine prevalence."
   ]
  },
  {
   "cell_type": "markdown",
   "metadata": {},
   "source": [
    "| Attribute            | Description                                        |\n",
    "|----------------------|----------------------------------------------------|\n",
    "| **Data Source Name** | IHME-GBD_2019_DATA-361f72c5-1.csv                  |\n",
    "| **Data Source Format** | CSV (comma-separated values)                     |\n",
    "| **Data Source Desc** | All GBD causes, risks, impairments, etiologies, and injuries by nature |\n",
    "| **Data Source Size** | 5.2 MB                                              |\n",
    "|                      | 42120 rows                                          |\n",
    "|                      | 10 columns                                          |\n",
    "| **Data Source Limits** | None                                              |\n",
    "| **Data Source Usability** | 10.00                                          |\n",
    "\n",
    "**Data Source Columns**\n",
    "\n",
    "| Column Name    | Description                                          |\n",
    "|----------------|------------------------------------------------------|\n",
    "| `measure` | The name of measure.                                      |\n",
    "| `location`| The name of each location.                                |\n",
    "| `sex`     | The name of each sex choice.                              |\n",
    "| `age`     | The name of each age group.                               |\n",
    "| `cause`   | The name of each cause.                                   |\n",
    "| `metric`  | The name of each metric/unit.                             |\n",
    "| `year`    | The annual results for all measures.                      |\n",
    "| `val`     | The value of each metric/unit.                            |\n",
    "| `upper`   | The 95% Uncertainty Interval - Upper Bound value.         |\n",
    "| `lower`   | The 95% Uncertainty Interval - Lower Bound value.         |"
   ]
  },
  {
   "cell_type": "markdown",
   "metadata": {},
   "source": [
    "### 5.3 Preliminary Steps"
   ]
  },
  {
   "cell_type": "markdown",
   "metadata": {},
   "source": [
    "**Overview**\n",
    "\n",
    "In this section, the focus is on preparing the dataset for further analysis and exploration. The steps include merging multiple data sources, filtering the data based on specific criteria, cleaning the data by dropping unnecessary columns and rows, and conducting a preliminary analysis through correlation metrics. Each of these steps is essential for ensuring the data's integrity, usability, and relevance to the study objectives.\n",
    "\n",
    "**5.3.1 Data Merging**\n",
    "\n",
    "The first step involves merging the city and country datasets using a common identifier. This integration provides a comprehensive view that combines geographical and political attributes. Following that, the weather dataset is integrated with the already combined city-country data. The resulting dataset offers a rich context, incorporating both geographical information and meteorological variables.\n",
    "\n",
    "**5.3.2 Data Filtering**\n",
    "\n",
    "The dataset is filtered to only include records pertaining to US cities, thereby narrowing the scope for more targeted analysis. Further filtering is done to include only specific years, enhancing the dataset's relevance to the study period.\n",
    "\n",
    "**5.3.3 Data Cleaning**\n",
    "\n",
    "Columns that do not contribute to the analysis or contain redundant information are dropped to simplify the dataset. Rows with missing or irrelevant data are removed to improve the dataset's quality and consistency. Duplicate rows, if any, are identified and removed to ensure each record in the dataset is unique.\n",
    "\n",
    "**5.3.4 Preliminary Analysis**\n",
    "\n",
    "A correlation analysis is conducted on specific weather attributes like temperature, precipitation, and wind speed to identify any significant relationships among them.\n",
    "\n",
    "---\n",
    "\n",
    "Throughout these steps, the data are continuously inspected to understand their structures, types, and quality. Various data profiling techniques are employed, such as examining data distributions, checking for missing values, and assessing data types, to ensure that the dataset meets the quality and integrity requirements for downstream analysis."
   ]
  },
  {
   "cell_type": "markdown",
   "metadata": {},
   "source": [
    "#### 5.3.1 Data Merging"
   ]
  },
  {
   "cell_type": "markdown",
   "metadata": {},
   "source": [
    "##### 5.3.1.1 Merge `city_data` and `country_data`"
   ]
  },
  {
   "cell_type": "markdown",
   "metadata": {},
   "source": [
    "Join the countries and cities tables on the `country`, `iso2`, and `iso3` columns to give more context to the weather data."
   ]
  },
  {
   "cell_type": "code",
   "execution_count": 19,
   "metadata": {},
   "outputs": [
    {
     "data": {
      "text/html": [
       "<div>\n",
       "<style scoped>\n",
       "    .dataframe tbody tr th:only-of-type {\n",
       "        vertical-align: middle;\n",
       "    }\n",
       "\n",
       "    .dataframe tbody tr th {\n",
       "        vertical-align: top;\n",
       "    }\n",
       "\n",
       "    .dataframe thead th {\n",
       "        text-align: right;\n",
       "    }\n",
       "</style>\n",
       "<table border=\"1\" class=\"dataframe\">\n",
       "  <thead>\n",
       "    <tr style=\"text-align: right;\">\n",
       "      <th></th>\n",
       "      <th>station_id</th>\n",
       "      <th>city_name</th>\n",
       "      <th>country</th>\n",
       "      <th>state</th>\n",
       "      <th>iso2</th>\n",
       "      <th>iso3</th>\n",
       "      <th>latitude</th>\n",
       "      <th>longitude</th>\n",
       "    </tr>\n",
       "  </thead>\n",
       "  <tbody>\n",
       "    <tr>\n",
       "      <th>0</th>\n",
       "      <td>41515</td>\n",
       "      <td>Asadabad</td>\n",
       "      <td>Afghanistan</td>\n",
       "      <td>Kunar</td>\n",
       "      <td>AF</td>\n",
       "      <td>AFG</td>\n",
       "      <td>34.87</td>\n",
       "      <td>71.15</td>\n",
       "    </tr>\n",
       "    <tr>\n",
       "      <th>1</th>\n",
       "      <td>38954</td>\n",
       "      <td>Fayzabad</td>\n",
       "      <td>Afghanistan</td>\n",
       "      <td>Badakhshan</td>\n",
       "      <td>AF</td>\n",
       "      <td>AFG</td>\n",
       "      <td>37.13</td>\n",
       "      <td>70.58</td>\n",
       "    </tr>\n",
       "    <tr>\n",
       "      <th>2</th>\n",
       "      <td>41560</td>\n",
       "      <td>Jalalabad</td>\n",
       "      <td>Afghanistan</td>\n",
       "      <td>Nangarhar</td>\n",
       "      <td>AF</td>\n",
       "      <td>AFG</td>\n",
       "      <td>34.44</td>\n",
       "      <td>70.44</td>\n",
       "    </tr>\n",
       "    <tr>\n",
       "      <th>3</th>\n",
       "      <td>38947</td>\n",
       "      <td>Kunduz</td>\n",
       "      <td>Afghanistan</td>\n",
       "      <td>Kunduz</td>\n",
       "      <td>AF</td>\n",
       "      <td>AFG</td>\n",
       "      <td>36.73</td>\n",
       "      <td>68.87</td>\n",
       "    </tr>\n",
       "    <tr>\n",
       "      <th>4</th>\n",
       "      <td>38987</td>\n",
       "      <td>Qala i Naw</td>\n",
       "      <td>Afghanistan</td>\n",
       "      <td>Badghis</td>\n",
       "      <td>AF</td>\n",
       "      <td>AFG</td>\n",
       "      <td>34.98</td>\n",
       "      <td>63.13</td>\n",
       "    </tr>\n",
       "    <tr>\n",
       "      <th>...</th>\n",
       "      <td>...</td>\n",
       "      <td>...</td>\n",
       "      <td>...</td>\n",
       "      <td>...</td>\n",
       "      <td>...</td>\n",
       "      <td>...</td>\n",
       "      <td>...</td>\n",
       "      <td>...</td>\n",
       "    </tr>\n",
       "    <tr>\n",
       "      <th>1240</th>\n",
       "      <td>67475</td>\n",
       "      <td>Kasama</td>\n",
       "      <td>Zambia</td>\n",
       "      <td>Northern</td>\n",
       "      <td>ZM</td>\n",
       "      <td>ZMB</td>\n",
       "      <td>-10.20</td>\n",
       "      <td>31.18</td>\n",
       "    </tr>\n",
       "    <tr>\n",
       "      <th>1241</th>\n",
       "      <td>68030</td>\n",
       "      <td>Livingstone</td>\n",
       "      <td>Zambia</td>\n",
       "      <td>Southern</td>\n",
       "      <td>ZM</td>\n",
       "      <td>ZMB</td>\n",
       "      <td>-17.86</td>\n",
       "      <td>25.86</td>\n",
       "    </tr>\n",
       "    <tr>\n",
       "      <th>1242</th>\n",
       "      <td>67633</td>\n",
       "      <td>Mongu</td>\n",
       "      <td>Zambia</td>\n",
       "      <td>Western</td>\n",
       "      <td>ZM</td>\n",
       "      <td>ZMB</td>\n",
       "      <td>-15.28</td>\n",
       "      <td>23.12</td>\n",
       "    </tr>\n",
       "    <tr>\n",
       "      <th>1243</th>\n",
       "      <td>67775</td>\n",
       "      <td>Harare</td>\n",
       "      <td>Zimbabwe</td>\n",
       "      <td>Harare</td>\n",
       "      <td>ZW</td>\n",
       "      <td>ZWE</td>\n",
       "      <td>-17.82</td>\n",
       "      <td>31.04</td>\n",
       "    </tr>\n",
       "    <tr>\n",
       "      <th>1244</th>\n",
       "      <td>67975</td>\n",
       "      <td>Masvingo</td>\n",
       "      <td>Zimbabwe</td>\n",
       "      <td>Masvingo</td>\n",
       "      <td>ZW</td>\n",
       "      <td>ZWE</td>\n",
       "      <td>-20.06</td>\n",
       "      <td>30.82</td>\n",
       "    </tr>\n",
       "  </tbody>\n",
       "</table>\n",
       "<p>1245 rows × 8 columns</p>\n",
       "</div>"
      ],
      "text/plain": [
       "     station_id    city_name      country       state iso2 iso3  latitude  \\\n",
       "0         41515     Asadabad  Afghanistan       Kunar   AF  AFG     34.87   \n",
       "1         38954     Fayzabad  Afghanistan  Badakhshan   AF  AFG     37.13   \n",
       "2         41560    Jalalabad  Afghanistan   Nangarhar   AF  AFG     34.44   \n",
       "3         38947       Kunduz  Afghanistan      Kunduz   AF  AFG     36.73   \n",
       "4         38987   Qala i Naw  Afghanistan     Badghis   AF  AFG     34.98   \n",
       "...         ...          ...          ...         ...  ...  ...       ...   \n",
       "1240      67475       Kasama       Zambia    Northern   ZM  ZMB    -10.20   \n",
       "1241      68030  Livingstone       Zambia    Southern   ZM  ZMB    -17.86   \n",
       "1242      67633        Mongu       Zambia     Western   ZM  ZMB    -15.28   \n",
       "1243      67775       Harare     Zimbabwe      Harare   ZW  ZWE    -17.82   \n",
       "1244      67975     Masvingo     Zimbabwe    Masvingo   ZW  ZWE    -20.06   \n",
       "\n",
       "      longitude  \n",
       "0         71.15  \n",
       "1         70.58  \n",
       "2         70.44  \n",
       "3         68.87  \n",
       "4         63.13  \n",
       "...         ...  \n",
       "1240      31.18  \n",
       "1241      25.86  \n",
       "1242      23.12  \n",
       "1243      31.04  \n",
       "1244      30.82  \n",
       "\n",
       "[1245 rows x 8 columns]"
      ]
     },
     "execution_count": 19,
     "metadata": {},
     "output_type": "execute_result"
    }
   ],
   "source": [
    "# Code for joining countries and cities\n",
    "city_country = city_data.merge(country_data, \n",
    "                               how='left', \n",
    "                               left_on=['country', 'iso2', 'iso3'], \n",
    "                               right_on=['country', 'iso2', 'iso3']\n",
    "                               )\n",
    "\n",
    "# Review the shape of the new dataframe\n",
    "city_country"
   ]
  },
  {
   "cell_type": "markdown",
   "metadata": {},
   "source": [
    "##### 5.3.1.2 Merge `weather_data` and `city_country`"
   ]
  },
  {
   "cell_type": "markdown",
   "metadata": {},
   "source": [
    "Join the weather data with the combined countries and cities tables on the `station_id` and `city_name` columns."
   ]
  },
  {
   "cell_type": "code",
   "execution_count": 20,
   "metadata": {},
   "outputs": [
    {
     "name": "stdout",
     "output_type": "stream",
     "text": [
      "Weather Data: (27635763, 13)\n",
      "City-Country Data: (1245, 8)\n"
     ]
    }
   ],
   "source": [
    "# Review the shape of the weather dataframe\n",
    "print(f\"Weather Data: {weather_data.shape}\")\n",
    "\n",
    "# Review the shape of the city-country dataframe\n",
    "print(f\"City-Country Data: {city_country.shape}\")"
   ]
  },
  {
   "cell_type": "code",
   "execution_count": 21,
   "metadata": {},
   "outputs": [
    {
     "name": "stdout",
     "output_type": "stream",
     "text": [
      "Combined Weather Data: (27678323, 19)\n"
     ]
    }
   ],
   "source": [
    "# Combine city/country with daily weather data\n",
    "combined_weather = weather_data.merge(city_country, \n",
    "                                      how='left', \n",
    "                                      left_on=['station_id', 'city_name'], \n",
    "                                      right_on=['station_id', 'city_name']\n",
    ")\n",
    "\n",
    "# Review the shape of the new dataframe\n",
    "print(f\"Combined Weather Data: {combined_weather.shape}\")"
   ]
  },
  {
   "cell_type": "markdown",
   "metadata": {},
   "source": [
    "#### 5.3.2 Data Filtering"
   ]
  },
  {
   "cell_type": "markdown",
   "metadata": {},
   "source": [
    "##### 5.3.2.1 Filter `combined_weather` by US Cities"
   ]
  },
  {
   "cell_type": "code",
   "execution_count": 22,
   "metadata": {},
   "outputs": [
    {
     "data": {
      "text/plain": [
       "(1481287, 19)"
      ]
     },
     "execution_count": 22,
     "metadata": {},
     "output_type": "execute_result"
    }
   ],
   "source": [
    "# Filter the combined weather data to only include the US\n",
    "usa_weather = combined_weather[combined_weather['iso3'] == 'USA']\n",
    "\n",
    "# Review the shape of the new dataframe\n",
    "usa_weather.shape"
   ]
  },
  {
   "cell_type": "code",
   "execution_count": 23,
   "metadata": {},
   "outputs": [
    {
     "data": {
      "text/html": [
       "<div>\n",
       "<style scoped>\n",
       "    .dataframe tbody tr th:only-of-type {\n",
       "        vertical-align: middle;\n",
       "    }\n",
       "\n",
       "    .dataframe tbody tr th {\n",
       "        vertical-align: top;\n",
       "    }\n",
       "\n",
       "    .dataframe thead th {\n",
       "        text-align: right;\n",
       "    }\n",
       "</style>\n",
       "<table border=\"1\" class=\"dataframe\">\n",
       "  <thead>\n",
       "    <tr style=\"text-align: right;\">\n",
       "      <th></th>\n",
       "      <th>station_id</th>\n",
       "      <th>city_name</th>\n",
       "      <th>date</th>\n",
       "      <th>avg_temp_c</th>\n",
       "      <th>min_temp_c</th>\n",
       "      <th>max_temp_c</th>\n",
       "      <th>precipitation_mm</th>\n",
       "      <th>snow_depth_mm</th>\n",
       "      <th>avg_wind_dir_deg</th>\n",
       "      <th>avg_wind_speed_kmh</th>\n",
       "      <th>peak_wind_gust_kmh</th>\n",
       "      <th>avg_sea_level_pres_hpa</th>\n",
       "      <th>sunshine_total_min</th>\n",
       "      <th>country</th>\n",
       "      <th>state</th>\n",
       "      <th>iso2</th>\n",
       "      <th>iso3</th>\n",
       "      <th>latitude</th>\n",
       "      <th>longitude</th>\n",
       "    </tr>\n",
       "  </thead>\n",
       "  <tbody>\n",
       "    <tr>\n",
       "      <th>25096563</th>\n",
       "      <td>72518</td>\n",
       "      <td>Albany</td>\n",
       "      <td>1938-06-01</td>\n",
       "      <td>NaN</td>\n",
       "      <td>8.30</td>\n",
       "      <td>26.70</td>\n",
       "      <td>0.00</td>\n",
       "      <td>0.00</td>\n",
       "      <td>NaN</td>\n",
       "      <td>NaN</td>\n",
       "      <td>NaN</td>\n",
       "      <td>NaN</td>\n",
       "      <td>NaN</td>\n",
       "      <td>United States of America</td>\n",
       "      <td>New York</td>\n",
       "      <td>US</td>\n",
       "      <td>USA</td>\n",
       "      <td>42.67</td>\n",
       "      <td>-73.82</td>\n",
       "    </tr>\n",
       "    <tr>\n",
       "      <th>25096564</th>\n",
       "      <td>72518</td>\n",
       "      <td>Albany</td>\n",
       "      <td>1938-06-02</td>\n",
       "      <td>NaN</td>\n",
       "      <td>9.40</td>\n",
       "      <td>26.10</td>\n",
       "      <td>5.10</td>\n",
       "      <td>0.00</td>\n",
       "      <td>NaN</td>\n",
       "      <td>NaN</td>\n",
       "      <td>NaN</td>\n",
       "      <td>NaN</td>\n",
       "      <td>NaN</td>\n",
       "      <td>United States of America</td>\n",
       "      <td>New York</td>\n",
       "      <td>US</td>\n",
       "      <td>USA</td>\n",
       "      <td>42.67</td>\n",
       "      <td>-73.82</td>\n",
       "    </tr>\n",
       "    <tr>\n",
       "      <th>25096565</th>\n",
       "      <td>72518</td>\n",
       "      <td>Albany</td>\n",
       "      <td>1938-06-03</td>\n",
       "      <td>NaN</td>\n",
       "      <td>13.90</td>\n",
       "      <td>23.30</td>\n",
       "      <td>4.10</td>\n",
       "      <td>0.00</td>\n",
       "      <td>NaN</td>\n",
       "      <td>NaN</td>\n",
       "      <td>NaN</td>\n",
       "      <td>NaN</td>\n",
       "      <td>NaN</td>\n",
       "      <td>United States of America</td>\n",
       "      <td>New York</td>\n",
       "      <td>US</td>\n",
       "      <td>USA</td>\n",
       "      <td>42.67</td>\n",
       "      <td>-73.82</td>\n",
       "    </tr>\n",
       "    <tr>\n",
       "      <th>25096566</th>\n",
       "      <td>72518</td>\n",
       "      <td>Albany</td>\n",
       "      <td>1938-06-04</td>\n",
       "      <td>NaN</td>\n",
       "      <td>9.40</td>\n",
       "      <td>25.00</td>\n",
       "      <td>0.00</td>\n",
       "      <td>0.00</td>\n",
       "      <td>NaN</td>\n",
       "      <td>NaN</td>\n",
       "      <td>NaN</td>\n",
       "      <td>NaN</td>\n",
       "      <td>NaN</td>\n",
       "      <td>United States of America</td>\n",
       "      <td>New York</td>\n",
       "      <td>US</td>\n",
       "      <td>USA</td>\n",
       "      <td>42.67</td>\n",
       "      <td>-73.82</td>\n",
       "    </tr>\n",
       "    <tr>\n",
       "      <th>25096567</th>\n",
       "      <td>72518</td>\n",
       "      <td>Albany</td>\n",
       "      <td>1938-06-05</td>\n",
       "      <td>NaN</td>\n",
       "      <td>13.30</td>\n",
       "      <td>22.20</td>\n",
       "      <td>0.00</td>\n",
       "      <td>0.00</td>\n",
       "      <td>NaN</td>\n",
       "      <td>NaN</td>\n",
       "      <td>NaN</td>\n",
       "      <td>NaN</td>\n",
       "      <td>NaN</td>\n",
       "      <td>United States of America</td>\n",
       "      <td>New York</td>\n",
       "      <td>US</td>\n",
       "      <td>USA</td>\n",
       "      <td>42.67</td>\n",
       "      <td>-73.82</td>\n",
       "    </tr>\n",
       "    <tr>\n",
       "      <th>...</th>\n",
       "      <td>...</td>\n",
       "      <td>...</td>\n",
       "      <td>...</td>\n",
       "      <td>...</td>\n",
       "      <td>...</td>\n",
       "      <td>...</td>\n",
       "      <td>...</td>\n",
       "      <td>...</td>\n",
       "      <td>...</td>\n",
       "      <td>...</td>\n",
       "      <td>...</td>\n",
       "      <td>...</td>\n",
       "      <td>...</td>\n",
       "      <td>...</td>\n",
       "      <td>...</td>\n",
       "      <td>...</td>\n",
       "      <td>...</td>\n",
       "      <td>...</td>\n",
       "      <td>...</td>\n",
       "    </tr>\n",
       "    <tr>\n",
       "      <th>26577845</th>\n",
       "      <td>72405</td>\n",
       "      <td>Washington</td>\n",
       "      <td>2023-09-01</td>\n",
       "      <td>22.20</td>\n",
       "      <td>18.50</td>\n",
       "      <td>25.30</td>\n",
       "      <td>NaN</td>\n",
       "      <td>NaN</td>\n",
       "      <td>74.00</td>\n",
       "      <td>10.10</td>\n",
       "      <td>NaN</td>\n",
       "      <td>1018.80</td>\n",
       "      <td>NaN</td>\n",
       "      <td>United States of America</td>\n",
       "      <td>District of Columbia</td>\n",
       "      <td>US</td>\n",
       "      <td>USA</td>\n",
       "      <td>38.90</td>\n",
       "      <td>-77.01</td>\n",
       "    </tr>\n",
       "    <tr>\n",
       "      <th>26577846</th>\n",
       "      <td>72405</td>\n",
       "      <td>Washington</td>\n",
       "      <td>2023-09-02</td>\n",
       "      <td>24.30</td>\n",
       "      <td>20.20</td>\n",
       "      <td>28.60</td>\n",
       "      <td>NaN</td>\n",
       "      <td>NaN</td>\n",
       "      <td>98.00</td>\n",
       "      <td>10.10</td>\n",
       "      <td>NaN</td>\n",
       "      <td>1017.70</td>\n",
       "      <td>NaN</td>\n",
       "      <td>United States of America</td>\n",
       "      <td>District of Columbia</td>\n",
       "      <td>US</td>\n",
       "      <td>USA</td>\n",
       "      <td>38.90</td>\n",
       "      <td>-77.01</td>\n",
       "    </tr>\n",
       "    <tr>\n",
       "      <th>26577847</th>\n",
       "      <td>72405</td>\n",
       "      <td>Washington</td>\n",
       "      <td>2023-09-03</td>\n",
       "      <td>25.40</td>\n",
       "      <td>21.50</td>\n",
       "      <td>29.50</td>\n",
       "      <td>NaN</td>\n",
       "      <td>NaN</td>\n",
       "      <td>173.00</td>\n",
       "      <td>11.10</td>\n",
       "      <td>NaN</td>\n",
       "      <td>1015.20</td>\n",
       "      <td>NaN</td>\n",
       "      <td>United States of America</td>\n",
       "      <td>District of Columbia</td>\n",
       "      <td>US</td>\n",
       "      <td>USA</td>\n",
       "      <td>38.90</td>\n",
       "      <td>-77.01</td>\n",
       "    </tr>\n",
       "    <tr>\n",
       "      <th>26577848</th>\n",
       "      <td>72405</td>\n",
       "      <td>Washington</td>\n",
       "      <td>2023-09-04</td>\n",
       "      <td>25.80</td>\n",
       "      <td>22.10</td>\n",
       "      <td>30.10</td>\n",
       "      <td>NaN</td>\n",
       "      <td>NaN</td>\n",
       "      <td>183.00</td>\n",
       "      <td>12.00</td>\n",
       "      <td>NaN</td>\n",
       "      <td>1013.60</td>\n",
       "      <td>NaN</td>\n",
       "      <td>United States of America</td>\n",
       "      <td>District of Columbia</td>\n",
       "      <td>US</td>\n",
       "      <td>USA</td>\n",
       "      <td>38.90</td>\n",
       "      <td>-77.01</td>\n",
       "    </tr>\n",
       "    <tr>\n",
       "      <th>26577849</th>\n",
       "      <td>72405</td>\n",
       "      <td>Washington</td>\n",
       "      <td>2023-09-05</td>\n",
       "      <td>25.50</td>\n",
       "      <td>22.60</td>\n",
       "      <td>29.00</td>\n",
       "      <td>NaN</td>\n",
       "      <td>NaN</td>\n",
       "      <td>210.00</td>\n",
       "      <td>12.40</td>\n",
       "      <td>NaN</td>\n",
       "      <td>1014.20</td>\n",
       "      <td>NaN</td>\n",
       "      <td>United States of America</td>\n",
       "      <td>District of Columbia</td>\n",
       "      <td>US</td>\n",
       "      <td>USA</td>\n",
       "      <td>38.90</td>\n",
       "      <td>-77.01</td>\n",
       "    </tr>\n",
       "  </tbody>\n",
       "</table>\n",
       "<p>1481287 rows × 19 columns</p>\n",
       "</div>"
      ],
      "text/plain": [
       "         station_id   city_name       date  avg_temp_c  min_temp_c  \\\n",
       "25096563      72518      Albany 1938-06-01         NaN        8.30   \n",
       "25096564      72518      Albany 1938-06-02         NaN        9.40   \n",
       "25096565      72518      Albany 1938-06-03         NaN       13.90   \n",
       "25096566      72518      Albany 1938-06-04         NaN        9.40   \n",
       "25096567      72518      Albany 1938-06-05         NaN       13.30   \n",
       "...             ...         ...        ...         ...         ...   \n",
       "26577845      72405  Washington 2023-09-01       22.20       18.50   \n",
       "26577846      72405  Washington 2023-09-02       24.30       20.20   \n",
       "26577847      72405  Washington 2023-09-03       25.40       21.50   \n",
       "26577848      72405  Washington 2023-09-04       25.80       22.10   \n",
       "26577849      72405  Washington 2023-09-05       25.50       22.60   \n",
       "\n",
       "          max_temp_c  precipitation_mm  snow_depth_mm  avg_wind_dir_deg  \\\n",
       "25096563       26.70              0.00           0.00               NaN   \n",
       "25096564       26.10              5.10           0.00               NaN   \n",
       "25096565       23.30              4.10           0.00               NaN   \n",
       "25096566       25.00              0.00           0.00               NaN   \n",
       "25096567       22.20              0.00           0.00               NaN   \n",
       "...              ...               ...            ...               ...   \n",
       "26577845       25.30               NaN            NaN             74.00   \n",
       "26577846       28.60               NaN            NaN             98.00   \n",
       "26577847       29.50               NaN            NaN            173.00   \n",
       "26577848       30.10               NaN            NaN            183.00   \n",
       "26577849       29.00               NaN            NaN            210.00   \n",
       "\n",
       "          avg_wind_speed_kmh  peak_wind_gust_kmh  avg_sea_level_pres_hpa  \\\n",
       "25096563                 NaN                 NaN                     NaN   \n",
       "25096564                 NaN                 NaN                     NaN   \n",
       "25096565                 NaN                 NaN                     NaN   \n",
       "25096566                 NaN                 NaN                     NaN   \n",
       "25096567                 NaN                 NaN                     NaN   \n",
       "...                      ...                 ...                     ...   \n",
       "26577845               10.10                 NaN                 1018.80   \n",
       "26577846               10.10                 NaN                 1017.70   \n",
       "26577847               11.10                 NaN                 1015.20   \n",
       "26577848               12.00                 NaN                 1013.60   \n",
       "26577849               12.40                 NaN                 1014.20   \n",
       "\n",
       "          sunshine_total_min                   country                 state  \\\n",
       "25096563                 NaN  United States of America              New York   \n",
       "25096564                 NaN  United States of America              New York   \n",
       "25096565                 NaN  United States of America              New York   \n",
       "25096566                 NaN  United States of America              New York   \n",
       "25096567                 NaN  United States of America              New York   \n",
       "...                      ...                       ...                   ...   \n",
       "26577845                 NaN  United States of America  District of Columbia   \n",
       "26577846                 NaN  United States of America  District of Columbia   \n",
       "26577847                 NaN  United States of America  District of Columbia   \n",
       "26577848                 NaN  United States of America  District of Columbia   \n",
       "26577849                 NaN  United States of America  District of Columbia   \n",
       "\n",
       "         iso2 iso3  latitude  longitude  \n",
       "25096563   US  USA     42.67     -73.82  \n",
       "25096564   US  USA     42.67     -73.82  \n",
       "25096565   US  USA     42.67     -73.82  \n",
       "25096566   US  USA     42.67     -73.82  \n",
       "25096567   US  USA     42.67     -73.82  \n",
       "...       ...  ...       ...        ...  \n",
       "26577845   US  USA     38.90     -77.01  \n",
       "26577846   US  USA     38.90     -77.01  \n",
       "26577847   US  USA     38.90     -77.01  \n",
       "26577848   US  USA     38.90     -77.01  \n",
       "26577849   US  USA     38.90     -77.01  \n",
       "\n",
       "[1481287 rows x 19 columns]"
      ]
     },
     "execution_count": 23,
     "metadata": {},
     "output_type": "execute_result"
    }
   ],
   "source": [
    "# View 10 rows of the new dataframe\n",
    "usa_weather"
   ]
  },
  {
   "cell_type": "code",
   "execution_count": 24,
   "metadata": {},
   "outputs": [
    {
     "data": {
      "text/plain": [
       "station_id                      0\n",
       "city_name                       0\n",
       "date                            0\n",
       "avg_temp_c                 545686\n",
       "min_temp_c                   2584\n",
       "max_temp_c                   2526\n",
       "precipitation_mm            23241\n",
       "snow_depth_mm              177509\n",
       "avg_wind_dir_deg          1024517\n",
       "avg_wind_speed_kmh         532918\n",
       "peak_wind_gust_kmh        1048359\n",
       "avg_sea_level_pres_hpa     617464\n",
       "sunshine_total_min         971919\n",
       "country                         0\n",
       "state                           0\n",
       "iso2                            0\n",
       "iso3                            0\n",
       "latitude                        0\n",
       "longitude                       0\n",
       "dtype: int64"
      ]
     },
     "execution_count": 24,
     "metadata": {},
     "output_type": "execute_result"
    }
   ],
   "source": [
    "# Check for missing values\n",
    "usa_weather.isnull().sum()"
   ]
  },
  {
   "cell_type": "code",
   "execution_count": 25,
   "metadata": {},
   "outputs": [
    {
     "data": {
      "text/plain": [
       "array(['USA'], dtype=object)"
      ]
     },
     "execution_count": 25,
     "metadata": {},
     "output_type": "execute_result"
    }
   ],
   "source": [
    "# Check the unique values of the iso3 column, confirming no other countries are included\n",
    "usa_weather['iso3'].unique()"
   ]
  },
  {
   "cell_type": "markdown",
   "metadata": {},
   "source": [
    "##### 5.3.2.2 Filter `usa_weather` by Year"
   ]
  },
  {
   "cell_type": "markdown",
   "metadata": {},
   "source": [
    "Given that the migraine data is annual, we need to add a 'year' column to the weather data and filter it by year."
   ]
  },
  {
   "cell_type": "code",
   "execution_count": 26,
   "metadata": {},
   "outputs": [
    {
     "data": {
      "text/plain": [
       "station_id                        object\n",
       "city_name                         object\n",
       "date                      datetime64[ns]\n",
       "avg_temp_c                       float64\n",
       "min_temp_c                       float64\n",
       "max_temp_c                       float64\n",
       "precipitation_mm                 float64\n",
       "snow_depth_mm                    float64\n",
       "avg_wind_dir_deg                 float64\n",
       "avg_wind_speed_kmh               float64\n",
       "peak_wind_gust_kmh               float64\n",
       "avg_sea_level_pres_hpa           float64\n",
       "sunshine_total_min               float64\n",
       "country                           object\n",
       "state                             object\n",
       "iso2                              object\n",
       "iso3                              object\n",
       "latitude                         float64\n",
       "longitude                        float64\n",
       "dtype: object"
      ]
     },
     "execution_count": 26,
     "metadata": {},
     "output_type": "execute_result"
    }
   ],
   "source": [
    "# confirmed that date column is in datetime format\n",
    "usa_weather.dtypes"
   ]
  },
  {
   "cell_type": "code",
   "execution_count": 27,
   "metadata": {},
   "outputs": [
    {
     "data": {
      "text/html": [
       "<div>\n",
       "<style scoped>\n",
       "    .dataframe tbody tr th:only-of-type {\n",
       "        vertical-align: middle;\n",
       "    }\n",
       "\n",
       "    .dataframe tbody tr th {\n",
       "        vertical-align: top;\n",
       "    }\n",
       "\n",
       "    .dataframe thead th {\n",
       "        text-align: right;\n",
       "    }\n",
       "</style>\n",
       "<table border=\"1\" class=\"dataframe\">\n",
       "  <thead>\n",
       "    <tr style=\"text-align: right;\">\n",
       "      <th></th>\n",
       "      <th>station_id</th>\n",
       "      <th>city_name</th>\n",
       "      <th>date</th>\n",
       "      <th>avg_temp_c</th>\n",
       "      <th>min_temp_c</th>\n",
       "      <th>max_temp_c</th>\n",
       "      <th>precipitation_mm</th>\n",
       "      <th>snow_depth_mm</th>\n",
       "      <th>avg_wind_dir_deg</th>\n",
       "      <th>avg_wind_speed_kmh</th>\n",
       "      <th>peak_wind_gust_kmh</th>\n",
       "      <th>avg_sea_level_pres_hpa</th>\n",
       "      <th>sunshine_total_min</th>\n",
       "      <th>country</th>\n",
       "      <th>state</th>\n",
       "      <th>iso2</th>\n",
       "      <th>iso3</th>\n",
       "      <th>latitude</th>\n",
       "      <th>longitude</th>\n",
       "      <th>year</th>\n",
       "      <th>month</th>\n",
       "    </tr>\n",
       "  </thead>\n",
       "  <tbody>\n",
       "    <tr>\n",
       "      <th>25096563</th>\n",
       "      <td>72518</td>\n",
       "      <td>Albany</td>\n",
       "      <td>1938-06-01</td>\n",
       "      <td>NaN</td>\n",
       "      <td>8.30</td>\n",
       "      <td>26.70</td>\n",
       "      <td>0.00</td>\n",
       "      <td>0.00</td>\n",
       "      <td>NaN</td>\n",
       "      <td>NaN</td>\n",
       "      <td>NaN</td>\n",
       "      <td>NaN</td>\n",
       "      <td>NaN</td>\n",
       "      <td>United States of America</td>\n",
       "      <td>New York</td>\n",
       "      <td>US</td>\n",
       "      <td>USA</td>\n",
       "      <td>42.67</td>\n",
       "      <td>-73.82</td>\n",
       "      <td>1938</td>\n",
       "      <td>6</td>\n",
       "    </tr>\n",
       "    <tr>\n",
       "      <th>25096564</th>\n",
       "      <td>72518</td>\n",
       "      <td>Albany</td>\n",
       "      <td>1938-06-02</td>\n",
       "      <td>NaN</td>\n",
       "      <td>9.40</td>\n",
       "      <td>26.10</td>\n",
       "      <td>5.10</td>\n",
       "      <td>0.00</td>\n",
       "      <td>NaN</td>\n",
       "      <td>NaN</td>\n",
       "      <td>NaN</td>\n",
       "      <td>NaN</td>\n",
       "      <td>NaN</td>\n",
       "      <td>United States of America</td>\n",
       "      <td>New York</td>\n",
       "      <td>US</td>\n",
       "      <td>USA</td>\n",
       "      <td>42.67</td>\n",
       "      <td>-73.82</td>\n",
       "      <td>1938</td>\n",
       "      <td>6</td>\n",
       "    </tr>\n",
       "    <tr>\n",
       "      <th>25096565</th>\n",
       "      <td>72518</td>\n",
       "      <td>Albany</td>\n",
       "      <td>1938-06-03</td>\n",
       "      <td>NaN</td>\n",
       "      <td>13.90</td>\n",
       "      <td>23.30</td>\n",
       "      <td>4.10</td>\n",
       "      <td>0.00</td>\n",
       "      <td>NaN</td>\n",
       "      <td>NaN</td>\n",
       "      <td>NaN</td>\n",
       "      <td>NaN</td>\n",
       "      <td>NaN</td>\n",
       "      <td>United States of America</td>\n",
       "      <td>New York</td>\n",
       "      <td>US</td>\n",
       "      <td>USA</td>\n",
       "      <td>42.67</td>\n",
       "      <td>-73.82</td>\n",
       "      <td>1938</td>\n",
       "      <td>6</td>\n",
       "    </tr>\n",
       "    <tr>\n",
       "      <th>25096566</th>\n",
       "      <td>72518</td>\n",
       "      <td>Albany</td>\n",
       "      <td>1938-06-04</td>\n",
       "      <td>NaN</td>\n",
       "      <td>9.40</td>\n",
       "      <td>25.00</td>\n",
       "      <td>0.00</td>\n",
       "      <td>0.00</td>\n",
       "      <td>NaN</td>\n",
       "      <td>NaN</td>\n",
       "      <td>NaN</td>\n",
       "      <td>NaN</td>\n",
       "      <td>NaN</td>\n",
       "      <td>United States of America</td>\n",
       "      <td>New York</td>\n",
       "      <td>US</td>\n",
       "      <td>USA</td>\n",
       "      <td>42.67</td>\n",
       "      <td>-73.82</td>\n",
       "      <td>1938</td>\n",
       "      <td>6</td>\n",
       "    </tr>\n",
       "    <tr>\n",
       "      <th>25096567</th>\n",
       "      <td>72518</td>\n",
       "      <td>Albany</td>\n",
       "      <td>1938-06-05</td>\n",
       "      <td>NaN</td>\n",
       "      <td>13.30</td>\n",
       "      <td>22.20</td>\n",
       "      <td>0.00</td>\n",
       "      <td>0.00</td>\n",
       "      <td>NaN</td>\n",
       "      <td>NaN</td>\n",
       "      <td>NaN</td>\n",
       "      <td>NaN</td>\n",
       "      <td>NaN</td>\n",
       "      <td>United States of America</td>\n",
       "      <td>New York</td>\n",
       "      <td>US</td>\n",
       "      <td>USA</td>\n",
       "      <td>42.67</td>\n",
       "      <td>-73.82</td>\n",
       "      <td>1938</td>\n",
       "      <td>6</td>\n",
       "    </tr>\n",
       "  </tbody>\n",
       "</table>\n",
       "</div>"
      ],
      "text/plain": [
       "         station_id city_name       date  avg_temp_c  min_temp_c  max_temp_c  \\\n",
       "25096563      72518    Albany 1938-06-01         NaN        8.30       26.70   \n",
       "25096564      72518    Albany 1938-06-02         NaN        9.40       26.10   \n",
       "25096565      72518    Albany 1938-06-03         NaN       13.90       23.30   \n",
       "25096566      72518    Albany 1938-06-04         NaN        9.40       25.00   \n",
       "25096567      72518    Albany 1938-06-05         NaN       13.30       22.20   \n",
       "\n",
       "          precipitation_mm  snow_depth_mm  avg_wind_dir_deg  \\\n",
       "25096563              0.00           0.00               NaN   \n",
       "25096564              5.10           0.00               NaN   \n",
       "25096565              4.10           0.00               NaN   \n",
       "25096566              0.00           0.00               NaN   \n",
       "25096567              0.00           0.00               NaN   \n",
       "\n",
       "          avg_wind_speed_kmh  peak_wind_gust_kmh  avg_sea_level_pres_hpa  \\\n",
       "25096563                 NaN                 NaN                     NaN   \n",
       "25096564                 NaN                 NaN                     NaN   \n",
       "25096565                 NaN                 NaN                     NaN   \n",
       "25096566                 NaN                 NaN                     NaN   \n",
       "25096567                 NaN                 NaN                     NaN   \n",
       "\n",
       "          sunshine_total_min                   country     state iso2 iso3  \\\n",
       "25096563                 NaN  United States of America  New York   US  USA   \n",
       "25096564                 NaN  United States of America  New York   US  USA   \n",
       "25096565                 NaN  United States of America  New York   US  USA   \n",
       "25096566                 NaN  United States of America  New York   US  USA   \n",
       "25096567                 NaN  United States of America  New York   US  USA   \n",
       "\n",
       "          latitude  longitude  year  month  \n",
       "25096563     42.67     -73.82  1938      6  \n",
       "25096564     42.67     -73.82  1938      6  \n",
       "25096565     42.67     -73.82  1938      6  \n",
       "25096566     42.67     -73.82  1938      6  \n",
       "25096567     42.67     -73.82  1938      6  "
      ]
     },
     "execution_count": 27,
     "metadata": {},
     "output_type": "execute_result"
    }
   ],
   "source": [
    "usa_weather = usa_weather.copy()\n",
    "\n",
    "# Add a column for the year using .loc, specifying to add a new column for all rows\n",
    "usa_weather['year'] = usa_weather['date'].dt.year\n",
    "\n",
    "# Add a column for the month using .loc, specifying to add a new column for all rows\n",
    "usa_weather['month'] = usa_weather['date'].dt.month\n",
    "\n",
    "usa_weather.head()"
   ]
  },
  {
   "cell_type": "code",
   "execution_count": 28,
   "metadata": {},
   "outputs": [
    {
     "data": {
      "text/plain": [
       "array([1938, 1939, 1940, 1941, 1942, 1943, 1944, 1945, 1946, 1947, 1948,\n",
       "       1949, 1950, 1951, 1952, 1953, 1954, 1955, 1956, 1957, 1958, 1959,\n",
       "       1960, 1961, 1962, 1963, 1964, 1965, 1966, 1967, 1968, 1969, 1970,\n",
       "       1971, 1972, 1973, 1974, 1975, 1976, 1977, 1978, 1979, 1980, 1981,\n",
       "       1982, 1983, 1984, 1985, 1986, 1987, 1988, 1989, 1990, 1991, 1992,\n",
       "       1993, 1994, 1995, 1996, 1997, 1998, 1999, 2000, 2001, 2002, 2003,\n",
       "       2004, 2005, 2006, 2007, 2008, 2009, 2010, 2011, 2012, 2013, 2014,\n",
       "       2015, 2016, 2017, 2018, 2019, 2020, 2021, 2022, 2023, 1930, 1931,\n",
       "       1932, 1933, 1934, 1935, 1936, 1937, 1915, 1916, 1917, 1918, 1919,\n",
       "       1920, 1921, 1922, 1923, 1924, 1925, 1926, 1927, 1928, 1929, 1872,\n",
       "       1873, 1874, 1875, 1876, 1887, 1888, 1889, 1890, 1891, 1892, 1893,\n",
       "       1894, 1895, 1896, 1897, 1898, 1899, 1900, 1901, 1902, 1903, 1904,\n",
       "       1905, 1906, 1907, 1908, 1909, 1910, 1911, 1912, 1913, 1914])"
      ]
     },
     "execution_count": 28,
     "metadata": {},
     "output_type": "execute_result"
    }
   ],
   "source": [
    "usa_weather['year'].unique()"
   ]
  },
  {
   "cell_type": "code",
   "execution_count": 29,
   "metadata": {},
   "outputs": [
    {
     "data": {
      "text/plain": [
       "count   1481287.00\n",
       "mean       1979.33\n",
       "std          27.79\n",
       "min        1872.00\n",
       "25%        1959.00\n",
       "50%        1981.00\n",
       "75%        2002.00\n",
       "max        2023.00\n",
       "Name: year, dtype: float64"
      ]
     },
     "execution_count": 29,
     "metadata": {},
     "output_type": "execute_result"
    }
   ],
   "source": [
    "usa_weather['year'].describe()"
   ]
  },
  {
   "cell_type": "markdown",
   "metadata": {},
   "source": [
    "Earliest year is 1872, latest year is 2023. We will filter the weather data to only include years 1990-2019 to match the migraine data's date range."
   ]
  },
  {
   "cell_type": "code",
   "execution_count": 30,
   "metadata": {},
   "outputs": [
    {
     "data": {
      "text/plain": [
       "(1481287, 21)"
      ]
     },
     "execution_count": 30,
     "metadata": {},
     "output_type": "execute_result"
    }
   ],
   "source": [
    "usa_weather.shape"
   ]
  },
  {
   "cell_type": "code",
   "execution_count": 31,
   "metadata": {},
   "outputs": [
    {
     "data": {
      "text/plain": [
       "(530704, 21)"
      ]
     },
     "execution_count": 31,
     "metadata": {},
     "output_type": "execute_result"
    }
   ],
   "source": [
    "# Filter the data to only include the years 1990-2019\n",
    "year_filter = (usa_weather['year'] >= 1990) & (usa_weather['year'] <= 2019)\n",
    "usa_weather = usa_weather[year_filter]\n",
    "\n",
    "# Review the shape of the new dataframe\n",
    "usa_weather.shape"
   ]
  },
  {
   "cell_type": "code",
   "execution_count": 32,
   "metadata": {},
   "outputs": [
    {
     "data": {
      "text/plain": [
       "array([1990, 1991, 1992, 1993, 1994, 1995, 1996, 1997, 1998, 1999, 2000,\n",
       "       2001, 2002, 2003, 2004, 2005, 2006, 2007, 2008, 2009, 2010, 2011,\n",
       "       2012, 2013, 2014, 2015, 2016, 2017, 2018, 2019])"
      ]
     },
     "execution_count": 32,
     "metadata": {},
     "output_type": "execute_result"
    }
   ],
   "source": [
    "usa_weather['year'].unique()"
   ]
  },
  {
   "cell_type": "code",
   "execution_count": 33,
   "metadata": {},
   "outputs": [
    {
     "data": {
      "text/plain": [
       "station_id                     0\n",
       "city_name                      0\n",
       "date                           0\n",
       "avg_temp_c                 42210\n",
       "min_temp_c                    63\n",
       "max_temp_c                    52\n",
       "precipitation_mm              46\n",
       "snow_depth_mm              93426\n",
       "avg_wind_dir_deg          374372\n",
       "avg_wind_speed_kmh         36061\n",
       "peak_wind_gust_kmh        440062\n",
       "avg_sea_level_pres_hpa     96993\n",
       "sunshine_total_min        371650\n",
       "country                        0\n",
       "state                          0\n",
       "iso2                           0\n",
       "iso3                           0\n",
       "latitude                       0\n",
       "longitude                      0\n",
       "year                           0\n",
       "month                          0\n",
       "dtype: int64"
      ]
     },
     "execution_count": 33,
     "metadata": {},
     "output_type": "execute_result"
    }
   ],
   "source": [
    "usa_weather.isnull().sum()"
   ]
  },
  {
   "cell_type": "markdown",
   "metadata": {},
   "source": [
    "#### 5.3.3 Data Cleaning (2nd Round)"
   ]
  },
  {
   "cell_type": "markdown",
   "metadata": {},
   "source": [
    "##### 5.3.3.1 Drop Unnecessary Columns"
   ]
  },
  {
   "cell_type": "markdown",
   "metadata": {},
   "source": [
    "After further review of the data, the `country` and `iso2` columns are no longer needed since we have filtered for iso3=USA, so we will drop them."
   ]
  },
  {
   "cell_type": "code",
   "execution_count": 34,
   "metadata": {},
   "outputs": [],
   "source": [
    "# List of columns to keep\n",
    "columns_to_keep = [col for col in usa_weather.columns if col not in ['country', 'iso2']]\n",
    "\n",
    "# Use .loc to select only the columns to keep\n",
    "usa_weather = usa_weather.loc[:, columns_to_keep]"
   ]
  },
  {
   "cell_type": "code",
   "execution_count": 35,
   "metadata": {},
   "outputs": [
    {
     "data": {
      "text/plain": [
       "(530704, 19)"
      ]
     },
     "execution_count": 35,
     "metadata": {},
     "output_type": "execute_result"
    }
   ],
   "source": [
    "# Review the shape of the new dataframe\n",
    "usa_weather.shape"
   ]
  },
  {
   "cell_type": "markdown",
   "metadata": {},
   "source": [
    "##### 5.3.3.2 Drop Unnecessary Rows"
   ]
  },
  {
   "cell_type": "code",
   "execution_count": 36,
   "metadata": {},
   "outputs": [
    {
     "data": {
      "text/plain": [
       "station_id                     0\n",
       "city_name                      0\n",
       "date                           0\n",
       "avg_temp_c                 42210\n",
       "min_temp_c                    63\n",
       "max_temp_c                    52\n",
       "precipitation_mm              46\n",
       "snow_depth_mm              93426\n",
       "avg_wind_dir_deg          374372\n",
       "avg_wind_speed_kmh         36061\n",
       "peak_wind_gust_kmh        440062\n",
       "avg_sea_level_pres_hpa     96993\n",
       "sunshine_total_min        371650\n",
       "state                          0\n",
       "iso3                           0\n",
       "latitude                       0\n",
       "longitude                      0\n",
       "year                           0\n",
       "month                          0\n",
       "dtype: int64"
      ]
     },
     "execution_count": 36,
     "metadata": {},
     "output_type": "execute_result"
    }
   ],
   "source": [
    "usa_weather.isnull().sum()"
   ]
  },
  {
   "cell_type": "code",
   "execution_count": 37,
   "metadata": {},
   "outputs": [
    {
     "data": {
      "text/plain": [
       "(530594, 19)"
      ]
     },
     "execution_count": 37,
     "metadata": {},
     "output_type": "execute_result"
    }
   ],
   "source": [
    "# Drop rows with missing values\n",
    "usa_weather = usa_weather.dropna(subset=['min_temp_c', 'max_temp_c', 'precipitation_mm'])\n",
    "\n",
    "# Review the shape of the new dataframe\n",
    "usa_weather.shape"
   ]
  },
  {
   "cell_type": "code",
   "execution_count": 38,
   "metadata": {},
   "outputs": [
    {
     "data": {
      "text/plain": [
       "station_id                     0\n",
       "city_name                      0\n",
       "date                           0\n",
       "avg_temp_c                 42168\n",
       "min_temp_c                     0\n",
       "max_temp_c                     0\n",
       "precipitation_mm               0\n",
       "snow_depth_mm              93354\n",
       "avg_wind_dir_deg          374275\n",
       "avg_wind_speed_kmh         36043\n",
       "peak_wind_gust_kmh        439952\n",
       "avg_sea_level_pres_hpa     96906\n",
       "sunshine_total_min        371555\n",
       "state                          0\n",
       "iso3                           0\n",
       "latitude                       0\n",
       "longitude                      0\n",
       "year                           0\n",
       "month                          0\n",
       "dtype: int64"
      ]
     },
     "execution_count": 38,
     "metadata": {},
     "output_type": "execute_result"
    }
   ],
   "source": [
    "# Check for missing values\n",
    "usa_weather.isnull().sum()"
   ]
  },
  {
   "cell_type": "markdown",
   "metadata": {},
   "source": [
    "##### 5.3.3.3 Drop Duplicate Rows"
   ]
  },
  {
   "cell_type": "code",
   "execution_count": 39,
   "metadata": {},
   "outputs": [
    {
     "name": "stdout",
     "output_type": "stream",
     "text": [
      "Rows to be dropped: 0\n"
     ]
    }
   ],
   "source": [
    "# Original DataFrame\n",
    "usa_weather_row_count = len(usa_weather)\n",
    "\n",
    "# DataFrame after dropping duplicates\n",
    "usa_weather_deduplicated = usa_weather.drop_duplicates()\n",
    "deduplicated_row_count = len(usa_weather_deduplicated)\n",
    "\n",
    "# Calculate the number of rows that would be dropped\n",
    "rows_to_be_dropped = usa_weather_row_count - deduplicated_row_count\n",
    "\n",
    "# Print the difference\n",
    "print(f\"Rows to be dropped: {rows_to_be_dropped}\")"
   ]
  },
  {
   "cell_type": "markdown",
   "metadata": {},
   "source": [
    "#### 5.3.4 Preliminary Analysis"
   ]
  },
  {
   "cell_type": "markdown",
   "metadata": {},
   "source": [
    "##### 5.3.4.1 Correlation Analysis for Weather Features"
   ]
  },
  {
   "cell_type": "code",
   "execution_count": 40,
   "metadata": {},
   "outputs": [
    {
     "data": {
      "image/png": "[encoded data removed]",
      "text/plain": [
       "<Figure size 1000x800 with 2 Axes>"
      ]
     },
     "metadata": {},
     "output_type": "display_data"
    }
   ],
   "source": [
    "weather_features = ['avg_temp_c', 'min_temp_c', 'max_temp_c', 'precipitation_mm', 'snow_depth_mm', 'avg_wind_dir_deg',\\\n",
    "                     'avg_wind_speed_kmh', 'peak_wind_gust_kmh', 'avg_sea_level_pres_hpa', 'sunshine_total_min']\n",
    "correlation_matrix_usa_weather = usa_weather[weather_features].corr()\n",
    "\n",
    "import seaborn as sns\n",
    "import matplotlib.pyplot as plt\n",
    "\n",
    "plt.figure(figsize=(10, 8))\n",
    "sns.heatmap(correlation_matrix_usa_weather, annot=True, cmap=\"coolwarm\", vmin=-1, vmax=1)\n",
    "plt.show()"
   ]
  },
  {
   "cell_type": "markdown",
   "metadata": {},
   "source": [
    "The `sunshine_total_min` column has a lot of missing values, has a very weak correlation (-0.0066) with `avg_sea_level_pres_hpa`, and is not a focal point of this analysis, so we will drop that column."
   ]
  },
  {
   "cell_type": "code",
   "execution_count": 41,
   "metadata": {},
   "outputs": [
    {
     "data": {
      "text/plain": [
       "station_id                     0\n",
       "city_name                      0\n",
       "date                           0\n",
       "avg_temp_c                 42168\n",
       "min_temp_c                     0\n",
       "max_temp_c                     0\n",
       "precipitation_mm               0\n",
       "snow_depth_mm              93354\n",
       "avg_wind_dir_deg          374275\n",
       "avg_wind_speed_kmh         36043\n",
       "peak_wind_gust_kmh        439952\n",
       "avg_sea_level_pres_hpa     96906\n",
       "state                          0\n",
       "iso3                           0\n",
       "latitude                       0\n",
       "longitude                      0\n",
       "year                           0\n",
       "month                          0\n",
       "dtype: int64"
      ]
     },
     "execution_count": 41,
     "metadata": {},
     "output_type": "execute_result"
    }
   ],
   "source": [
    "# Columns to keep\n",
    "columns_to_keep = [col for col in usa_weather.columns if col not in ['sunshine_total_min']]\n",
    "\n",
    "# Use .loc to select only the columns to keep\n",
    "usa_weather = usa_weather.loc[:, columns_to_keep]\n",
    "\n",
    "# Check for missing values\n",
    "usa_weather.isnull().sum()"
   ]
  },
  {
   "cell_type": "markdown",
   "metadata": {},
   "source": [
    "### 5.4 Handling Missing Values"
   ]
  },
  {
   "cell_type": "markdown",
   "metadata": {},
   "source": [
    "#### 5.4.1 Non-pressure-related Columns"
   ]
  },
  {
   "cell_type": "markdown",
   "metadata": {},
   "source": [
    "##### 5.4.1.1 Average Temperature Interpolation and Validation"
   ]
  },
  {
   "cell_type": "markdown",
   "metadata": {},
   "source": [
    "For the `avg_temp_c` missing values, we will calculate the average of the `min_temp_c` and `max_temp_c` columns and use that value to fill in the missing average temperature values. A new, temporary column will be created called `avg_temp_c_interpolated` to hold these values."
   ]
  },
  {
   "cell_type": "code",
   "execution_count": 42,
   "metadata": {},
   "outputs": [],
   "source": [
    "# Create a copy of the dataframe\n",
    "usa_weather = usa_weather.copy()\n",
    "\n",
    "# Create a column for calculating the `avg_temp_c` using the `min_temp_c` and `max_temp_c` columns\n",
    "usa_weather['avg_temp_c_interpolated'] = usa_weather['avg_temp_c'].combine_first\\\n",
    "    ((usa_weather['min_temp_c'] + usa_weather['max_temp_c']) / 2)"
   ]
  },
  {
   "cell_type": "markdown",
   "metadata": {},
   "source": [
    "Utilize the mean absolute error (MAE) to determine the accuracy of the interpolated values."
   ]
  },
  {
   "cell_type": "code",
   "execution_count": 43,
   "metadata": {},
   "outputs": [
    {
     "name": "stdout",
     "output_type": "stream",
     "text": [
      "Mean Absolute Error: 0.0\n"
     ]
    }
   ],
   "source": [
    "# Import mean_absolute_error from sklearn.metrics\n",
    "from sklearn.metrics import mean_absolute_error\n",
    "\n",
    "# Filter out rows where either of the two columns is NaN\n",
    "filtered_df = usa_weather.dropna(subset=['avg_temp_c', 'avg_temp_c_interpolated'])\n",
    "\n",
    "# Calculate mean absolute error\n",
    "mae = mean_absolute_error(filtered_df['avg_temp_c'], filtered_df['avg_temp_c_interpolated'])\n",
    "\n",
    "# Print the mean absolute error\n",
    "print(f\"Mean Absolute Error: {mae}\")\n"
   ]
  },
  {
   "cell_type": "markdown",
   "metadata": {},
   "source": [
    "As noted above, the MAE is 0.0, so we will use the interpolated values to fill in the missing values for the `avg_temp_c` column. We will then drop the `avg_temp_c_interpolated` column. Please note after further investigation, it was found that the original `avg_temp_c` values are precisely calculated as the average of `min_temp_c` and `max_temp_c` values, so there is no loss of information."
   ]
  },
  {
   "cell_type": "markdown",
   "metadata": {},
   "source": [
    "Replace the missing values in the `avg_temp_c` column with the values from the `avg_temp_c_interpolated` column."
   ]
  },
  {
   "cell_type": "code",
   "execution_count": 44,
   "metadata": {},
   "outputs": [],
   "source": [
    "# Fill missing values in the 'avg_temp_c' column with the average of the \n",
    "# 'min_temp_c' and 'max_temp_c' columns\n",
    "usa_weather['avg_temp_c'] = usa_weather['avg_temp_c_interpolated']"
   ]
  },
  {
   "cell_type": "markdown",
   "metadata": {},
   "source": [
    "Drop the `avg_temp_c_interpolated` column and check for any remaining missing values."
   ]
  },
  {
   "cell_type": "code",
   "execution_count": 45,
   "metadata": {},
   "outputs": [
    {
     "data": {
      "text/plain": [
       "station_id                     0\n",
       "city_name                      0\n",
       "date                           0\n",
       "avg_temp_c                     0\n",
       "min_temp_c                     0\n",
       "max_temp_c                     0\n",
       "precipitation_mm               0\n",
       "snow_depth_mm              93354\n",
       "avg_wind_dir_deg          374275\n",
       "avg_wind_speed_kmh         36043\n",
       "peak_wind_gust_kmh        439952\n",
       "avg_sea_level_pres_hpa     96906\n",
       "state                          0\n",
       "iso3                           0\n",
       "latitude                       0\n",
       "longitude                      0\n",
       "year                           0\n",
       "month                          0\n",
       "dtype: int64"
      ]
     },
     "execution_count": 45,
     "metadata": {},
     "output_type": "execute_result"
    }
   ],
   "source": [
    "# Drop the 'avg_temp_c_interpolated' column\n",
    "usa_weather.drop(columns=['avg_temp_c_interpolated'], inplace=True)\n",
    "\n",
    "# Check for missing values\n",
    "usa_weather.isnull().sum()"
   ]
  },
  {
   "cell_type": "code",
   "execution_count": 46,
   "metadata": {},
   "outputs": [
    {
     "name": "stdout",
     "output_type": "stream",
     "text": [
      "Original Shape: (530594, 18)\n"
     ]
    }
   ],
   "source": [
    "# Print the shape of the dataframe\n",
    "print(f\"Original Shape: {usa_weather.shape}\")"
   ]
  },
  {
   "cell_type": "markdown",
   "metadata": {},
   "source": [
    "##### 5.4.1.2 Aggregate Weather Data by Year and State"
   ]
  },
  {
   "cell_type": "markdown",
   "metadata": {},
   "source": [
    "The migraine data is aggregated at an annual level and broken down by state, so we need to aggregate the weather data to match. A mean aggregation will be used for all columns except for the `precipitation_mm` and `snow_depth_mm` columns, which will be aggregated using a sum.\n",
    "\n",
    "1. **Group by Year, State, and City Name**: Use pandas' `groupby` method to group data by both the `year`, `state`, and `city` columns.\n",
    "2. **Aggregation Functions**: \n",
    "    - For temperatures (`avg_temp_c`, `min_temp_c`, `max_temp_c`), the mean is calculated for each year and state.\n",
    "    - For wind (`avg_wind_dir_deg`, `avg_wind_speed_kmh`, `peak_wind_gust_kmh`), the mean is calculated for each year and state.\n",
    "    - For `precipitation_mm` and `snow_depth_mm`, the total sum is calculated for each year and state.\n",
    "    - For `avg_sea_level_pres_hpa`, the mean is calculated, assuming it's relevant to have an annual mean sea level pressure for each state.\n",
    "3. **Spatial Data**: For latitude and longitude, the first observed value for each year and state is taken, assuming that these values are consistent within each state and year.\n",
    "\n",
    "By following this methodology, the daily weather data is transformed into an annual summary by state, making it directly comparable with the annual, state-level migraine data for further analysis."
   ]
  },
  {
   "cell_type": "code",
   "execution_count": 47,
   "metadata": {},
   "outputs": [
    {
     "data": {
      "text/plain": [
       "(1457, 14)"
      ]
     },
     "execution_count": 47,
     "metadata": {},
     "output_type": "execute_result"
    }
   ],
   "source": [
    "# Group by 'year' and 'state', then aggregate the numerical columns\n",
    "annual_usa_weather_by_stateCity = usa_weather.groupby(['year', 'state', 'city_name']).agg({\n",
    "    'avg_temp_c': 'mean',\n",
    "    'min_temp_c': 'mean',\n",
    "    'max_temp_c': 'mean',\n",
    "    'precipitation_mm': 'sum',\n",
    "    'snow_depth_mm': 'sum',\n",
    "    'avg_wind_dir_deg': 'mean',\n",
    "    'avg_wind_speed_kmh': 'mean',\n",
    "    'peak_wind_gust_kmh': 'mean',\n",
    "    'avg_sea_level_pres_hpa': 'mean',\n",
    "    'latitude': 'first',  # Assuming all latitudes are the same for a given year and state\n",
    "    'longitude': 'first'  # Assuming all longitudes are the same for a given year and state\n",
    "}).reset_index()\n",
    "\n",
    "# Review the shape of the new dataframe\n",
    "annual_usa_weather_by_stateCity.shape"
   ]
  },
  {
   "cell_type": "code",
   "execution_count": 48,
   "metadata": {},
   "outputs": [
    {
     "data": {
      "text/plain": [
       "year                         0\n",
       "state                        0\n",
       "city_name                    0\n",
       "avg_temp_c                   0\n",
       "min_temp_c                   0\n",
       "max_temp_c                   0\n",
       "precipitation_mm             0\n",
       "snow_depth_mm                0\n",
       "avg_wind_dir_deg           143\n",
       "avg_wind_speed_kmh          89\n",
       "peak_wind_gust_kmh        1184\n",
       "avg_sea_level_pres_hpa     138\n",
       "latitude                     0\n",
       "longitude                    0\n",
       "dtype: int64"
      ]
     },
     "execution_count": 48,
     "metadata": {},
     "output_type": "execute_result"
    }
   ],
   "source": [
    "annual_usa_weather_by_stateCity.isnull().sum()"
   ]
  },
  {
   "cell_type": "markdown",
   "metadata": {},
   "source": [
    "##### 5.4.1.3 Drop Wind Gust and Wind Direction Columns"
   ]
  },
  {
   "cell_type": "code",
   "execution_count": 49,
   "metadata": {},
   "outputs": [
    {
     "data": {
      "text/plain": [
       "(1457, 12)"
      ]
     },
     "execution_count": 49,
     "metadata": {},
     "output_type": "execute_result"
    }
   ],
   "source": [
    "annual_usa_weather_by_stateCity.drop(columns=['peak_wind_gust_kmh', 'avg_wind_dir_deg'], inplace=True)\n",
    "\n",
    "annual_usa_weather_by_stateCity.shape"
   ]
  },
  {
   "cell_type": "code",
   "execution_count": 50,
   "metadata": {},
   "outputs": [
    {
     "data": {
      "text/plain": [
       "year                        0\n",
       "state                       0\n",
       "city_name                   0\n",
       "avg_temp_c                  0\n",
       "min_temp_c                  0\n",
       "max_temp_c                  0\n",
       "precipitation_mm            0\n",
       "snow_depth_mm               0\n",
       "avg_wind_speed_kmh         89\n",
       "avg_sea_level_pres_hpa    138\n",
       "latitude                    0\n",
       "longitude                   0\n",
       "dtype: int64"
      ]
     },
     "execution_count": 50,
     "metadata": {},
     "output_type": "execute_result"
    }
   ],
   "source": [
    "annual_usa_weather_by_stateCity.isnull().sum()"
   ]
  },
  {
   "cell_type": "markdown",
   "metadata": {},
   "source": [
    "##### 5.4.1.4 Linear Interpolation for Average Wind Speed"
   ]
  },
  {
   "cell_type": "code",
   "execution_count": 51,
   "metadata": {},
   "outputs": [
    {
     "data": {
      "text/plain": [
       "year                        0\n",
       "state                       0\n",
       "city_name                   0\n",
       "avg_temp_c                  0\n",
       "min_temp_c                  0\n",
       "max_temp_c                  0\n",
       "precipitation_mm            0\n",
       "snow_depth_mm               0\n",
       "avg_wind_speed_kmh          0\n",
       "avg_sea_level_pres_hpa    138\n",
       "latitude                    0\n",
       "longitude                   0\n",
       "dtype: int64"
      ]
     },
     "execution_count": 51,
     "metadata": {},
     "output_type": "execute_result"
    }
   ],
   "source": [
    "# Handle missing values for the `avg_wind_speed_kmh` column utilizing linear interpolation\n",
    "annual_usa_weather_by_stateCity['avg_wind_speed_kmh'].interpolate(method='linear', inplace=True)\n",
    "\n",
    "# Check for missing values\n",
    "annual_usa_weather_by_stateCity.isnull().sum()"
   ]
  },
  {
   "cell_type": "code",
   "execution_count": 52,
   "metadata": {},
   "outputs": [
    {
     "data": {
      "text/plain": [
       "(1457, 12)"
      ]
     },
     "execution_count": 52,
     "metadata": {},
     "output_type": "execute_result"
    }
   ],
   "source": [
    "# Check the shape of the dataframe\n",
    "annual_usa_weather_by_stateCity.shape"
   ]
  },
  {
   "cell_type": "markdown",
   "metadata": {},
   "source": [
    "#### 5.4.2 Pressure-related Columns"
   ]
  },
  {
   "cell_type": "markdown",
   "metadata": {},
   "source": [
    "Sea level pressure can vary greatly depending on the location of the city and the main focus of this analysisis is to see if there is any correlation between sudden changes in sea level pressure and migraines.  As a result, we will not fill in missing values for the `avg_sea_level_pres_hpa` column without further research.  We will work through four different scenarios to determine which seems most accurate for this situation.\n",
    "- Scenario #1: Leave/drop missing values for the `avg_sea_level_pres_hpa` value    \n",
    "- Scenario #2: Utilize linear interpolation to fill in missing values for the `avg_sea_level_pres_hpa` column\n",
    "- Scenario #3: Utilize forward fill to fill in missing values for the `avg_sea_level_pres_hpa` column\n",
    "- Scenario #4: Utilize backward fill to fill in missing values for the `avg_sea_level_pres_hpa` column"
   ]
  },
  {
   "cell_type": "markdown",
   "metadata": {},
   "source": [
    "##### 5.4.2.1 Leaving/Dropping Missing Values (Scenario #1)"
   ]
  },
  {
   "cell_type": "code",
   "execution_count": 53,
   "metadata": {},
   "outputs": [
    {
     "data": {
      "text/plain": [
       "count   1319.00\n",
       "mean    1016.81\n",
       "std        1.56\n",
       "min     1009.70\n",
       "25%     1016.11\n",
       "50%     1017.02\n",
       "75%     1017.92\n",
       "max     1019.83\n",
       "Name: avg_sea_level_pres_hpa, dtype: float64"
      ]
     },
     "execution_count": 53,
     "metadata": {},
     "output_type": "execute_result"
    }
   ],
   "source": [
    "# Descriptive statistics for the `avg_sea_level_pres_hpa` column\n",
    "annual_usa_weather_by_stateCity['avg_sea_level_pres_hpa'].describe()"
   ]
  },
  {
   "cell_type": "markdown",
   "metadata": {},
   "source": [
    "##### 5.4.2.2 Linear Interpolation (Scenario #2)"
   ]
  },
  {
   "cell_type": "code",
   "execution_count": 54,
   "metadata": {},
   "outputs": [
    {
     "data": {
      "text/plain": [
       "year                               0\n",
       "state                              0\n",
       "city_name                          0\n",
       "avg_temp_c                         0\n",
       "min_temp_c                         0\n",
       "max_temp_c                         0\n",
       "precipitation_mm                   0\n",
       "snow_depth_mm                      0\n",
       "avg_wind_speed_kmh                 0\n",
       "avg_sea_level_pres_hpa           138\n",
       "latitude                           0\n",
       "longitude                          0\n",
       "avg_sea_level_pres_hpa_linear      0\n",
       "dtype: int64"
      ]
     },
     "execution_count": 54,
     "metadata": {},
     "output_type": "execute_result"
    }
   ],
   "source": [
    "# Handle missing values for `avg_sea_level_pres_hpa` column utilizing linear interpolation\n",
    "annual_usa_weather_by_stateCity['avg_sea_level_pres_hpa_linear'] = annual_usa_weather_by_stateCity['avg_sea_level_pres_hpa'].interpolate(method='linear')\n",
    "\n",
    "# Check for missing values\n",
    "annual_usa_weather_by_stateCity.isnull().sum()"
   ]
  },
  {
   "cell_type": "markdown",
   "metadata": {},
   "source": [
    "##### 5.4.2.3 Forward Fill (Scenario #3)"
   ]
  },
  {
   "cell_type": "code",
   "execution_count": 55,
   "metadata": {},
   "outputs": [
    {
     "data": {
      "text/plain": [
       "year                               0\n",
       "state                              0\n",
       "city_name                          0\n",
       "avg_temp_c                         0\n",
       "min_temp_c                         0\n",
       "max_temp_c                         0\n",
       "precipitation_mm                   0\n",
       "snow_depth_mm                      0\n",
       "avg_wind_speed_kmh                 0\n",
       "avg_sea_level_pres_hpa           138\n",
       "latitude                           0\n",
       "longitude                          0\n",
       "avg_sea_level_pres_hpa_linear      0\n",
       "avg_sea_level_pres_hpa_ffill       0\n",
       "dtype: int64"
      ]
     },
     "execution_count": 55,
     "metadata": {},
     "output_type": "execute_result"
    }
   ],
   "source": [
    "# Handle missing values for `avg_sea_level_pres_hpa` column utilizing forward fill\n",
    "annual_usa_weather_by_stateCity['avg_sea_level_pres_hpa_ffill'] = annual_usa_weather_by_stateCity['avg_sea_level_pres_hpa'].ffill()\n",
    "\n",
    "# Check for missing values\n",
    "annual_usa_weather_by_stateCity.isnull().sum()"
   ]
  },
  {
   "cell_type": "markdown",
   "metadata": {},
   "source": [
    "##### 5.4.2.4 Backward Fill (Scenario #4)"
   ]
  },
  {
   "cell_type": "code",
   "execution_count": 56,
   "metadata": {},
   "outputs": [
    {
     "data": {
      "text/plain": [
       "year                               0\n",
       "state                              0\n",
       "city_name                          0\n",
       "avg_temp_c                         0\n",
       "min_temp_c                         0\n",
       "max_temp_c                         0\n",
       "precipitation_mm                   0\n",
       "snow_depth_mm                      0\n",
       "avg_wind_speed_kmh                 0\n",
       "avg_sea_level_pres_hpa           138\n",
       "latitude                           0\n",
       "longitude                          0\n",
       "avg_sea_level_pres_hpa_linear      0\n",
       "avg_sea_level_pres_hpa_ffill       0\n",
       "avg_sea_level_pres_hpa_bfill       0\n",
       "dtype: int64"
      ]
     },
     "execution_count": 56,
     "metadata": {},
     "output_type": "execute_result"
    }
   ],
   "source": [
    "# Handle missing values for `avg_sea_level_pres_hpa` column utilizing backward fill\n",
    "annual_usa_weather_by_stateCity['avg_sea_level_pres_hpa_bfill'] = annual_usa_weather_by_stateCity['avg_sea_level_pres_hpa'].bfill()\n",
    "\n",
    "# Check for missing values\n",
    "annual_usa_weather_by_stateCity.isnull().sum()"
   ]
  },
  {
   "cell_type": "code",
   "execution_count": 57,
   "metadata": {},
   "outputs": [
    {
     "data": {
      "text/html": [
       "<div>\n",
       "<style scoped>\n",
       "    .dataframe tbody tr th:only-of-type {\n",
       "        vertical-align: middle;\n",
       "    }\n",
       "\n",
       "    .dataframe tbody tr th {\n",
       "        vertical-align: top;\n",
       "    }\n",
       "\n",
       "    .dataframe thead th {\n",
       "        text-align: right;\n",
       "    }\n",
       "</style>\n",
       "<table border=\"1\" class=\"dataframe\">\n",
       "  <thead>\n",
       "    <tr style=\"text-align: right;\">\n",
       "      <th></th>\n",
       "      <th>year</th>\n",
       "      <th>avg_temp_c</th>\n",
       "      <th>min_temp_c</th>\n",
       "      <th>max_temp_c</th>\n",
       "      <th>precipitation_mm</th>\n",
       "      <th>snow_depth_mm</th>\n",
       "      <th>avg_wind_speed_kmh</th>\n",
       "      <th>avg_sea_level_pres_hpa</th>\n",
       "      <th>latitude</th>\n",
       "      <th>longitude</th>\n",
       "      <th>avg_sea_level_pres_hpa_linear</th>\n",
       "      <th>avg_sea_level_pres_hpa_ffill</th>\n",
       "      <th>avg_sea_level_pres_hpa_bfill</th>\n",
       "    </tr>\n",
       "  </thead>\n",
       "  <tbody>\n",
       "    <tr>\n",
       "      <th>count</th>\n",
       "      <td>1457.00</td>\n",
       "      <td>1457.00</td>\n",
       "      <td>1457.00</td>\n",
       "      <td>1457.00</td>\n",
       "      <td>1457.00</td>\n",
       "      <td>1457.00</td>\n",
       "      <td>1457.00</td>\n",
       "      <td>1319.00</td>\n",
       "      <td>1457.00</td>\n",
       "      <td>1457.00</td>\n",
       "      <td>1457.00</td>\n",
       "      <td>1457.00</td>\n",
       "      <td>1457.00</td>\n",
       "    </tr>\n",
       "    <tr>\n",
       "      <th>mean</th>\n",
       "      <td>2004.59</td>\n",
       "      <td>13.01</td>\n",
       "      <td>7.28</td>\n",
       "      <td>18.76</td>\n",
       "      <td>939.64</td>\n",
       "      <td>3641.03</td>\n",
       "      <td>12.37</td>\n",
       "      <td>1016.81</td>\n",
       "      <td>39.47</td>\n",
       "      <td>-93.20</td>\n",
       "      <td>1016.74</td>\n",
       "      <td>1016.70</td>\n",
       "      <td>1016.77</td>\n",
       "    </tr>\n",
       "    <tr>\n",
       "      <th>std</th>\n",
       "      <td>8.64</td>\n",
       "      <td>4.41</td>\n",
       "      <td>4.52</td>\n",
       "      <td>4.59</td>\n",
       "      <td>412.63</td>\n",
       "      <td>7255.23</td>\n",
       "      <td>3.02</td>\n",
       "      <td>1.56</td>\n",
       "      <td>5.55</td>\n",
       "      <td>18.79</td>\n",
       "      <td>1.59</td>\n",
       "      <td>1.71</td>\n",
       "      <td>1.58</td>\n",
       "    </tr>\n",
       "    <tr>\n",
       "      <th>min</th>\n",
       "      <td>1990.00</td>\n",
       "      <td>-14.65</td>\n",
       "      <td>-17.70</td>\n",
       "      <td>-11.60</td>\n",
       "      <td>0.00</td>\n",
       "      <td>0.00</td>\n",
       "      <td>1.75</td>\n",
       "      <td>1009.70</td>\n",
       "      <td>21.31</td>\n",
       "      <td>-157.86</td>\n",
       "      <td>1009.70</td>\n",
       "      <td>1009.70</td>\n",
       "      <td>1009.70</td>\n",
       "    </tr>\n",
       "    <tr>\n",
       "      <th>25%</th>\n",
       "      <td>1997.00</td>\n",
       "      <td>10.21</td>\n",
       "      <td>4.27</td>\n",
       "      <td>15.66</td>\n",
       "      <td>679.20</td>\n",
       "      <td>0.00</td>\n",
       "      <td>10.15</td>\n",
       "      <td>1016.11</td>\n",
       "      <td>36.17</td>\n",
       "      <td>-104.82</td>\n",
       "      <td>1016.03</td>\n",
       "      <td>1016.01</td>\n",
       "      <td>1016.07</td>\n",
       "    </tr>\n",
       "    <tr>\n",
       "      <th>50%</th>\n",
       "      <td>2005.00</td>\n",
       "      <td>12.49</td>\n",
       "      <td>6.97</td>\n",
       "      <td>18.25</td>\n",
       "      <td>997.70</td>\n",
       "      <td>761.00</td>\n",
       "      <td>12.27</td>\n",
       "      <td>1017.02</td>\n",
       "      <td>39.75</td>\n",
       "      <td>-89.40</td>\n",
       "      <td>1016.98</td>\n",
       "      <td>1017.00</td>\n",
       "      <td>1017.00</td>\n",
       "    </tr>\n",
       "    <tr>\n",
       "      <th>75%</th>\n",
       "      <td>2012.00</td>\n",
       "      <td>15.41</td>\n",
       "      <td>9.57</td>\n",
       "      <td>21.34</td>\n",
       "      <td>1210.70</td>\n",
       "      <td>3652.00</td>\n",
       "      <td>14.47</td>\n",
       "      <td>1017.92</td>\n",
       "      <td>42.67</td>\n",
       "      <td>-77.45</td>\n",
       "      <td>1017.87</td>\n",
       "      <td>1017.91</td>\n",
       "      <td>1017.88</td>\n",
       "    </tr>\n",
       "    <tr>\n",
       "      <th>max</th>\n",
       "      <td>2019.00</td>\n",
       "      <td>26.02</td>\n",
       "      <td>22.72</td>\n",
       "      <td>31.79</td>\n",
       "      <td>2283.80</td>\n",
       "      <td>74065.00</td>\n",
       "      <td>21.56</td>\n",
       "      <td>1019.83</td>\n",
       "      <td>58.31</td>\n",
       "      <td>-69.78</td>\n",
       "      <td>1019.83</td>\n",
       "      <td>1019.83</td>\n",
       "      <td>1019.83</td>\n",
       "    </tr>\n",
       "  </tbody>\n",
       "</table>\n",
       "</div>"
      ],
      "text/plain": [
       "         year  avg_temp_c  min_temp_c  max_temp_c  precipitation_mm  \\\n",
       "count 1457.00     1457.00     1457.00     1457.00           1457.00   \n",
       "mean  2004.59       13.01        7.28       18.76            939.64   \n",
       "std      8.64        4.41        4.52        4.59            412.63   \n",
       "min   1990.00      -14.65      -17.70      -11.60              0.00   \n",
       "25%   1997.00       10.21        4.27       15.66            679.20   \n",
       "50%   2005.00       12.49        6.97       18.25            997.70   \n",
       "75%   2012.00       15.41        9.57       21.34           1210.70   \n",
       "max   2019.00       26.02       22.72       31.79           2283.80   \n",
       "\n",
       "       snow_depth_mm  avg_wind_speed_kmh  avg_sea_level_pres_hpa  latitude  \\\n",
       "count        1457.00             1457.00                 1319.00   1457.00   \n",
       "mean         3641.03               12.37                 1016.81     39.47   \n",
       "std          7255.23                3.02                    1.56      5.55   \n",
       "min             0.00                1.75                 1009.70     21.31   \n",
       "25%             0.00               10.15                 1016.11     36.17   \n",
       "50%           761.00               12.27                 1017.02     39.75   \n",
       "75%          3652.00               14.47                 1017.92     42.67   \n",
       "max         74065.00               21.56                 1019.83     58.31   \n",
       "\n",
       "       longitude  avg_sea_level_pres_hpa_linear  avg_sea_level_pres_hpa_ffill  \\\n",
       "count    1457.00                        1457.00                       1457.00   \n",
       "mean      -93.20                        1016.74                       1016.70   \n",
       "std        18.79                           1.59                          1.71   \n",
       "min      -157.86                        1009.70                       1009.70   \n",
       "25%      -104.82                        1016.03                       1016.01   \n",
       "50%       -89.40                        1016.98                       1017.00   \n",
       "75%       -77.45                        1017.87                       1017.91   \n",
       "max       -69.78                        1019.83                       1019.83   \n",
       "\n",
       "       avg_sea_level_pres_hpa_bfill  \n",
       "count                       1457.00  \n",
       "mean                        1016.77  \n",
       "std                            1.58  \n",
       "min                         1009.70  \n",
       "25%                         1016.07  \n",
       "50%                         1017.00  \n",
       "75%                         1017.88  \n",
       "max                         1019.83  "
      ]
     },
     "execution_count": 57,
     "metadata": {},
     "output_type": "execute_result"
    }
   ],
   "source": [
    "annual_usa_weather_by_stateCity.describe()"
   ]
  },
  {
   "cell_type": "code",
   "execution_count": 58,
   "metadata": {},
   "outputs": [
    {
     "data": {
      "image/png": "[encoded data removed]",
      "text/plain": [
       "<Figure size 1200x1200 with 4 Axes>"
      ]
     },
     "metadata": {},
     "output_type": "display_data"
    }
   ],
   "source": [
    "fig, axes = plt.subplots(2, 2, figsize=(12, 12))\n",
    "\n",
    "# Define common x and y limits\n",
    "x_limits = [1005, 1025]  # Replace with the min and max values across all datasets for the x-axis\n",
    "y_limits = [0, 125]  # Replace with the max frequency across all datasets for the y-axis\n",
    "\n",
    "# Calculate number of bins for each dataset using the Square Root Rule\n",
    "num_bins1 = int(np.sqrt(len(annual_usa_weather_by_stateCity['avg_sea_level_pres_hpa'].dropna())))\n",
    "num_bins2 = int(np.sqrt(len(annual_usa_weather_by_stateCity['avg_sea_level_pres_hpa_linear'].dropna())))\n",
    "num_bins3 = int(np.sqrt(len(annual_usa_weather_by_stateCity['avg_sea_level_pres_hpa_ffill'].dropna())))\n",
    "num_bins4 = int(np.sqrt(len(annual_usa_weather_by_stateCity['avg_sea_level_pres_hpa_bfill'].dropna())))\n",
    "\n",
    "# Plot each histogram on a different subplot\n",
    "axes[0, 0].hist(annual_usa_weather_by_stateCity['avg_sea_level_pres_hpa'].dropna(), bins=num_bins1, color='blue')\n",
    "axes[0, 0].set_title('Original')\n",
    "axes[0, 0].set_xlim(x_limits)\n",
    "axes[0, 0].set_ylim(y_limits)\n",
    "\n",
    "axes[0, 1].hist(annual_usa_weather_by_stateCity['avg_sea_level_pres_hpa_linear'].dropna(), bins=num_bins2, color='green')\n",
    "axes[0, 1].set_title('Linear Interpolated')\n",
    "axes[0, 1].set_xlim(x_limits)\n",
    "axes[0, 1].set_ylim(y_limits)\n",
    "\n",
    "axes[1, 0].hist(annual_usa_weather_by_stateCity['avg_sea_level_pres_hpa_ffill'].dropna(), bins=num_bins3, color='red')\n",
    "axes[1, 0].set_title('Forward Fill')\n",
    "axes[1, 0].set_xlim(x_limits)\n",
    "axes[1, 0].set_ylim(y_limits)\n",
    "\n",
    "axes[1, 1].hist(annual_usa_weather_by_stateCity['avg_sea_level_pres_hpa_bfill'].dropna(), bins=num_bins4, color='purple')\n",
    "axes[1, 1].set_title('Backward Fill')\n",
    "axes[1, 1].set_xlim(x_limits)\n",
    "axes[1, 1].set_ylim(y_limits)\n",
    "\n",
    "for ax in axes.flat:\n",
    "    ax.set(xlabel='Sea Level Pressure (hPa)', ylabel='Frequency')\n",
    "    ax.set_xlim(x_limits)\n",
    "    ax.set_ylim(y_limits)\n",
    "\n",
    "# Display all subplots\n",
    "plt.tight_layout()\n",
    "plt.show()\n"
   ]
  },
  {
   "cell_type": "markdown",
   "metadata": {},
   "source": [
    "##### 5.4.2.5 Decision on Filling Missing Values"
   ]
  },
  {
   "cell_type": "markdown",
   "metadata": {},
   "source": [
    "After a thorough review of all four scenarios, we've decided to employ **Scenario #2 (linear interpolation)** for filling the missing values in the `avg_sea_level_pres_hpa` column. The rationale behind this choice is manifold:\n",
    "\n",
    "- **Representation of Data**: Linear interpolation provides a smoother distribution than the other methods. This approach does not heavily skew the tail ends of the distribution, ensuring a more natural representation.\n",
    "  \n",
    "- **Preservation of Original Distribution**: Linear interpolation appears to retain the original data distribution more faithfully when filling in missing values, without introducing any discernible bias towards specific values.\n",
    "\n",
    "- **Percentage of Missing Values**: With only 138 missing values, which represents 9.47% of the total count of 1457, the sheer accuracy of the method is not as paramount as it would be with a more substantial portion of missing values. Nevertheless, it's essential to utilize a method that delivers reliability, and linear interpolation does just that.\n",
    "\n",
    "**Analysis of Alternative Methods:**\n",
    "\n",
    "- The **forward-fill method**, though commendable, might introduce bias as it overlooks subsequent values after a missing point. It stands as our second preference.\n",
    "  \n",
    "- The **backward-fill method** is our third choice. While it does consider subsequent data points, its accuracy seems to trail the forward-fill method.\n",
    "  \n",
    "- Lastly, simply **leaving or dropping missing values** is the least appealing choice, as it disregards the rest of the dataset's information.\n"
   ]
  },
  {
   "cell_type": "markdown",
   "metadata": {},
   "source": [
    "##### 5.4.2.6 Linear Interpolation for Average Sea Level Pressure"
   ]
  },
  {
   "cell_type": "code",
   "execution_count": 59,
   "metadata": {},
   "outputs": [
    {
     "data": {
      "text/plain": [
       "year                             0\n",
       "state                            0\n",
       "city_name                        0\n",
       "avg_temp_c                       0\n",
       "min_temp_c                       0\n",
       "max_temp_c                       0\n",
       "precipitation_mm                 0\n",
       "snow_depth_mm                    0\n",
       "avg_wind_speed_kmh               0\n",
       "avg_sea_level_pres_hpa           0\n",
       "latitude                         0\n",
       "longitude                        0\n",
       "avg_sea_level_pres_hpa_linear    0\n",
       "dtype: int64"
      ]
     },
     "execution_count": 59,
     "metadata": {},
     "output_type": "execute_result"
    }
   ],
   "source": [
    "# copy the dataframe\n",
    "annual_usa_weather_by_stateCity = annual_usa_weather_by_stateCity.copy()\n",
    "\n",
    "# Fill missing values in the `avg_sea_level_pres_hpa` column with the linear values\n",
    "annual_usa_weather_by_stateCity['avg_sea_level_pres_hpa'] = annual_usa_weather_by_stateCity['avg_sea_level_pres_hpa_linear']\n",
    "\n",
    "# Drop the `avg_sea_level_pres_hpa_ffill` and `avg_sea_level_pres_hpa_bfill` columns\n",
    "annual_usa_weather_by_stateCity.drop(columns=['avg_sea_level_pres_hpa_ffill', 'avg_sea_level_pres_hpa_bfill'], inplace=True)\n",
    "\n",
    "# check for missing values\n",
    "annual_usa_weather_by_stateCity.isnull().sum()"
   ]
  },
  {
   "cell_type": "code",
   "execution_count": 60,
   "metadata": {},
   "outputs": [
    {
     "name": "stdout",
     "output_type": "stream",
     "text": [
      "Mean Absolute Error: 0.0\n"
     ]
    }
   ],
   "source": [
    "# Filter out rows where either of the two columns is NaN\n",
    "filtered_df = annual_usa_weather_by_stateCity.dropna(subset=['avg_sea_level_pres_hpa', 'avg_sea_level_pres_hpa_linear'])\n",
    "\n",
    "# Calculate mean absolute error\n",
    "mae = mean_absolute_error(filtered_df['avg_sea_level_pres_hpa'], filtered_df['avg_sea_level_pres_hpa_linear'])\n",
    "\n",
    "# Print the mean absolute error\n",
    "print(f\"Mean Absolute Error: {mae}\")"
   ]
  },
  {
   "cell_type": "code",
   "execution_count": 61,
   "metadata": {},
   "outputs": [
    {
     "data": {
      "text/plain": [
       "year                      0\n",
       "state                     0\n",
       "city_name                 0\n",
       "avg_temp_c                0\n",
       "min_temp_c                0\n",
       "max_temp_c                0\n",
       "precipitation_mm          0\n",
       "snow_depth_mm             0\n",
       "avg_wind_speed_kmh        0\n",
       "avg_sea_level_pres_hpa    0\n",
       "latitude                  0\n",
       "longitude                 0\n",
       "dtype: int64"
      ]
     },
     "execution_count": 61,
     "metadata": {},
     "output_type": "execute_result"
    }
   ],
   "source": [
    "annual_usa_weather_by_stateCity.drop(columns=['avg_sea_level_pres_hpa_linear'], inplace=True)\n",
    "\n",
    "annual_usa_weather_by_stateCity.isnull().sum()"
   ]
  },
  {
   "cell_type": "code",
   "execution_count": 62,
   "metadata": {},
   "outputs": [
    {
     "data": {
      "text/html": [
       "<div>\n",
       "<style scoped>\n",
       "    .dataframe tbody tr th:only-of-type {\n",
       "        vertical-align: middle;\n",
       "    }\n",
       "\n",
       "    .dataframe tbody tr th {\n",
       "        vertical-align: top;\n",
       "    }\n",
       "\n",
       "    .dataframe thead th {\n",
       "        text-align: right;\n",
       "    }\n",
       "</style>\n",
       "<table border=\"1\" class=\"dataframe\">\n",
       "  <thead>\n",
       "    <tr style=\"text-align: right;\">\n",
       "      <th></th>\n",
       "      <th>year</th>\n",
       "      <th>state</th>\n",
       "      <th>city_name</th>\n",
       "      <th>avg_temp_c</th>\n",
       "      <th>min_temp_c</th>\n",
       "      <th>max_temp_c</th>\n",
       "      <th>precipitation_mm</th>\n",
       "      <th>snow_depth_mm</th>\n",
       "      <th>avg_wind_speed_kmh</th>\n",
       "      <th>avg_sea_level_pres_hpa</th>\n",
       "      <th>latitude</th>\n",
       "      <th>longitude</th>\n",
       "    </tr>\n",
       "  </thead>\n",
       "  <tbody>\n",
       "    <tr>\n",
       "      <th>0</th>\n",
       "      <td>1990</td>\n",
       "      <td>Alabama</td>\n",
       "      <td>Montgomery</td>\n",
       "      <td>19.22</td>\n",
       "      <td>12.18</td>\n",
       "      <td>26.75</td>\n",
       "      <td>1355.90</td>\n",
       "      <td>0.00</td>\n",
       "      <td>10.59</td>\n",
       "      <td>1019.33</td>\n",
       "      <td>32.36</td>\n",
       "      <td>-86.28</td>\n",
       "    </tr>\n",
       "    <tr>\n",
       "      <th>1</th>\n",
       "      <td>1990</td>\n",
       "      <td>Alaska</td>\n",
       "      <td>Juneau</td>\n",
       "      <td>5.23</td>\n",
       "      <td>1.79</td>\n",
       "      <td>8.55</td>\n",
       "      <td>1458.00</td>\n",
       "      <td>28829.00</td>\n",
       "      <td>13.11</td>\n",
       "      <td>1015.84</td>\n",
       "      <td>58.31</td>\n",
       "      <td>-134.42</td>\n",
       "    </tr>\n",
       "    <tr>\n",
       "      <th>2</th>\n",
       "      <td>1990</td>\n",
       "      <td>Arizona</td>\n",
       "      <td>Phoenix</td>\n",
       "      <td>23.77</td>\n",
       "      <td>17.29</td>\n",
       "      <td>30.63</td>\n",
       "      <td>196.90</td>\n",
       "      <td>0.00</td>\n",
       "      <td>9.66</td>\n",
       "      <td>1012.34</td>\n",
       "      <td>33.54</td>\n",
       "      <td>-112.07</td>\n",
       "    </tr>\n",
       "    <tr>\n",
       "      <th>3</th>\n",
       "      <td>1990</td>\n",
       "      <td>Arkansas</td>\n",
       "      <td>Little Rock</td>\n",
       "      <td>17.59</td>\n",
       "      <td>12.39</td>\n",
       "      <td>22.78</td>\n",
       "      <td>1617.50</td>\n",
       "      <td>228.00</td>\n",
       "      <td>10.61</td>\n",
       "      <td>1014.14</td>\n",
       "      <td>34.74</td>\n",
       "      <td>-92.33</td>\n",
       "    </tr>\n",
       "    <tr>\n",
       "      <th>4</th>\n",
       "      <td>1990</td>\n",
       "      <td>California</td>\n",
       "      <td>Sacramento</td>\n",
       "      <td>15.80</td>\n",
       "      <td>8.79</td>\n",
       "      <td>24.38</td>\n",
       "      <td>349.90</td>\n",
       "      <td>0.00</td>\n",
       "      <td>11.56</td>\n",
       "      <td>1015.94</td>\n",
       "      <td>38.58</td>\n",
       "      <td>-121.47</td>\n",
       "    </tr>\n",
       "  </tbody>\n",
       "</table>\n",
       "</div>"
      ],
      "text/plain": [
       "   year       state    city_name  avg_temp_c  min_temp_c  max_temp_c  \\\n",
       "0  1990     Alabama   Montgomery       19.22       12.18       26.75   \n",
       "1  1990      Alaska       Juneau        5.23        1.79        8.55   \n",
       "2  1990     Arizona      Phoenix       23.77       17.29       30.63   \n",
       "3  1990    Arkansas  Little Rock       17.59       12.39       22.78   \n",
       "4  1990  California   Sacramento       15.80        8.79       24.38   \n",
       "\n",
       "   precipitation_mm  snow_depth_mm  avg_wind_speed_kmh  \\\n",
       "0           1355.90           0.00               10.59   \n",
       "1           1458.00       28829.00               13.11   \n",
       "2            196.90           0.00                9.66   \n",
       "3           1617.50         228.00               10.61   \n",
       "4            349.90           0.00               11.56   \n",
       "\n",
       "   avg_sea_level_pres_hpa  latitude  longitude  \n",
       "0                 1019.33     32.36     -86.28  \n",
       "1                 1015.84     58.31    -134.42  \n",
       "2                 1012.34     33.54    -112.07  \n",
       "3                 1014.14     34.74     -92.33  \n",
       "4                 1015.94     38.58    -121.47  "
      ]
     },
     "execution_count": 62,
     "metadata": {},
     "output_type": "execute_result"
    }
   ],
   "source": [
    "annual_usa_weather_by_stateCity.head()"
   ]
  },
  {
   "cell_type": "code",
   "execution_count": 63,
   "metadata": {},
   "outputs": [
    {
     "data": {
      "text/plain": [
       "(1457, 12)"
      ]
     },
     "execution_count": 63,
     "metadata": {},
     "output_type": "execute_result"
    }
   ],
   "source": [
    "annual_usa_weather_by_stateCity.shape"
   ]
  },
  {
   "cell_type": "markdown",
   "metadata": {},
   "source": [
    "### 5.6 Join Migraine Data with Weather Data"
   ]
  },
  {
   "cell_type": "markdown",
   "metadata": {},
   "source": [
    "Now that the weather data has been aggregated to match the migraine data, we can join the two datasets together. These datasets will be joined on the `year` and `state` columns from both the USA weather data and the migraine data."
   ]
  },
  {
   "cell_type": "code",
   "execution_count": 64,
   "metadata": {},
   "outputs": [
    {
     "data": {
      "text/html": [
       "<div>\n",
       "<style scoped>\n",
       "    .dataframe tbody tr th:only-of-type {\n",
       "        vertical-align: middle;\n",
       "    }\n",
       "\n",
       "    .dataframe tbody tr th {\n",
       "        vertical-align: top;\n",
       "    }\n",
       "\n",
       "    .dataframe thead th {\n",
       "        text-align: right;\n",
       "    }\n",
       "</style>\n",
       "<table border=\"1\" class=\"dataframe\">\n",
       "  <thead>\n",
       "    <tr style=\"text-align: right;\">\n",
       "      <th></th>\n",
       "      <th>measure</th>\n",
       "      <th>state</th>\n",
       "      <th>sex</th>\n",
       "      <th>age</th>\n",
       "      <th>cause</th>\n",
       "      <th>metric</th>\n",
       "      <th>year</th>\n",
       "      <th>val</th>\n",
       "      <th>upper</th>\n",
       "      <th>lower</th>\n",
       "    </tr>\n",
       "  </thead>\n",
       "  <tbody>\n",
       "    <tr>\n",
       "      <th>14220</th>\n",
       "      <td>Prevalence</td>\n",
       "      <td>Georgia</td>\n",
       "      <td>Both</td>\n",
       "      <td>All ages</td>\n",
       "      <td>Headache disorders</td>\n",
       "      <td>Number</td>\n",
       "      <td>1990</td>\n",
       "      <td>2875413.67</td>\n",
       "      <td>3078619.16</td>\n",
       "      <td>2665563.56</td>\n",
       "    </tr>\n",
       "    <tr>\n",
       "      <th>14223</th>\n",
       "      <td>Prevalence</td>\n",
       "      <td>Georgia</td>\n",
       "      <td>Both</td>\n",
       "      <td>All ages</td>\n",
       "      <td>Headache disorders</td>\n",
       "      <td>Number</td>\n",
       "      <td>1991</td>\n",
       "      <td>2934665.40</td>\n",
       "      <td>3144336.75</td>\n",
       "      <td>2724736.09</td>\n",
       "    </tr>\n",
       "    <tr>\n",
       "      <th>14226</th>\n",
       "      <td>Prevalence</td>\n",
       "      <td>Georgia</td>\n",
       "      <td>Both</td>\n",
       "      <td>All ages</td>\n",
       "      <td>Headache disorders</td>\n",
       "      <td>Number</td>\n",
       "      <td>1992</td>\n",
       "      <td>2994816.92</td>\n",
       "      <td>3204924.80</td>\n",
       "      <td>2780280.62</td>\n",
       "    </tr>\n",
       "    <tr>\n",
       "      <th>14229</th>\n",
       "      <td>Prevalence</td>\n",
       "      <td>Georgia</td>\n",
       "      <td>Both</td>\n",
       "      <td>All ages</td>\n",
       "      <td>Headache disorders</td>\n",
       "      <td>Number</td>\n",
       "      <td>1993</td>\n",
       "      <td>3056114.30</td>\n",
       "      <td>3273188.90</td>\n",
       "      <td>2835990.89</td>\n",
       "    </tr>\n",
       "    <tr>\n",
       "      <th>14232</th>\n",
       "      <td>Prevalence</td>\n",
       "      <td>Georgia</td>\n",
       "      <td>Both</td>\n",
       "      <td>All ages</td>\n",
       "      <td>Headache disorders</td>\n",
       "      <td>Number</td>\n",
       "      <td>1994</td>\n",
       "      <td>3119125.40</td>\n",
       "      <td>3335414.03</td>\n",
       "      <td>2894770.35</td>\n",
       "    </tr>\n",
       "  </tbody>\n",
       "</table>\n",
       "</div>"
      ],
      "text/plain": [
       "          measure    state   sex       age               cause  metric  year  \\\n",
       "14220  Prevalence  Georgia  Both  All ages  Headache disorders  Number  1990   \n",
       "14223  Prevalence  Georgia  Both  All ages  Headache disorders  Number  1991   \n",
       "14226  Prevalence  Georgia  Both  All ages  Headache disorders  Number  1992   \n",
       "14229  Prevalence  Georgia  Both  All ages  Headache disorders  Number  1993   \n",
       "14232  Prevalence  Georgia  Both  All ages  Headache disorders  Number  1994   \n",
       "\n",
       "             val      upper      lower  \n",
       "14220 2875413.67 3078619.16 2665563.56  \n",
       "14223 2934665.40 3144336.75 2724736.09  \n",
       "14226 2994816.92 3204924.80 2780280.62  \n",
       "14229 3056114.30 3273188.90 2835990.89  \n",
       "14232 3119125.40 3335414.03 2894770.35  "
      ]
     },
     "execution_count": 64,
     "metadata": {},
     "output_type": "execute_result"
    }
   ],
   "source": [
    "filtered_migraine_data.head()"
   ]
  },
  {
   "cell_type": "code",
   "execution_count": 65,
   "metadata": {},
   "outputs": [
    {
     "data": {
      "text/plain": [
       "(4590, 10)"
      ]
     },
     "execution_count": 65,
     "metadata": {},
     "output_type": "execute_result"
    }
   ],
   "source": [
    "filtered_migraine_data.shape"
   ]
  },
  {
   "cell_type": "code",
   "execution_count": 66,
   "metadata": {},
   "outputs": [
    {
     "data": {
      "text/plain": [
       "(4371, 20)"
      ]
     },
     "execution_count": 66,
     "metadata": {},
     "output_type": "execute_result"
    }
   ],
   "source": [
    "# Combine USA combined weather with migraine data\n",
    "usa_weather_migraine = annual_usa_weather_by_stateCity.merge(filtered_migraine_data, \n",
    "                                      how='left', \n",
    "                                      left_on=['year', 'state'], \n",
    "                                      right_on=['year', 'state']\n",
    "                                      )\n",
    "\n",
    "# Review the shape of the new dataframe\n",
    "usa_weather_migraine.shape"
   ]
  },
  {
   "cell_type": "markdown",
   "metadata": {},
   "source": [
    "## 6. Feature Engineering"
   ]
  },
  {
   "cell_type": "markdown",
   "metadata": {},
   "source": [
    "Discussing any new features that were created and why they were created. Also, discuss any features that were dropped and why they were dropped."
   ]
  },
  {
   "cell_type": "markdown",
   "metadata": {},
   "source": [
    "### 6.1 New Features"
   ]
  },
  {
   "cell_type": "markdown",
   "metadata": {},
   "source": [
    "#### 6.1.1 Converting Celsius to Fahrenheit"
   ]
  },
  {
   "cell_type": "markdown",
   "metadata": {},
   "source": [
    "##### 6.1.1.1 Convert `avg_temp_c` to `avg_temp_f`"
   ]
  },
  {
   "cell_type": "code",
   "execution_count": 67,
   "metadata": {},
   "outputs": [],
   "source": [
    "from temp_conversion import celsius_to_fahrenheit\n",
    "\n",
    "usa_weather_migraine['avg_temp_f'] = usa_weather_migraine['avg_temp_c'].apply(celsius_to_fahrenheit)"
   ]
  },
  {
   "cell_type": "markdown",
   "metadata": {},
   "source": [
    "##### 6.1.1.2 Convert `min_temp_c` to `min_temp_f`"
   ]
  },
  {
   "cell_type": "code",
   "execution_count": 68,
   "metadata": {},
   "outputs": [],
   "source": [
    "usa_weather_migraine['min_temp_f'] = usa_weather_migraine['min_temp_c'].apply(celsius_to_fahrenheit)"
   ]
  },
  {
   "cell_type": "markdown",
   "metadata": {},
   "source": [
    "##### 6.1.1.3 Convert `max_temp_c` to `max_temp_f`"
   ]
  },
  {
   "cell_type": "code",
   "execution_count": 69,
   "metadata": {},
   "outputs": [],
   "source": [
    "usa_weather_migraine['max_temp_f'] = usa_weather_migraine['max_temp_c'].apply(celsius_to_fahrenheit)"
   ]
  },
  {
   "cell_type": "markdown",
   "metadata": {},
   "source": [
    "##### 6.1.1.4 Reorder Temperature Columns"
   ]
  },
  {
   "cell_type": "code",
   "execution_count": 70,
   "metadata": {},
   "outputs": [],
   "source": [
    "# Reorder temperature columns\n",
    "temp_col = usa_weather_migraine.pop('avg_temp_f')\n",
    "\n",
    "# Insert columns at new position\n",
    "usa_weather_migraine.insert(3, 'avg_temp_f', temp_col)"
   ]
  },
  {
   "cell_type": "code",
   "execution_count": 71,
   "metadata": {},
   "outputs": [],
   "source": [
    "# Reorder temperature columns\n",
    "temp_col1 = usa_weather_migraine.pop('min_temp_f')\n",
    "\n",
    "# Insert columns at new position\n",
    "usa_weather_migraine.insert(4, 'min_temp_f', temp_col1)"
   ]
  },
  {
   "cell_type": "code",
   "execution_count": 72,
   "metadata": {},
   "outputs": [],
   "source": [
    "# Reorder temperature columns\n",
    "temp_col2 = usa_weather_migraine.pop('max_temp_f')\n",
    "\n",
    "# Insert columns at new position\n",
    "usa_weather_migraine.insert(5, 'max_temp_f', temp_col2)"
   ]
  },
  {
   "cell_type": "code",
   "execution_count": 75,
   "metadata": {},
   "outputs": [
    {
     "data": {
      "text/html": [
       "<div>\n",
       "<style scoped>\n",
       "    .dataframe tbody tr th:only-of-type {\n",
       "        vertical-align: middle;\n",
       "    }\n",
       "\n",
       "    .dataframe tbody tr th {\n",
       "        vertical-align: top;\n",
       "    }\n",
       "\n",
       "    .dataframe thead th {\n",
       "        text-align: right;\n",
       "    }\n",
       "</style>\n",
       "<table border=\"1\" class=\"dataframe\">\n",
       "  <thead>\n",
       "    <tr style=\"text-align: right;\">\n",
       "      <th></th>\n",
       "      <th>year</th>\n",
       "      <th>state</th>\n",
       "      <th>city_name</th>\n",
       "      <th>avg_temp_f</th>\n",
       "      <th>min_temp_f</th>\n",
       "      <th>max_temp_f</th>\n",
       "      <th>avg_temp_c</th>\n",
       "      <th>min_temp_c</th>\n",
       "      <th>max_temp_c</th>\n",
       "      <th>precipitation_mm</th>\n",
       "      <th>snow_depth_mm</th>\n",
       "      <th>avg_wind_speed_kmh</th>\n",
       "      <th>avg_sea_level_pres_hpa</th>\n",
       "      <th>latitude</th>\n",
       "      <th>longitude</th>\n",
       "      <th>measure</th>\n",
       "      <th>sex</th>\n",
       "      <th>age</th>\n",
       "      <th>cause</th>\n",
       "      <th>metric</th>\n",
       "      <th>val</th>\n",
       "      <th>upper</th>\n",
       "      <th>lower</th>\n",
       "      <th>precipitation_in</th>\n",
       "    </tr>\n",
       "  </thead>\n",
       "  <tbody>\n",
       "    <tr>\n",
       "      <th>0</th>\n",
       "      <td>1990</td>\n",
       "      <td>Alabama</td>\n",
       "      <td>Montgomery</td>\n",
       "      <td>66.60</td>\n",
       "      <td>53.92</td>\n",
       "      <td>80.15</td>\n",
       "      <td>19.22</td>\n",
       "      <td>12.18</td>\n",
       "      <td>26.75</td>\n",
       "      <td>1355.90</td>\n",
       "      <td>0.00</td>\n",
       "      <td>10.59</td>\n",
       "      <td>1019.33</td>\n",
       "      <td>32.36</td>\n",
       "      <td>-86.28</td>\n",
       "      <td>Prevalence</td>\n",
       "      <td>Both</td>\n",
       "      <td>All ages</td>\n",
       "      <td>Tension-type headache</td>\n",
       "      <td>Number</td>\n",
       "      <td>1522970.03</td>\n",
       "      <td>1696240.95</td>\n",
       "      <td>1355711.48</td>\n",
       "      <td>53.38</td>\n",
       "    </tr>\n",
       "    <tr>\n",
       "      <th>1</th>\n",
       "      <td>1990</td>\n",
       "      <td>Alabama</td>\n",
       "      <td>Montgomery</td>\n",
       "      <td>66.60</td>\n",
       "      <td>53.92</td>\n",
       "      <td>80.15</td>\n",
       "      <td>19.22</td>\n",
       "      <td>12.18</td>\n",
       "      <td>26.75</td>\n",
       "      <td>1355.90</td>\n",
       "      <td>0.00</td>\n",
       "      <td>10.59</td>\n",
       "      <td>1019.33</td>\n",
       "      <td>32.36</td>\n",
       "      <td>-86.28</td>\n",
       "      <td>Prevalence</td>\n",
       "      <td>Both</td>\n",
       "      <td>All ages</td>\n",
       "      <td>Migraine</td>\n",
       "      <td>Number</td>\n",
       "      <td>743282.57</td>\n",
       "      <td>850504.22</td>\n",
       "      <td>647607.37</td>\n",
       "      <td>53.38</td>\n",
       "    </tr>\n",
       "    <tr>\n",
       "      <th>2</th>\n",
       "      <td>1990</td>\n",
       "      <td>Alabama</td>\n",
       "      <td>Montgomery</td>\n",
       "      <td>66.60</td>\n",
       "      <td>53.92</td>\n",
       "      <td>80.15</td>\n",
       "      <td>19.22</td>\n",
       "      <td>12.18</td>\n",
       "      <td>26.75</td>\n",
       "      <td>1355.90</td>\n",
       "      <td>0.00</td>\n",
       "      <td>10.59</td>\n",
       "      <td>1019.33</td>\n",
       "      <td>32.36</td>\n",
       "      <td>-86.28</td>\n",
       "      <td>Prevalence</td>\n",
       "      <td>Both</td>\n",
       "      <td>All ages</td>\n",
       "      <td>Headache disorders</td>\n",
       "      <td>Number</td>\n",
       "      <td>1783365.78</td>\n",
       "      <td>1906125.83</td>\n",
       "      <td>1655173.23</td>\n",
       "      <td>53.38</td>\n",
       "    </tr>\n",
       "    <tr>\n",
       "      <th>3</th>\n",
       "      <td>1990</td>\n",
       "      <td>Alaska</td>\n",
       "      <td>Juneau</td>\n",
       "      <td>41.41</td>\n",
       "      <td>35.23</td>\n",
       "      <td>47.39</td>\n",
       "      <td>5.23</td>\n",
       "      <td>1.79</td>\n",
       "      <td>8.55</td>\n",
       "      <td>1458.00</td>\n",
       "      <td>28829.00</td>\n",
       "      <td>13.11</td>\n",
       "      <td>1015.84</td>\n",
       "      <td>58.31</td>\n",
       "      <td>-134.42</td>\n",
       "      <td>Prevalence</td>\n",
       "      <td>Both</td>\n",
       "      <td>All ages</td>\n",
       "      <td>Migraine</td>\n",
       "      <td>Number</td>\n",
       "      <td>101075.08</td>\n",
       "      <td>116504.07</td>\n",
       "      <td>87805.46</td>\n",
       "      <td>57.40</td>\n",
       "    </tr>\n",
       "    <tr>\n",
       "      <th>4</th>\n",
       "      <td>1990</td>\n",
       "      <td>Alaska</td>\n",
       "      <td>Juneau</td>\n",
       "      <td>41.41</td>\n",
       "      <td>35.23</td>\n",
       "      <td>47.39</td>\n",
       "      <td>5.23</td>\n",
       "      <td>1.79</td>\n",
       "      <td>8.55</td>\n",
       "      <td>1458.00</td>\n",
       "      <td>28829.00</td>\n",
       "      <td>13.11</td>\n",
       "      <td>1015.84</td>\n",
       "      <td>58.31</td>\n",
       "      <td>-134.42</td>\n",
       "      <td>Prevalence</td>\n",
       "      <td>Both</td>\n",
       "      <td>All ages</td>\n",
       "      <td>Tension-type headache</td>\n",
       "      <td>Number</td>\n",
       "      <td>203387.71</td>\n",
       "      <td>229359.69</td>\n",
       "      <td>177743.40</td>\n",
       "      <td>57.40</td>\n",
       "    </tr>\n",
       "    <tr>\n",
       "      <th>...</th>\n",
       "      <td>...</td>\n",
       "      <td>...</td>\n",
       "      <td>...</td>\n",
       "      <td>...</td>\n",
       "      <td>...</td>\n",
       "      <td>...</td>\n",
       "      <td>...</td>\n",
       "      <td>...</td>\n",
       "      <td>...</td>\n",
       "      <td>...</td>\n",
       "      <td>...</td>\n",
       "      <td>...</td>\n",
       "      <td>...</td>\n",
       "      <td>...</td>\n",
       "      <td>...</td>\n",
       "      <td>...</td>\n",
       "      <td>...</td>\n",
       "      <td>...</td>\n",
       "      <td>...</td>\n",
       "      <td>...</td>\n",
       "      <td>...</td>\n",
       "      <td>...</td>\n",
       "      <td>...</td>\n",
       "      <td>...</td>\n",
       "    </tr>\n",
       "    <tr>\n",
       "      <th>4366</th>\n",
       "      <td>2019</td>\n",
       "      <td>Wisconsin</td>\n",
       "      <td>Madison</td>\n",
       "      <td>46.60</td>\n",
       "      <td>37.35</td>\n",
       "      <td>55.29</td>\n",
       "      <td>8.11</td>\n",
       "      <td>2.97</td>\n",
       "      <td>12.94</td>\n",
       "      <td>1179.50</td>\n",
       "      <td>7920.00</td>\n",
       "      <td>11.25</td>\n",
       "      <td>1017.19</td>\n",
       "      <td>43.07</td>\n",
       "      <td>-89.40</td>\n",
       "      <td>Prevalence</td>\n",
       "      <td>Both</td>\n",
       "      <td>All ages</td>\n",
       "      <td>Migraine</td>\n",
       "      <td>Number</td>\n",
       "      <td>1001012.63</td>\n",
       "      <td>1142874.83</td>\n",
       "      <td>876799.70</td>\n",
       "      <td>46.44</td>\n",
       "    </tr>\n",
       "    <tr>\n",
       "      <th>4367</th>\n",
       "      <td>2019</td>\n",
       "      <td>Wisconsin</td>\n",
       "      <td>Madison</td>\n",
       "      <td>46.60</td>\n",
       "      <td>37.35</td>\n",
       "      <td>55.29</td>\n",
       "      <td>8.11</td>\n",
       "      <td>2.97</td>\n",
       "      <td>12.94</td>\n",
       "      <td>1179.50</td>\n",
       "      <td>7920.00</td>\n",
       "      <td>11.25</td>\n",
       "      <td>1017.19</td>\n",
       "      <td>43.07</td>\n",
       "      <td>-89.40</td>\n",
       "      <td>Prevalence</td>\n",
       "      <td>Both</td>\n",
       "      <td>All ages</td>\n",
       "      <td>Headache disorders</td>\n",
       "      <td>Number</td>\n",
       "      <td>2494860.61</td>\n",
       "      <td>2660892.03</td>\n",
       "      <td>2320839.53</td>\n",
       "      <td>46.44</td>\n",
       "    </tr>\n",
       "    <tr>\n",
       "      <th>4368</th>\n",
       "      <td>2019</td>\n",
       "      <td>Wyoming</td>\n",
       "      <td>Cheyenne</td>\n",
       "      <td>45.77</td>\n",
       "      <td>33.41</td>\n",
       "      <td>58.55</td>\n",
       "      <td>7.65</td>\n",
       "      <td>0.78</td>\n",
       "      <td>14.75</td>\n",
       "      <td>458.50</td>\n",
       "      <td>4500.00</td>\n",
       "      <td>18.14</td>\n",
       "      <td>1014.44</td>\n",
       "      <td>41.14</td>\n",
       "      <td>-104.82</td>\n",
       "      <td>Prevalence</td>\n",
       "      <td>Both</td>\n",
       "      <td>All ages</td>\n",
       "      <td>Headache disorders</td>\n",
       "      <td>Number</td>\n",
       "      <td>256236.35</td>\n",
       "      <td>273580.06</td>\n",
       "      <td>237941.46</td>\n",
       "      <td>18.05</td>\n",
       "    </tr>\n",
       "    <tr>\n",
       "      <th>4369</th>\n",
       "      <td>2019</td>\n",
       "      <td>Wyoming</td>\n",
       "      <td>Cheyenne</td>\n",
       "      <td>45.77</td>\n",
       "      <td>33.41</td>\n",
       "      <td>58.55</td>\n",
       "      <td>7.65</td>\n",
       "      <td>0.78</td>\n",
       "      <td>14.75</td>\n",
       "      <td>458.50</td>\n",
       "      <td>4500.00</td>\n",
       "      <td>18.14</td>\n",
       "      <td>1014.44</td>\n",
       "      <td>41.14</td>\n",
       "      <td>-104.82</td>\n",
       "      <td>Prevalence</td>\n",
       "      <td>Both</td>\n",
       "      <td>All ages</td>\n",
       "      <td>Tension-type headache</td>\n",
       "      <td>Number</td>\n",
       "      <td>217615.63</td>\n",
       "      <td>240231.47</td>\n",
       "      <td>195516.27</td>\n",
       "      <td>18.05</td>\n",
       "    </tr>\n",
       "    <tr>\n",
       "      <th>4370</th>\n",
       "      <td>2019</td>\n",
       "      <td>Wyoming</td>\n",
       "      <td>Cheyenne</td>\n",
       "      <td>45.77</td>\n",
       "      <td>33.41</td>\n",
       "      <td>58.55</td>\n",
       "      <td>7.65</td>\n",
       "      <td>0.78</td>\n",
       "      <td>14.75</td>\n",
       "      <td>458.50</td>\n",
       "      <td>4500.00</td>\n",
       "      <td>18.14</td>\n",
       "      <td>1014.44</td>\n",
       "      <td>41.14</td>\n",
       "      <td>-104.82</td>\n",
       "      <td>Prevalence</td>\n",
       "      <td>Both</td>\n",
       "      <td>All ages</td>\n",
       "      <td>Migraine</td>\n",
       "      <td>Number</td>\n",
       "      <td>102105.29</td>\n",
       "      <td>116525.98</td>\n",
       "      <td>89399.76</td>\n",
       "      <td>18.05</td>\n",
       "    </tr>\n",
       "  </tbody>\n",
       "</table>\n",
       "<p>4371 rows × 24 columns</p>\n",
       "</div>"
      ],
      "text/plain": [
       "      year      state   city_name  avg_temp_f  min_temp_f  max_temp_f  \\\n",
       "0     1990    Alabama  Montgomery       66.60       53.92       80.15   \n",
       "1     1990    Alabama  Montgomery       66.60       53.92       80.15   \n",
       "2     1990    Alabama  Montgomery       66.60       53.92       80.15   \n",
       "3     1990     Alaska      Juneau       41.41       35.23       47.39   \n",
       "4     1990     Alaska      Juneau       41.41       35.23       47.39   \n",
       "...    ...        ...         ...         ...         ...         ...   \n",
       "4366  2019  Wisconsin     Madison       46.60       37.35       55.29   \n",
       "4367  2019  Wisconsin     Madison       46.60       37.35       55.29   \n",
       "4368  2019    Wyoming    Cheyenne       45.77       33.41       58.55   \n",
       "4369  2019    Wyoming    Cheyenne       45.77       33.41       58.55   \n",
       "4370  2019    Wyoming    Cheyenne       45.77       33.41       58.55   \n",
       "\n",
       "      avg_temp_c  min_temp_c  max_temp_c  precipitation_mm  snow_depth_mm  \\\n",
       "0          19.22       12.18       26.75           1355.90           0.00   \n",
       "1          19.22       12.18       26.75           1355.90           0.00   \n",
       "2          19.22       12.18       26.75           1355.90           0.00   \n",
       "3           5.23        1.79        8.55           1458.00       28829.00   \n",
       "4           5.23        1.79        8.55           1458.00       28829.00   \n",
       "...          ...         ...         ...               ...            ...   \n",
       "4366        8.11        2.97       12.94           1179.50        7920.00   \n",
       "4367        8.11        2.97       12.94           1179.50        7920.00   \n",
       "4368        7.65        0.78       14.75            458.50        4500.00   \n",
       "4369        7.65        0.78       14.75            458.50        4500.00   \n",
       "4370        7.65        0.78       14.75            458.50        4500.00   \n",
       "\n",
       "      avg_wind_speed_kmh  avg_sea_level_pres_hpa  latitude  longitude  \\\n",
       "0                  10.59                 1019.33     32.36     -86.28   \n",
       "1                  10.59                 1019.33     32.36     -86.28   \n",
       "2                  10.59                 1019.33     32.36     -86.28   \n",
       "3                  13.11                 1015.84     58.31    -134.42   \n",
       "4                  13.11                 1015.84     58.31    -134.42   \n",
       "...                  ...                     ...       ...        ...   \n",
       "4366               11.25                 1017.19     43.07     -89.40   \n",
       "4367               11.25                 1017.19     43.07     -89.40   \n",
       "4368               18.14                 1014.44     41.14    -104.82   \n",
       "4369               18.14                 1014.44     41.14    -104.82   \n",
       "4370               18.14                 1014.44     41.14    -104.82   \n",
       "\n",
       "         measure   sex       age                  cause  metric        val  \\\n",
       "0     Prevalence  Both  All ages  Tension-type headache  Number 1522970.03   \n",
       "1     Prevalence  Both  All ages               Migraine  Number  743282.57   \n",
       "2     Prevalence  Both  All ages     Headache disorders  Number 1783365.78   \n",
       "3     Prevalence  Both  All ages               Migraine  Number  101075.08   \n",
       "4     Prevalence  Both  All ages  Tension-type headache  Number  203387.71   \n",
       "...          ...   ...       ...                    ...     ...        ...   \n",
       "4366  Prevalence  Both  All ages               Migraine  Number 1001012.63   \n",
       "4367  Prevalence  Both  All ages     Headache disorders  Number 2494860.61   \n",
       "4368  Prevalence  Both  All ages     Headache disorders  Number  256236.35   \n",
       "4369  Prevalence  Both  All ages  Tension-type headache  Number  217615.63   \n",
       "4370  Prevalence  Both  All ages               Migraine  Number  102105.29   \n",
       "\n",
       "          upper      lower  precipitation_in  \n",
       "0    1696240.95 1355711.48             53.38  \n",
       "1     850504.22  647607.37             53.38  \n",
       "2    1906125.83 1655173.23             53.38  \n",
       "3     116504.07   87805.46             57.40  \n",
       "4     229359.69  177743.40             57.40  \n",
       "...         ...        ...               ...  \n",
       "4366 1142874.83  876799.70             46.44  \n",
       "4367 2660892.03 2320839.53             46.44  \n",
       "4368  273580.06  237941.46             18.05  \n",
       "4369  240231.47  195516.27             18.05  \n",
       "4370  116525.98   89399.76             18.05  \n",
       "\n",
       "[4371 rows x 24 columns]"
      ]
     },
     "execution_count": 75,
     "metadata": {},
     "output_type": "execute_result"
    }
   ],
   "source": [
    "usa_weather_migraine"
   ]
  },
  {
   "cell_type": "markdown",
   "metadata": {},
   "source": [
    "##### 6.1.1.5 Convert `precipitation_mm` to `precipitation_in`"
   ]
  },
  {
   "cell_type": "code",
   "execution_count": 74,
   "metadata": {},
   "outputs": [],
   "source": [
    "from temp_conversion import mM_to_inches\n",
    "\n",
    "usa_weather_migraine['precipitation_in'] = usa_weather_migraine['precipitation_mm'].apply(mM_to_inches)\n"
   ]
  },
  {
   "cell_type": "code",
   "execution_count": 78,
   "metadata": {},
   "outputs": [],
   "source": [
    "# Reorder temperature columns\n",
    "temp_col3 = usa_weather_migraine.pop('precipitation_in')\n",
    "\n",
    "# Insert columns at new position\n",
    "usa_weather_migraine.insert(9, 'precipitation_in', temp_col3)"
   ]
  },
  {
   "cell_type": "code",
   "execution_count": 79,
   "metadata": {},
   "outputs": [
    {
     "data": {
      "text/html": [
       "<div>\n",
       "<style scoped>\n",
       "    .dataframe tbody tr th:only-of-type {\n",
       "        vertical-align: middle;\n",
       "    }\n",
       "\n",
       "    .dataframe tbody tr th {\n",
       "        vertical-align: top;\n",
       "    }\n",
       "\n",
       "    .dataframe thead th {\n",
       "        text-align: right;\n",
       "    }\n",
       "</style>\n",
       "<table border=\"1\" class=\"dataframe\">\n",
       "  <thead>\n",
       "    <tr style=\"text-align: right;\">\n",
       "      <th></th>\n",
       "      <th>year</th>\n",
       "      <th>state</th>\n",
       "      <th>city_name</th>\n",
       "      <th>avg_temp_f</th>\n",
       "      <th>min_temp_f</th>\n",
       "      <th>max_temp_f</th>\n",
       "      <th>avg_temp_c</th>\n",
       "      <th>min_temp_c</th>\n",
       "      <th>max_temp_c</th>\n",
       "      <th>precipitation_in</th>\n",
       "      <th>precipitation_mm</th>\n",
       "      <th>snow_depth_mm</th>\n",
       "      <th>avg_wind_speed_kmh</th>\n",
       "      <th>avg_sea_level_pres_hpa</th>\n",
       "      <th>latitude</th>\n",
       "      <th>longitude</th>\n",
       "      <th>measure</th>\n",
       "      <th>sex</th>\n",
       "      <th>age</th>\n",
       "      <th>cause</th>\n",
       "      <th>metric</th>\n",
       "      <th>val</th>\n",
       "      <th>upper</th>\n",
       "      <th>lower</th>\n",
       "    </tr>\n",
       "  </thead>\n",
       "  <tbody>\n",
       "    <tr>\n",
       "      <th>0</th>\n",
       "      <td>1990</td>\n",
       "      <td>Alabama</td>\n",
       "      <td>Montgomery</td>\n",
       "      <td>66.60</td>\n",
       "      <td>53.92</td>\n",
       "      <td>80.15</td>\n",
       "      <td>19.22</td>\n",
       "      <td>12.18</td>\n",
       "      <td>26.75</td>\n",
       "      <td>53.38</td>\n",
       "      <td>1355.90</td>\n",
       "      <td>0.00</td>\n",
       "      <td>10.59</td>\n",
       "      <td>1019.33</td>\n",
       "      <td>32.36</td>\n",
       "      <td>-86.28</td>\n",
       "      <td>Prevalence</td>\n",
       "      <td>Both</td>\n",
       "      <td>All ages</td>\n",
       "      <td>Tension-type headache</td>\n",
       "      <td>Number</td>\n",
       "      <td>1522970.03</td>\n",
       "      <td>1696240.95</td>\n",
       "      <td>1355711.48</td>\n",
       "    </tr>\n",
       "    <tr>\n",
       "      <th>1</th>\n",
       "      <td>1990</td>\n",
       "      <td>Alabama</td>\n",
       "      <td>Montgomery</td>\n",
       "      <td>66.60</td>\n",
       "      <td>53.92</td>\n",
       "      <td>80.15</td>\n",
       "      <td>19.22</td>\n",
       "      <td>12.18</td>\n",
       "      <td>26.75</td>\n",
       "      <td>53.38</td>\n",
       "      <td>1355.90</td>\n",
       "      <td>0.00</td>\n",
       "      <td>10.59</td>\n",
       "      <td>1019.33</td>\n",
       "      <td>32.36</td>\n",
       "      <td>-86.28</td>\n",
       "      <td>Prevalence</td>\n",
       "      <td>Both</td>\n",
       "      <td>All ages</td>\n",
       "      <td>Migraine</td>\n",
       "      <td>Number</td>\n",
       "      <td>743282.57</td>\n",
       "      <td>850504.22</td>\n",
       "      <td>647607.37</td>\n",
       "    </tr>\n",
       "    <tr>\n",
       "      <th>2</th>\n",
       "      <td>1990</td>\n",
       "      <td>Alabama</td>\n",
       "      <td>Montgomery</td>\n",
       "      <td>66.60</td>\n",
       "      <td>53.92</td>\n",
       "      <td>80.15</td>\n",
       "      <td>19.22</td>\n",
       "      <td>12.18</td>\n",
       "      <td>26.75</td>\n",
       "      <td>53.38</td>\n",
       "      <td>1355.90</td>\n",
       "      <td>0.00</td>\n",
       "      <td>10.59</td>\n",
       "      <td>1019.33</td>\n",
       "      <td>32.36</td>\n",
       "      <td>-86.28</td>\n",
       "      <td>Prevalence</td>\n",
       "      <td>Both</td>\n",
       "      <td>All ages</td>\n",
       "      <td>Headache disorders</td>\n",
       "      <td>Number</td>\n",
       "      <td>1783365.78</td>\n",
       "      <td>1906125.83</td>\n",
       "      <td>1655173.23</td>\n",
       "    </tr>\n",
       "    <tr>\n",
       "      <th>3</th>\n",
       "      <td>1990</td>\n",
       "      <td>Alaska</td>\n",
       "      <td>Juneau</td>\n",
       "      <td>41.41</td>\n",
       "      <td>35.23</td>\n",
       "      <td>47.39</td>\n",
       "      <td>5.23</td>\n",
       "      <td>1.79</td>\n",
       "      <td>8.55</td>\n",
       "      <td>57.40</td>\n",
       "      <td>1458.00</td>\n",
       "      <td>28829.00</td>\n",
       "      <td>13.11</td>\n",
       "      <td>1015.84</td>\n",
       "      <td>58.31</td>\n",
       "      <td>-134.42</td>\n",
       "      <td>Prevalence</td>\n",
       "      <td>Both</td>\n",
       "      <td>All ages</td>\n",
       "      <td>Migraine</td>\n",
       "      <td>Number</td>\n",
       "      <td>101075.08</td>\n",
       "      <td>116504.07</td>\n",
       "      <td>87805.46</td>\n",
       "    </tr>\n",
       "    <tr>\n",
       "      <th>4</th>\n",
       "      <td>1990</td>\n",
       "      <td>Alaska</td>\n",
       "      <td>Juneau</td>\n",
       "      <td>41.41</td>\n",
       "      <td>35.23</td>\n",
       "      <td>47.39</td>\n",
       "      <td>5.23</td>\n",
       "      <td>1.79</td>\n",
       "      <td>8.55</td>\n",
       "      <td>57.40</td>\n",
       "      <td>1458.00</td>\n",
       "      <td>28829.00</td>\n",
       "      <td>13.11</td>\n",
       "      <td>1015.84</td>\n",
       "      <td>58.31</td>\n",
       "      <td>-134.42</td>\n",
       "      <td>Prevalence</td>\n",
       "      <td>Both</td>\n",
       "      <td>All ages</td>\n",
       "      <td>Tension-type headache</td>\n",
       "      <td>Number</td>\n",
       "      <td>203387.71</td>\n",
       "      <td>229359.69</td>\n",
       "      <td>177743.40</td>\n",
       "    </tr>\n",
       "  </tbody>\n",
       "</table>\n",
       "</div>"
      ],
      "text/plain": [
       "   year    state   city_name  avg_temp_f  min_temp_f  max_temp_f  avg_temp_c  \\\n",
       "0  1990  Alabama  Montgomery       66.60       53.92       80.15       19.22   \n",
       "1  1990  Alabama  Montgomery       66.60       53.92       80.15       19.22   \n",
       "2  1990  Alabama  Montgomery       66.60       53.92       80.15       19.22   \n",
       "3  1990   Alaska      Juneau       41.41       35.23       47.39        5.23   \n",
       "4  1990   Alaska      Juneau       41.41       35.23       47.39        5.23   \n",
       "\n",
       "   min_temp_c  max_temp_c  precipitation_in  precipitation_mm  snow_depth_mm  \\\n",
       "0       12.18       26.75             53.38           1355.90           0.00   \n",
       "1       12.18       26.75             53.38           1355.90           0.00   \n",
       "2       12.18       26.75             53.38           1355.90           0.00   \n",
       "3        1.79        8.55             57.40           1458.00       28829.00   \n",
       "4        1.79        8.55             57.40           1458.00       28829.00   \n",
       "\n",
       "   avg_wind_speed_kmh  avg_sea_level_pres_hpa  latitude  longitude  \\\n",
       "0               10.59                 1019.33     32.36     -86.28   \n",
       "1               10.59                 1019.33     32.36     -86.28   \n",
       "2               10.59                 1019.33     32.36     -86.28   \n",
       "3               13.11                 1015.84     58.31    -134.42   \n",
       "4               13.11                 1015.84     58.31    -134.42   \n",
       "\n",
       "      measure   sex       age                  cause  metric        val  \\\n",
       "0  Prevalence  Both  All ages  Tension-type headache  Number 1522970.03   \n",
       "1  Prevalence  Both  All ages               Migraine  Number  743282.57   \n",
       "2  Prevalence  Both  All ages     Headache disorders  Number 1783365.78   \n",
       "3  Prevalence  Both  All ages               Migraine  Number  101075.08   \n",
       "4  Prevalence  Both  All ages  Tension-type headache  Number  203387.71   \n",
       "\n",
       "       upper      lower  \n",
       "0 1696240.95 1355711.48  \n",
       "1  850504.22  647607.37  \n",
       "2 1906125.83 1655173.23  \n",
       "3  116504.07   87805.46  \n",
       "4  229359.69  177743.40  "
      ]
     },
     "execution_count": 79,
     "metadata": {},
     "output_type": "execute_result"
    }
   ],
   "source": [
    "usa_weather_migraine.head()"
   ]
  },
  {
   "cell_type": "markdown",
   "metadata": {},
   "source": [
    "#### 6.1.2 Sea Level Pressure Missing Values"
   ]
  },
  {
   "cell_type": "markdown",
   "metadata": {},
   "source": [
    "##### 6.1.2.1 Leaving/Dropping Missing Values (Scenario #1)"
   ]
  },
  {
   "cell_type": "markdown",
   "metadata": {},
   "source": [
    "Utilized existing data without filling in missing values."
   ]
  },
  {
   "cell_type": "markdown",
   "metadata": {},
   "source": [
    "##### 6.1.2.2 Linear Interpolation (Scenario #2)"
   ]
  },
  {
   "cell_type": "markdown",
   "metadata": {},
   "source": [
    "- `avg_sea_level_pres_hpa_linear`: calculated by using linear interpolation to fill in missing values for the average sea level pressure\n",
    "- `avg_sea_level_pres_hpa_linear_diff`: calculated by subtracting the upper bound of the average sea level pressure with linear interpolation from the lower bound of the average sea level pressure with linear interpolation\n",
    "- `avg_sea_level_pres_hpa_linear_diff_pct`: calculated by dividing the difference between the upper and lower bounds of the average sea level pressure with linear interpolation by the average sea level pressure with linear interpolation"
   ]
  },
  {
   "cell_type": "markdown",
   "metadata": {},
   "source": [
    "##### 6.1.2.3 Forward Fill (Scenario #3)"
   ]
  },
  {
   "cell_type": "markdown",
   "metadata": {},
   "source": [
    "- `avg_sea_level_pres_hpa_ffill`: calculated by using forward fill to fill in missing values for the average sea level pressure\n",
    "- `avg_sea_level_pres_hpa_ffill_diff`: calculated by subtracting the upper bound of the average sea level pressure with forward fill from the lower bound of the average sea level pressure with forward fill\n",
    "- `avg_sea_level_pres_hpa_ffill_diff_pct`: calculated by dividing the difference between the upper and lower bounds of the average sea level pressure with forward fill by the average sea level pressure with forward fill"
   ]
  },
  {
   "cell_type": "markdown",
   "metadata": {},
   "source": [
    "##### 6.1.2.4 Backward Fill (Scenario #4)"
   ]
  },
  {
   "cell_type": "markdown",
   "metadata": {},
   "source": [
    "- `avg_sea_level_pres_hpa_bfill`: calculated by using backward fill to fill in missing values for the average sea level pressure\n",
    "- `avg_sea_level_pres_hpa_bfill_diff`: calculated by subtracting the upper bound of the average sea level pressure with backward fill from the lower bound of the average sea level pressure with backward fill\n",
    "- `avg_sea_level_pres_hpa_bfill_diff_pct`: calculated by dividing the difference between the upper and lower bounds of the average sea level pressure with backward fill by the average sea level pressure with backward fill"
   ]
  },
  {
   "cell_type": "markdown",
   "metadata": {},
   "source": [
    "### 6.2 Dropped Features"
   ]
  },
  {
   "cell_type": "code",
   "execution_count": null,
   "metadata": {},
   "outputs": [],
   "source": [
    "# usa_weather_migraine.drop(columns=['avg_temp_c', 'min_temp_c', 'max_temp_c'], inplace=True)\n",
    "\n",
    "# usa_weather_migraine"
   ]
  },
  {
   "cell_type": "code",
   "execution_count": null,
   "metadata": {},
   "outputs": [],
   "source": [
    "# usa_weather_migraine.drop(columns='precipitation_mm', inplace=True)\n",
    "\n",
    "# usa_weather_migraine"
   ]
  },
  {
   "cell_type": "markdown",
   "metadata": {},
   "source": [
    "## 7. Summary"
   ]
  },
  {
   "cell_type": "markdown",
   "metadata": {},
   "source": [
    "Summarize the data preprocessing steps that were taken in this notebook."
   ]
  },
  {
   "cell_type": "markdown",
   "metadata": {},
   "source": [
    "## 8. Next Steps"
   ]
  },
  {
   "cell_type": "markdown",
   "metadata": {},
   "source": [
    "Discuss any next steps that should be taken in the data analysis process/modeling phases."
   ]
  }
 ],
 "metadata": {
  "kernelspec": {
   "display_name": "Python 3",
   "language": "python",
   "name": "python3"
  },
  "language_info": {
   "codemirror_mode": {
    "name": "ipython",
    "version": 3
   },
   "file_extension": ".py",
   "mimetype": "text/x-python",
   "name": "python",
   "nbconvert_exporter": "python",
   "pygments_lexer": "ipython3",
   "version": "3.12.0"
  }
 },
 "nbformat": 4,
 "nbformat_minor": 2
}
