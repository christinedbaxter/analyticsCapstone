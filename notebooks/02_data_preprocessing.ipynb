{
 "cells": [
  {
   "cell_type": "markdown",
   "metadata": {},
   "source": [
    "# Data Preprocessing"
   ]
  },
  {
   "cell_type": "markdown",
   "metadata": {},
   "source": [
    "## 1. Introduction"
   ]
  },
  {
   "cell_type": "markdown",
   "metadata": {},
   "source": [
    "Briefly describe the objectives of this notebook, which primarily focuses on preprocessing the data to prepare it for analysis."
   ]
  },
  {
   "cell_type": "markdown",
   "metadata": {},
   "source": [
    "## 2. Import Required Libraries"
   ]
  },
  {
   "cell_type": "code",
   "execution_count": null,
   "metadata": {},
   "outputs": [],
   "source": [
    "import pandas as pd\n",
    "import numpy as np\n",
    "import sys\n",
    "\n",
    "# Add the path to the scripts folder and import the functions\n",
    "sys.path.append(\"../scripts/\")\n",
    "\n",
    "# from merged_data import get_weather_migraine_dataframe\n",
    "from raw_data import get_raw_dataframes"
   ]
  },
  {
   "cell_type": "markdown",
   "metadata": {},
   "source": [
    "## 3. Load Data"
   ]
  },
  {
   "cell_type": "code",
   "execution_count": null,
   "metadata": {},
   "outputs": [],
   "source": [
    "# Load data\n",
    "city_data, country_data, weather_data, migraine_data = get_raw_dataframes()\n",
    "\n",
    "city_data.shape, country_data.shape, weather_data.shape, migraine_data.shape\n",
    "\n"
   ]
  },
  {
   "cell_type": "markdown",
   "metadata": {},
   "source": [
    "## 4. Data Cleaning"
   ]
  },
  {
   "cell_type": "markdown",
   "metadata": {},
   "source": [
    "### 4.1 Drop Unnecessary Columns"
   ]
  },
  {
   "cell_type": "markdown",
   "metadata": {},
   "source": [
    "#### 4.1.1 DataFrame: `city_data`"
   ]
  },
  {
   "cell_type": "markdown",
   "metadata": {},
   "source": [
    "Keeping all columns for now."
   ]
  },
  {
   "cell_type": "markdown",
   "metadata": {},
   "source": [
    "#### 4.1.2 DataFrame: `country_data`"
   ]
  },
  {
   "cell_type": "markdown",
   "metadata": {},
   "source": [
    "*Keeping* the following columns:\n",
    "- 'country'\n",
    "- 'iso2'\n",
    "- 'iso3'\n",
    "- 'population'\n",
    "- 'region'\n",
    "- 'continent'\n",
    "\n",
    "*Removing* the following columns:\n",
    "- 'native_name'\n",
    "- 'area'\n",
    "- 'capital'\n",
    "- 'capital_lat'\n",
    "- 'capital_lon'"
   ]
  },
  {
   "cell_type": "code",
   "execution_count": null,
   "metadata": {},
   "outputs": [],
   "source": [
    "# Drop columns that are not needed for the analysis\n",
    "country_data.drop(columns=['native_name', 'area', 'capital', 'capital_lat', 'capital_lng'], inplace=True)\n",
    "country_data.shape"
   ]
  },
  {
   "cell_type": "markdown",
   "metadata": {},
   "source": [
    "#### 4.1.3 DataFrame: `weather_data`"
   ]
  },
  {
   "cell_type": "markdown",
   "metadata": {},
   "source": [
    "*Keeping* the following columns:\n",
    "- 'station_id'\n",
    "- 'city_name'\n",
    "- 'date'\n",
    "- 'season'\n",
    "- '*_temp_c' (avg, min, max)\n",
    "- 'precipitation_mm'\n",
    "- 'avg_sea_level_pres_hpa'\n",
    "- 'sunshine_total_min'\n",
    "\n",
    "*Removing* the following columns:\n",
    "- 'snow_depth_mm'\n",
    "- 'avg_wind_dir_deg'\n",
    "- 'avg_wind_speed_kmh'\n",
    "- 'peak_wind_gust_kmh'\n"
   ]
  },
  {
   "cell_type": "code",
   "execution_count": null,
   "metadata": {},
   "outputs": [],
   "source": [
    "# Drop columns that are not needed for the analysis\n",
    "weather_data.drop(columns=['snow_depth_mm', 'avg_wind_dir_deg', 'avg_wind_speed_kmh', 'peak_wind_gust_kmh'], inplace=True)\n",
    "weather_data.shape"
   ]
  },
  {
   "cell_type": "markdown",
   "metadata": {},
   "source": [
    "#### 4.1.4 DataFrame: `migraine_data`"
   ]
  },
  {
   "cell_type": "markdown",
   "metadata": {},
   "source": [
    "*Keeping* only the following columns:\n",
    "- 'measure_name'\n",
    "- 'location_name'\n",
    "- 'sex_name'\n",
    "- 'age_name'\n",
    "- 'cause_name'\n",
    "- 'metric_name'\n",
    "- 'year'\n",
    "- 'val'\n",
    "- 'upper'\n",
    "- 'lower'\n",
    "\n",
    "*Removing* the following columns:\n",
    "- '*_id' (measure, location, sex, age, cause, metric)"
   ]
  },
  {
   "cell_type": "code",
   "execution_count": null,
   "metadata": {},
   "outputs": [],
   "source": [
    "# Drop columns that are not needed for the analysis\n",
    "migraine_data.drop(columns=['measure_id', 'location_id', 'sex_id', 'age_id', 'cause_id', 'metric_id'], inplace=True)\n",
    "migraine_data.shape"
   ]
  },
  {
   "cell_type": "markdown",
   "metadata": {},
   "source": [
    "### 4.2 Handle Missing Values"
   ]
  },
  {
   "cell_type": "markdown",
   "metadata": {},
   "source": [
    "#### 4.2.1 DataFrame: `city_data`"
   ]
  },
  {
   "cell_type": "code",
   "execution_count": null,
   "metadata": {},
   "outputs": [],
   "source": [
    "# Check for missing values\n",
    "print(\"\\nCity:\\n\")\n",
    "print(city_data.isnull().sum())"
   ]
  },
  {
   "cell_type": "markdown",
   "metadata": {},
   "source": [
    "#### 4.2.2 DataFrame: `country_data`"
   ]
  },
  {
   "cell_type": "code",
   "execution_count": null,
   "metadata": {},
   "outputs": [],
   "source": [
    "# Check for missing values\n",
    "print(\"\\nCountry:\\n\")\n",
    "print(country_data.isnull().sum())"
   ]
  },
  {
   "cell_type": "markdown",
   "metadata": {},
   "source": [
    "#### 4.2.3 DataFrame: `weather_data`"
   ]
  },
  {
   "cell_type": "code",
   "execution_count": null,
   "metadata": {},
   "outputs": [],
   "source": [
    "# Check for missing values\n",
    "print(\"\\nWeather:\\n\")\n",
    "print(weather_data.isnull().sum())\n",
    "\n",
    "# weather_data.drop_duplicates(inplace=True)\n",
    "# weather_data.shape\n",
    "# weather_data.isnull().sum()"
   ]
  },
  {
   "cell_type": "markdown",
   "metadata": {},
   "source": [
    "#### 4.2.4 DataFrame: `migraine_data`"
   ]
  },
  {
   "cell_type": "code",
   "execution_count": null,
   "metadata": {},
   "outputs": [],
   "source": [
    "# Check for missing values\n",
    "print(\"\\nMigraine:\\n\")\n",
    "print(migraine_data.isnull().sum())"
   ]
  },
  {
   "cell_type": "markdown",
   "metadata": {},
   "source": [
    "### 4.3 Aggregate Weather Data to Annual Level"
   ]
  },
  {
   "cell_type": "markdown",
   "metadata": {},
   "source": [
    "Given that the migraine data is annual, we need to aggregate the weather data to the annual level as well. We will do this by taking the mean of the weather data for each year."
   ]
  },
  {
   "cell_type": "code",
   "execution_count": null,
   "metadata": {},
   "outputs": [],
   "source": [
    "# Code for aggregating weather data\n"
   ]
  },
  {
   "cell_type": "markdown",
   "metadata": {},
   "source": [
    "## 5. Data Integration"
   ]
  },
  {
   "cell_type": "markdown",
   "metadata": {},
   "source": [
    "### 5.1 Join Countries and Cities Tables"
   ]
  },
  {
   "cell_type": "markdown",
   "metadata": {},
   "source": [
    "Join the countries and cities tables on the `country` column to give more context to the weather data."
   ]
  },
  {
   "cell_type": "code",
   "execution_count": null,
   "metadata": {},
   "outputs": [],
   "source": [
    "# Code for joining countries and cities\n",
    "city_country = city_data.merge(country_data, \n",
    "                               how='left', \n",
    "                               left_on=['country', 'iso2', 'iso3'], \n",
    "                               right_on=['country', 'iso2', 'iso3']\n",
    "                               )\n",
    "\n",
    "# Review the shape of the new dataframe\n",
    "city_country.head()"
   ]
  },
  {
   "cell_type": "markdown",
   "metadata": {},
   "source": [
    "### 5.2 Join Weather Data with Countries and Cities"
   ]
  },
  {
   "cell_type": "markdown",
   "metadata": {},
   "source": [
    "Join the weather data with the combined countries and cities tables on the `station_id` column."
   ]
  },
  {
   "cell_type": "code",
   "execution_count": null,
   "metadata": {},
   "outputs": [],
   "source": [
    "# Combine city/country with daily weather data\n",
    "combined_weather = weather_data.merge(city_country, \n",
    "                                      how='left', \n",
    "                                      left_on=['station_id', 'city_name'], \n",
    "                                      right_on=['station_id', 'city_name']\n",
    ")\n",
    "\n",
    "# Review the shape of the new dataframe\n",
    "combined_weather.shape"
   ]
  },
  {
   "cell_type": "code",
   "execution_count": null,
   "metadata": {},
   "outputs": [],
   "source": [
    "# Filter the combined weather data to only include the US\n",
    "usa_weather = combined_weather[combined_weather['iso3'] == 'USA']\n",
    "\n",
    "# Review the shape of the new dataframe\n",
    "usa_weather.shape\n",
    "\n",
    "# Check for missing values\n",
    "usa_weather.isnull().sum()\n",
    "\n",
    "# Backfill missing values\n",
    "usa_weather_bfill = usa_weather.bfill()\n",
    "usa_weather_bfill.info()"
   ]
  },
  {
   "cell_type": "markdown",
   "metadata": {},
   "source": [
    "### 5.3 Join Migraine Data with Weather Data"
   ]
  },
  {
   "cell_type": "markdown",
   "metadata": {},
   "source": [
    "Finally, join the migraine data with the combined weather data (countries, cities, daily weather) on the `city_name` column from weather data and on the `location_name` column from the migraine data."
   ]
  },
  {
   "cell_type": "code",
   "execution_count": null,
   "metadata": {},
   "outputs": [],
   "source": [
    "# Combine USA combined weather with migraine data\n",
    "weather_migraine = usa_weather.merge(migraine_data, \n",
    "                                      how='left', \n",
    "                                      left_on='city_name', \n",
    "                                      right_on='location_name'\n",
    "                                      )\n",
    "\n",
    "# Review the shape of the new dataframe\n",
    "weather_migraine.shape"
   ]
  },
  {
   "cell_type": "markdown",
   "metadata": {},
   "source": [
    "## 6. Feature Engineering"
   ]
  },
  {
   "cell_type": "markdown",
   "metadata": {},
   "source": [
    "Discussing any new features that were created and why they were created. Also, discuss any features that were dropped and why they were dropped."
   ]
  },
  {
   "cell_type": "code",
   "execution_count": null,
   "metadata": {},
   "outputs": [],
   "source": [
    "# Code for feature engineering\n"
   ]
  },
  {
   "cell_type": "markdown",
   "metadata": {},
   "source": [
    "## 7. Summary"
   ]
  },
  {
   "cell_type": "markdown",
   "metadata": {},
   "source": [
    "Summarize the data preprocessing steps that were taken in this notebook."
   ]
  },
  {
   "cell_type": "markdown",
   "metadata": {},
   "source": [
    "## 8. Next Steps"
   ]
  },
  {
   "cell_type": "markdown",
   "metadata": {},
   "source": [
    "Discuss any next steps that should be taken in the data analysis process/modeling phases."
   ]
  }
 ],
 "metadata": {
  "kernelspec": {
   "display_name": "Python 3",
   "language": "python",
   "name": "python3"
  },
  "language_info": {
   "codemirror_mode": {
    "name": "ipython",
    "version": 3
   },
   "file_extension": ".py",
   "mimetype": "text/x-python",
   "name": "python",
   "nbconvert_exporter": "python",
   "pygments_lexer": "ipython3",
   "version": "3.12.0"
  }
 },
 "nbformat": 4,
 "nbformat_minor": 2
}
